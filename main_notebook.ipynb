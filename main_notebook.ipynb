{
 "cells": [
  {
   "cell_type": "code",
   "execution_count": 3,
   "outputs": [],
   "source": [
    "# basic imports\n",
    "import numpy as np\n",
    "import pandas as pd\n",
    "\n",
    "# demos for visualization\n",
    "from nilearn import datasets\n",
    "from nilearn import plotting\n",
    "from nilearn.connectome import GroupSparseCovariance\n",
    "\n",
    "# for ML\n",
    "from sklearn.metrics import mutual_info_score\n",
    "\n",
    "# os library\n",
    "from os.path import exists, join"
   ],
   "metadata": {
    "collapsed": false,
    "pycharm": {
     "name": "#%%\n"
    }
   }
  },
  {
   "cell_type": "code",
   "execution_count": 4,
   "id": "blessed-register",
   "metadata": {
    "execution": {
     "iopub.execute_input": "2021-06-28T09:53:27.478513Z",
     "iopub.status.busy": "2021-06-28T09:53:27.474676Z",
     "iopub.status.idle": "2021-06-28T09:53:35.422989Z",
     "shell.execute_reply": "2021-06-28T09:53:35.421589Z",
     "shell.execute_reply.started": "2021-06-28T06:49:00.608859Z"
    },
    "papermill": {
     "duration": 7.970231,
     "end_time": "2021-06-28T09:53:35.423239",
     "exception": false,
     "start_time": "2021-06-28T09:53:27.453008",
     "status": "completed"
    },
    "tags": []
   },
   "outputs": [],
   "source": [
    "data_path = join(\".\", \"data\") if exists(join(\".\", \"data\")) \\\n",
    "    else join(\"..\", \"input\", \"statistical-learning-sapienza-spring-2021\")"
   ]
  },
  {
   "cell_type": "code",
   "execution_count": 6,
   "outputs": [],
   "source": [
    "train = pd.read_csv(join(data_path, 'train.csv'))"
   ],
   "metadata": {
    "collapsed": false,
    "pycharm": {
     "name": "#%%\n"
    }
   }
  },
  {
   "cell_type": "code",
   "execution_count": 16,
   "outputs": [
    {
     "data": {
      "text/plain": "600"
     },
     "execution_count": 16,
     "metadata": {},
     "output_type": "execute_result"
    }
   ],
   "source": [
    "len(train.id.values)\n",
    "len(train.index.values)"
   ],
   "metadata": {
    "collapsed": false,
    "pycharm": {
     "name": "#%%\n"
    }
   }
  },
  {
   "cell_type": "code",
   "execution_count": null,
   "outputs": [],
   "source": [
    "single_sample = train.iloc[0, 5:]\n",
    "l = []\n",
    "for i in range(1, 116):\n",
    "    l.append([single_sample[var] for var in single_sample.index if f't{i}_' in var])\n",
    "arr = np.array(l)"
   ],
   "metadata": {
    "collapsed": false,
    "pycharm": {
     "name": "#%%\n"
    }
   }
  },
  {
   "cell_type": "code",
   "execution_count": 61,
   "outputs": [
    {
     "data": {
      "text/plain": "(1,\n 113.0,\n array([19, 'A', 'A'], dtype=object),\n array([[-0.140642002224922, 0.0755280032753944, 0.056853000074625, ...,\n         -0.295446008443832, -0.970510005950928, -0.137205004692078],\n        [-0.388161987066269, 0.240037992596626, 0.0118110002949834, ...,\n         -0.111259996891022, -0.995577991008759, -0.181759998202324],\n        [-0.574181020259857, 0.334544003009796, 0.0365899987518787, ...,\n         0.128345996141434, -0.672456026077271, -0.083906002342701],\n        ...,\n        [-0.0422939993441105, -0.0680710002779961, 0.653584003448486, ...,\n         -0.588532984256744, -0.941821992397308, -0.98057097196579],\n        [0.0573940016329288, -0.0116069996729493, 0.667846024036407, ...,\n         -0.499974995851517, -1.30358099937439, -0.377525985240936],\n        [0.116522997617722, 0.175058007240295, 0.241915002465248, ...,\n         -0.285086005926132, -1.13002598285675, 0.168243005871773]],\n       dtype=object))"
     },
     "execution_count": 61,
     "metadata": {},
     "output_type": "execute_result"
    }
   ],
   "source": [
    "def get_data(entry):\n",
    "    id = entry.id\n",
    "    variables = entry[['var1', 'var2', 'var3']].to_numpy()\n",
    "    timeseries = entry[5 if \"y\" in entry.index else 4:].to_numpy().reshape((115, 116), order=\"F\")\n",
    "    if \"y\" in entry.index: return id, entry.y, variables, timeseries\n",
    "    else: return id, variables, timeseries\n",
    "\n",
    "get_data(train.iloc[0])"
   ],
   "metadata": {
    "collapsed": false,
    "pycharm": {
     "name": "#%%\n"
    }
   }
  },
  {
   "cell_type": "code",
   "execution_count": 65,
   "outputs": [
    {
     "data": {
      "text/plain": "[(1,\n  113.0,\n  array([19, 'A', 'A'], dtype=object),\n  array([[-0.140642002224922, 0.0755280032753944, 0.056853000074625, ...,\n          -0.295446008443832, -0.970510005950928, -0.137205004692078],\n         [-0.388161987066269, 0.240037992596626, 0.0118110002949834, ...,\n          -0.111259996891022, -0.995577991008759, -0.181759998202324],\n         [-0.574181020259857, 0.334544003009796, 0.0365899987518787, ...,\n          0.128345996141434, -0.672456026077271, -0.083906002342701],\n         ...,\n         [-0.0422939993441105, -0.0680710002779961, 0.653584003448486, ...,\n          -0.588532984256744, -0.941821992397308, -0.98057097196579],\n         [0.0573940016329288, -0.0116069996729493, 0.667846024036407, ...,\n          -0.499974995851517, -1.30358099937439, -0.377525985240936],\n         [0.116522997617722, 0.175058007240295, 0.241915002465248, ...,\n          -0.285086005926132, -1.13002598285675, 0.168243005871773]],\n        dtype=object)),\n (2,\n  119.0,\n  array([14, 'C', 'A'], dtype=object),\n  array([[0.0237540006637573, -0.119165003299713, -0.152716994285583, ...,\n          -0.518998026847839, 1.36734902858734, -0.90352201461792],\n         [-0.105455003678799, -0.157781004905701, -0.200075998902321, ...,\n          -0.766887009143829, 1.79039394855499, -0.141947001218796],\n         [-0.245024994015694, -0.153842002153397, -0.141442999243736, ...,\n          -0.600045025348663, 1.53425395488739, 0.925804018974304],\n         ...,\n         [-0.0571359992027283, 0.0078180003911256, 0.29323598742485, ...,\n          0.407402992248535, 1.9194769859314, -0.913405001163483],\n         [-0.165584996342659, 0.131303995847702, 0.127828001976013, ...,\n          0.500230014324188, 1.41997599601746, -0.854942977428436],\n         [-0.145840004086494, 0.199083998799324, -0.0118310004472733, ...,\n          0.428894996643066, 0.305440008640289, -0.193468004465103]],\n        dtype=object)),\n (3,\n  109.0,\n  array([13, 'A', 'A'], dtype=object),\n  array([[0.180818006396294, -0.133972004055977, -0.194097995758057, ...,\n          0.725072979927063, 0.0922729969024658, 0.209797993302345],\n         [0.135003998875618, -0.368885010480881, -0.171394005417824, ...,\n          0.832687020301819, 0.0553300008177757, 0.393597990274429],\n         [0.0018789999885484, -0.512893974781036, -0.0563010014593601, ...,\n          0.640590012073517, -0.255962997674942, 0.594426989555359],\n         ...,\n         [-0.534350991249084, -0.82558399438858, 0.201331004500389, ...,\n          0.843806028366089, 0.464969992637634, 0.935899972915649],\n         [-0.529214024543762, -0.796397984027863, -0.119327001273632, ...,\n          1.00460600852966, 0.688214004039764, 1.5505119562149],\n         [-0.245279997587204, -0.449687004089355, -0.279619991779327, ...,\n          0.689670026302338, 0.538368999958038, 1.40534996986389]],\n        dtype=object))]"
     },
     "execution_count": 65,
     "metadata": {},
     "output_type": "execute_result"
    }
   ],
   "source": [
    "train[:3].apply(get_data, axis=1).to_list()"
   ],
   "metadata": {
    "collapsed": false,
    "pycharm": {
     "name": "#%%\n"
    }
   }
  },
  {
   "cell_type": "code",
   "execution_count": 28,
   "outputs": [
    {
     "data": {
      "text/plain": "116.0"
     },
     "execution_count": 28,
     "metadata": {},
     "output_type": "execute_result"
    }
   ],
   "source": [
    "len(train.iloc[0, 5:])/115"
   ],
   "metadata": {
    "collapsed": false,
    "pycharm": {
     "name": "#%%\n"
    }
   }
  },
  {
   "cell_type": "code",
   "execution_count": 54,
   "outputs": [],
   "source": [
    "vec = train.iloc[0, 5:].index.to_numpy()"
   ],
   "metadata": {
    "collapsed": false,
    "pycharm": {
     "name": "#%%\n"
    }
   }
  },
  {
   "cell_type": "code",
   "execution_count": 56,
   "outputs": [
    {
     "data": {
      "text/plain": "array([['t1_2001', 't1_2002', 't1_2101', ..., 't1_9150', 't1_9160',\n        't1_9170'],\n       ['t2_2001', 't2_2002', 't2_2101', ..., 't2_9150', 't2_9160',\n        't2_9170'],\n       ['t3_2001', 't3_2002', 't3_2101', ..., 't3_9150', 't3_9160',\n        't3_9170'],\n       ...,\n       ['t113_2001', 't113_2002', 't113_2101', ..., 't113_9150',\n        't113_9160', 't113_9170'],\n       ['t114_2001', 't114_2002', 't114_2101', ..., 't114_9150',\n        't114_9160', 't114_9170'],\n       ['t115_2001', 't115_2002', 't115_2101', ..., 't115_9150',\n        't115_9160', 't115_9170']], dtype=object)"
     },
     "execution_count": 56,
     "metadata": {},
     "output_type": "execute_result"
    }
   ],
   "source": [
    "vec.reshape((115, 116), order=\"F\")"
   ],
   "metadata": {
    "collapsed": false,
    "pycharm": {
     "name": "#%%\n"
    }
   }
  },
  {
   "cell_type": "code",
   "execution_count": 46,
   "outputs": [],
   "source": [
    "vec"
   ],
   "metadata": {
    "collapsed": false,
    "pycharm": {
     "name": "#%%\n"
    }
   }
  },
  {
   "cell_type": "code",
   "execution_count": null,
   "outputs": [],
   "source": [
    "GroupSparseCovariance()\n"
   ],
   "metadata": {
    "collapsed": false,
    "pycharm": {
     "name": "#%%\n"
    }
   }
  }
 ],
 "metadata": {
  "kernelspec": {
   "display_name": "Python 3",
   "language": "python",
   "name": "python3"
  },
  "language_info": {
   "codemirror_mode": {
    "name": "ipython",
    "version": 3
   },
   "file_extension": ".py",
   "mimetype": "text/x-python",
   "name": "python",
   "nbconvert_exporter": "python",
   "pygments_lexer": "ipython3",
   "version": "3.7.10"
  },
  "papermill": {
   "default_parameters": {},
   "duration": 28.082509,
   "end_time": "2021-06-28T09:53:45.178880",
   "environment_variables": {},
   "exception": null,
   "input_path": "__notebook__.ipynb",
   "output_path": "__notebook__.ipynb",
   "parameters": {},
   "start_time": "2021-06-28T09:53:17.096371",
   "version": "2.3.3"
  }
 },
 "nbformat": 4,
 "nbformat_minor": 5
}