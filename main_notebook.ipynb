{
 "cells": [
  {
   "cell_type": "code",
   "execution_count": 3,
   "outputs": [],
   "source": [
    "# basic imports\n",
    "import numpy as np\n",
    "import pandas as pd\n",
    "\n",
    "# demos for visualization\n",
    "from nilearn import datasets\n",
    "from nilearn import plotting\n",
    "from nilearn.connectome import GroupSparseCovariance\n",
    "\n",
    "# for ML\n",
    "from sklearn.metrics import mutual_info_score\n",
    "\n",
    "# os library\n",
    "from os.path import exists, join"
   ],
   "metadata": {
    "collapsed": false,
    "pycharm": {
     "name": "#%%\n"
    }
   }
  },
  {
   "cell_type": "code",
   "execution_count": 4,
   "id": "blessed-register",
   "metadata": {
    "execution": {
     "iopub.execute_input": "2021-06-28T09:53:27.478513Z",
     "iopub.status.busy": "2021-06-28T09:53:27.474676Z",
     "iopub.status.idle": "2021-06-28T09:53:35.422989Z",
     "shell.execute_reply": "2021-06-28T09:53:35.421589Z",
     "shell.execute_reply.started": "2021-06-28T06:49:00.608859Z"
    },
    "papermill": {
     "duration": 7.970231,
     "end_time": "2021-06-28T09:53:35.423239",
     "exception": false,
     "start_time": "2021-06-28T09:53:27.453008",
     "status": "completed"
    },
    "tags": []
   },
   "outputs": [],
   "source": [
    "data_path = join(\".\", \"data\") if exists(join(\".\", \"data\")) \\\n",
    "    else join(\"..\", \"input\", \"statistical-learning-sapienza-spring-2021\")"
   ]
  },
  {
   "cell_type": "code",
   "execution_count": 6,
   "outputs": [],
   "source": [
    "train = pd.read_csv(join(data_path, 'train.csv'))"
   ],
   "metadata": {
    "collapsed": false,
    "pycharm": {
     "name": "#%%\n"
    }
   }
  },
  {
   "cell_type": "code",
   "execution_count": 16,
   "outputs": [
    {
     "data": {
      "text/plain": "600"
     },
     "execution_count": 16,
     "metadata": {},
     "output_type": "execute_result"
    }
   ],
   "source": [
    "len(train.id.values)\n",
    "len(train.index.values)"
   ],
   "metadata": {
    "collapsed": false,
    "pycharm": {
     "name": "#%%\n"
    }
   }
  },
  {
   "cell_type": "code",
   "execution_count": null,
   "outputs": [],
   "source": [
    "single_sample = train.iloc[0, 5:]\n",
    "l = []\n",
    "for i in range(1, 116):\n",
    "    l.append([single_sample[var] for var in single_sample.index if f't{i}_' in var])\n",
    "arr = np.array(l)"
   ],
   "metadata": {
    "collapsed": false,
    "pycharm": {
     "name": "#%%\n"
    }
   }
  },
  {
   "cell_type": "code",
   "execution_count": 61,
   "outputs": [
    {
     "data": {
      "text/plain": "(1,\n 113.0,\n array([19, 'A', 'A'], dtype=object),\n array([[-0.140642002224922, 0.0755280032753944, 0.056853000074625, ...,\n         -0.295446008443832, -0.970510005950928, -0.137205004692078],\n        [-0.388161987066269, 0.240037992596626, 0.0118110002949834, ...,\n         -0.111259996891022, -0.995577991008759, -0.181759998202324],\n        [-0.574181020259857, 0.334544003009796, 0.0365899987518787, ...,\n         0.128345996141434, -0.672456026077271, -0.083906002342701],\n        ...,\n        [-0.0422939993441105, -0.0680710002779961, 0.653584003448486, ...,\n         -0.588532984256744, -0.941821992397308, -0.98057097196579],\n        [0.0573940016329288, -0.0116069996729493, 0.667846024036407, ...,\n         -0.499974995851517, -1.30358099937439, -0.377525985240936],\n        [0.116522997617722, 0.175058007240295, 0.241915002465248, ...,\n         -0.285086005926132, -1.13002598285675, 0.168243005871773]],\n       dtype=object))"
     },
     "execution_count": 61,
     "metadata": {},
     "output_type": "execute_result"
    }
   ],
   "source": [
    "def get_data(entry):\n",
    "    id = entry.id\n",
    "    variables = entry[['var1', 'var2', 'var3']].to_numpy()\n",
    "    timeseries = entry[5 if \"y\" in entry.index else 4:].to_numpy().reshape((115, 116), order=\"F\")\n",
    "    if \"y\" in entry.index: return id, entry.y, variables, timeseries\n",
    "    else: return id, variables, timeseries\n",
    "\n",
    "get_data(train.iloc[0])"
   ],
   "metadata": {
    "collapsed": false,
    "pycharm": {
     "name": "#%%\n"
    }
   }
  },
  {
   "cell_type": "code",
   "execution_count": 28,
   "outputs": [
    {
     "data": {
      "text/plain": "116.0"
     },
     "execution_count": 28,
     "metadata": {},
     "output_type": "execute_result"
    }
   ],
   "source": [
    "len(train.iloc[0, 5:])/115"
   ],
   "metadata": {
    "collapsed": false,
    "pycharm": {
     "name": "#%%\n"
    }
   }
  },
  {
   "cell_type": "code",
   "execution_count": 54,
   "outputs": [],
   "source": [
    "vec = train.iloc[0, 5:].index.to_numpy()"
   ],
   "metadata": {
    "collapsed": false,
    "pycharm": {
     "name": "#%%\n"
    }
   }
  },
  {
   "cell_type": "code",
   "execution_count": 56,
   "outputs": [
    {
     "data": {
      "text/plain": "array([['t1_2001', 't1_2002', 't1_2101', ..., 't1_9150', 't1_9160',\n        't1_9170'],\n       ['t2_2001', 't2_2002', 't2_2101', ..., 't2_9150', 't2_9160',\n        't2_9170'],\n       ['t3_2001', 't3_2002', 't3_2101', ..., 't3_9150', 't3_9160',\n        't3_9170'],\n       ...,\n       ['t113_2001', 't113_2002', 't113_2101', ..., 't113_9150',\n        't113_9160', 't113_9170'],\n       ['t114_2001', 't114_2002', 't114_2101', ..., 't114_9150',\n        't114_9160', 't114_9170'],\n       ['t115_2001', 't115_2002', 't115_2101', ..., 't115_9150',\n        't115_9160', 't115_9170']], dtype=object)"
     },
     "execution_count": 56,
     "metadata": {},
     "output_type": "execute_result"
    }
   ],
   "source": [
    "vec.reshape((115, 116), order=\"F\")"
   ],
   "metadata": {
    "collapsed": false,
    "pycharm": {
     "name": "#%%\n"
    }
   }
  },
  {
   "cell_type": "code",
   "execution_count": 46,
   "outputs": [],
   "source": [
    "vec"
   ],
   "metadata": {
    "collapsed": false,
    "pycharm": {
     "name": "#%%\n"
    }
   }
  },
  {
   "cell_type": "code",
   "execution_count": null,
   "outputs": [],
   "source": [
    "GroupSparseCovariance()\n"
   ],
   "metadata": {
    "collapsed": false,
    "pycharm": {
     "name": "#%%\n"
    }
   }
  }
 ],
 "metadata": {
  "kernelspec": {
   "display_name": "Python 3",
   "language": "python",
   "name": "python3"
  },
  "language_info": {
   "codemirror_mode": {
    "name": "ipython",
    "version": 3
   },
   "file_extension": ".py",
   "mimetype": "text/x-python",
   "name": "python",
   "nbconvert_exporter": "python",
   "pygments_lexer": "ipython3",
   "version": "3.7.10"
  },
  "papermill": {
   "default_parameters": {},
   "duration": 28.082509,
   "end_time": "2021-06-28T09:53:45.178880",
   "environment_variables": {},
   "exception": null,
   "input_path": "__notebook__.ipynb",
   "output_path": "__notebook__.ipynb",
   "parameters": {},
   "start_time": "2021-06-28T09:53:17.096371",
   "version": "2.3.3"
  }
 },
 "nbformat": 4,
 "nbformat_minor": 5
}