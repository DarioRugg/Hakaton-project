{
 "cells": [
  {
   "cell_type": "code",
   "execution_count": 1,
   "outputs": [
    {
     "name": "stderr",
     "output_type": "stream",
     "text": [
      "C:\\ProgramData\\Anaconda3\\envs\\SLHaka\\lib\\site-packages\\nilearn\\datasets\\__init__.py:86: FutureWarning: Fetchers from the nilearn.datasets module will be updated in version 0.9 to return python strings instead of bytes and Pandas dataframes instead of Numpy arrays.\n",
      "  warn(\"Fetchers from the nilearn.datasets module will be \"\n"
     ]
    },
    {
     "data": {
      "text/plain": "<torch._C.Generator at 0x2299ec9d270>"
     },
     "execution_count": 1,
     "metadata": {},
     "output_type": "execute_result"
    }
   ],
   "source": [
    "# basic imports\n",
    "import numpy as np\n",
    "import pandas as pd\n",
    "from time import time\n",
    "from os.path import exists, join\n",
    "\n",
    "# plotting and visualization\n",
    "from nilearn import datasets\n",
    "from nilearn import plotting\n",
    "from nilearn.connectome import ConnectivityMeasure\n",
    "\n",
    "import matplotlib.pyplot as plt\n",
    "\n",
    "# for ML\n",
    "from sklearn.model_selection import train_test_split\n",
    "from sklearn.decomposition import KernelPCA\n",
    "\n",
    "import torch\n",
    "import torch.nn as nn\n",
    "from torch.utils.data import TensorDataset, DataLoader\n",
    "\n",
    "np.random.seed(1679838)\n",
    "torch.manual_seed(1679838)"
   ],
   "metadata": {
    "collapsed": false,
    "pycharm": {
     "name": "#%%\n"
    }
   }
  },
  {
   "cell_type": "code",
   "execution_count": 2,
   "id": "blessed-register",
   "metadata": {
    "execution": {
     "iopub.execute_input": "2021-06-28T09:53:27.478513Z",
     "iopub.status.busy": "2021-06-28T09:53:27.474676Z",
     "iopub.status.idle": "2021-06-28T09:53:35.422989Z",
     "shell.execute_reply": "2021-06-28T09:53:35.421589Z",
     "shell.execute_reply.started": "2021-06-28T06:49:00.608859Z"
    },
    "papermill": {
     "duration": 7.970231,
     "end_time": "2021-06-28T09:53:35.423239",
     "exception": false,
     "start_time": "2021-06-28T09:53:27.453008",
     "status": "completed"
    },
    "tags": []
   },
   "outputs": [],
   "source": [
    "data_path = join(\".\", \"data\") if exists(join(\".\", \"data\")) \\\n",
    "    else join(\"..\", \"input\", \"statistical-learning-sapienza-spring-2021\")"
   ]
  },
  {
   "cell_type": "code",
   "execution_count": 3,
   "outputs": [],
   "source": [
    "train = pd.read_csv(join(data_path, 'train.csv'))\n",
    "test = pd.read_csv(join(data_path, 'test.csv'))"
   ],
   "metadata": {
    "collapsed": false,
    "pycharm": {
     "name": "#%%\n"
    }
   }
  },
  {
   "cell_type": "markdown",
   "source": [
    "### Splitting"
   ],
   "metadata": {
    "collapsed": false,
    "pycharm": {
     "name": "#%% md\n"
    }
   }
  },
  {
   "cell_type": "code",
   "execution_count": 4,
   "outputs": [],
   "source": [
    "train_split, val_split = train_test_split(train, test_size=0.0333, random_state=42)\n",
    "\n",
    "train_split.reset_index(drop=True, inplace=True)\n",
    "val_split.reset_index(drop=True, inplace=True)"
   ],
   "metadata": {
    "collapsed": false,
    "pycharm": {
     "name": "#%%\n"
    }
   }
  },
  {
   "cell_type": "code",
   "execution_count": 5,
   "outputs": [],
   "source": [
    "def get_data(entry):\n",
    "    variables = entry[['var1', 'var2', 'var3']].replace({\"A\": 0, \"C\": 1}).to_numpy()\n",
    "    timeseries = entry[5 if \"y\" in entry.index else 4:].to_numpy(dtype=float).reshape((115, 116), order=\"F\")\n",
    "    return {\"variables\": variables, \"timeseries\": timeseries}\n",
    "\n",
    "train_timeseries = train_split.apply(lambda row: get_data(row)[\"timeseries\"], axis=1).to_list()\n",
    "val_timeseries = val_split.apply(lambda row: get_data(row)[\"timeseries\"], axis=1).to_list()\n",
    "train_variables = train_split.apply(lambda row: get_data(row)[\"variables\"], axis=1).to_list()\n",
    "val_variables = val_split.apply(lambda row: get_data(row)[\"variables\"], axis=1).to_list()\n",
    "\n",
    "test_timeseries = test.apply(lambda row: get_data(row)[\"timeseries\"], axis=1).to_list()\n",
    "test_variables = test.apply(lambda row: get_data(row)[\"variables\"], axis=1).to_list()"
   ],
   "metadata": {
    "collapsed": false,
    "pycharm": {
     "name": "#%%\n"
    }
   }
  },
  {
   "cell_type": "markdown",
   "source": [
    "## Correlation matrices and PCA"
   ],
   "metadata": {
    "collapsed": false,
    "pycharm": {
     "name": "#%% md\n"
    }
   }
  },
  {
   "cell_type": "code",
   "execution_count": 6,
   "outputs": [],
   "source": [
    "def apply_connectivity(time_series, vect=True, diag=True):\n",
    "    # objects:\n",
    "    correlation_measure = ConnectivityMeasure(kind=\"tangent\",  # 'partial correlation',\n",
    "                                              vectorize = vect,\n",
    "                                              discard_diagonal=diag)\n",
    "    pca_model = KernelPCA(kernel='rbf', n_components=16)\n",
    "\n",
    "    # fitting predicting:\n",
    "    cor_mat = correlation_measure.fit_transform(time_series)\n",
    "    # pca_model.fit(cor_mat)\n",
    "    reduced_cor = pca_model.fit_transform(cor_mat)\n",
    "    return pd.DataFrame(reduced_cor).add_prefix('cor_')\n",
    "\n",
    "train_cor_vec = apply_connectivity(train_timeseries)\n",
    "val_cor_vec = apply_connectivity(val_timeseries)\n",
    "\n",
    "test_cor_vec = apply_connectivity(test_timeseries)"
   ],
   "metadata": {
    "collapsed": false,
    "pycharm": {
     "name": "#%%\n"
    }
   }
  },
  {
   "cell_type": "code",
   "execution_count": 7,
   "outputs": [],
   "source": [
    "train_var_and_cor = pd.concat([pd.DataFrame(train_variables).add_prefix('var_'), train_cor_vec], axis=1)\n",
    "val_var_and_cor = pd.concat([pd.DataFrame(val_variables).add_prefix('var_'), val_cor_vec], axis=1)\n",
    "\n",
    "test_var_and_cor = pd.concat([pd.DataFrame(test_variables).add_prefix('var_'), test_cor_vec], axis=1)"
   ],
   "metadata": {
    "collapsed": false,
    "pycharm": {
     "name": "#%%\n"
    }
   }
  },
  {
   "cell_type": "markdown",
   "source": [
    "### Data loaders"
   ],
   "metadata": {
    "collapsed": false,
    "pycharm": {
     "name": "#%% md\n"
    }
   }
  },
  {
   "cell_type": "code",
   "execution_count": 8,
   "outputs": [],
   "source": [
    "def get_dataloader(timeseries, variables_correlation, labels):\n",
    "    return DataLoader(TensorDataset(torch.Tensor(timeseries),torch.Tensor(variables_correlation),\n",
    "                                    torch.Tensor(labels)), batch_size=20) # create your dataloader\n",
    "\n",
    "train_dataloader = get_dataloader(train_timeseries, train_var_and_cor.to_numpy(), train_split.y.to_numpy())\n",
    "val_dataloader = get_dataloader(val_timeseries, val_var_and_cor.to_numpy(), val_split.y.to_numpy())"
   ],
   "metadata": {
    "collapsed": false,
    "pycharm": {
     "name": "#%%\n"
    }
   }
  },
  {
   "cell_type": "markdown",
   "source": [
    "## Model"
   ],
   "metadata": {
    "collapsed": false,
    "pycharm": {
     "name": "#%% md\n"
    }
   }
  },
  {
   "cell_type": "code",
   "execution_count": 29,
   "outputs": [],
   "source": [
    "class BlackEmbedding(nn.Module):\n",
    "    def __init__(self, hidden_size, num_layers):\n",
    "        super().__init__()\n",
    "        self.rnn_model = nn.RNN(input_size=116, hidden_size=hidden_size, num_layers=num_layers, dropout=0.005, batch_first=True)\n",
    "\n",
    "        self.fc1 = nn.Sequential(nn.Linear(3+16+(hidden_size*(1+num_layers)), 32),\n",
    "                                 nn.ReLU())\n",
    "                                 # nn.Dropout(0.01))\n",
    "        self.fc2 = nn.Sequential(nn.Linear(32, 32),\n",
    "                                 nn.ReLU())\n",
    "                                 # nn.Dropout(0.005))\n",
    "\n",
    "        self.regressor = nn.Linear(32, 1)\n",
    "\n",
    "    def forward(self, x, var_and_cor, predict_anyway=False):\n",
    "        # var_and_cor = var_and_cor[:, :3]\n",
    "\n",
    "        # time series:\n",
    "        outputs, hidden = self.rnn_model(x)\n",
    "        hidden = torch.cat(list(map(lambda i: hidden[i, ], range(hidden.shape[0]))), dim=-1)\n",
    "\n",
    "        x = torch.cat([var_and_cor, outputs[:, -1, ], hidden], dim=-1)  # taking only the last\n",
    "\n",
    "        x = self.fc1(x)\n",
    "        x = self.fc2(x)\n",
    "\n",
    "        if self.training or predict_anyway:\n",
    "            x = self.regressor(x)\n",
    "\n",
    "        return x.squeeze(dim=1)\n",
    "\n",
    "model = BlackEmbedding(hidden_size=64, num_layers=3)\n",
    "optimizer = torch.optim.Adam(model.parameters(), lr=0.0005)\n",
    "scheduler = torch.optim.lr_scheduler.MultiStepLR(optimizer, milestones=[5, 12, 40], gamma=0.9)\n",
    "criterion = nn.MSELoss()"
   ],
   "metadata": {
    "collapsed": false,
    "pycharm": {
     "name": "#%%\n"
    }
   }
  },
  {
   "cell_type": "markdown",
   "source": [
    "## Training"
   ],
   "metadata": {
    "collapsed": false,
    "pycharm": {
     "name": "#%% md\n"
    }
   }
  },
  {
   "cell_type": "code",
   "execution_count": 30,
   "outputs": [
    {
     "name": "stdout",
     "output_type": "stream",
     "text": [
      "\n",
      "------> Epoch 1 <------\n",
      "    Train RMSE loss: 109.03999042510986\n",
      "    Val   RMSE loss: 107.3597640991211\n",
      "\n",
      "------> Epoch 2 <------\n",
      "    Train RMSE loss: 101.13809847831726\n",
      "    Val   RMSE loss: 92.09324645996094\n",
      "\n",
      "------> Epoch 3 <------\n",
      "    Train RMSE loss: 74.80802083015442\n",
      "    Val   RMSE loss: 54.28483963012695\n",
      "\n",
      "------> Epoch 4 <------\n",
      "    Train RMSE loss: 34.50653499364853\n",
      "    Val   RMSE loss: 19.818279266357422\n",
      "\n",
      "------> Epoch 5 <------\n",
      "    Train RMSE loss: 18.564527213573456\n",
      "    Val   RMSE loss: 18.640655517578125\n",
      "\n",
      "------> Epoch 6 <------\n",
      "    Train RMSE loss: 18.467590540647507\n",
      "    Val   RMSE loss: 18.16800308227539\n",
      "\n",
      "------> Epoch 7 <------\n",
      "    Train RMSE loss: 17.61947214603424\n",
      "    Val   RMSE loss: 17.666427612304688\n",
      "\n",
      "------> Epoch 8 <------\n",
      "    Train RMSE loss: 17.13859537243843\n",
      "    Val   RMSE loss: 17.30324363708496\n",
      "\n",
      "------> Epoch 9 <------\n",
      "    Train RMSE loss: 17.02143207192421\n",
      "    Val   RMSE loss: 16.90299415588379\n",
      "\n",
      "------> Epoch 10 <------\n",
      "    Train RMSE loss: 16.339134991168976\n",
      "    Val   RMSE loss: 16.588619232177734\n",
      "\n",
      "------> Epoch 11 <------\n",
      "    Train RMSE loss: 16.207583844661713\n",
      "    Val   RMSE loss: 16.377574920654297\n",
      "\n",
      "------> Epoch 12 <------\n",
      "    Train RMSE loss: 16.00371640920639\n",
      "    Val   RMSE loss: 16.044485092163086\n",
      "\n",
      "------> Epoch 13 <------\n",
      "    Train RMSE loss: 15.831758111715317\n",
      "    Val   RMSE loss: 15.730731964111328\n",
      "\n",
      "------> Epoch 14 <------\n",
      "    Train RMSE loss: 15.535844594240189\n",
      "    Val   RMSE loss: 15.406633377075195\n",
      "\n",
      "------> Epoch 15 <------\n",
      "    Train RMSE loss: 15.456043779850006\n",
      "    Val   RMSE loss: 15.119766235351562\n",
      "\n",
      "------> Epoch 16 <------\n",
      "    Train RMSE loss: 15.175158739089966\n",
      "    Val   RMSE loss: 15.816422462463379\n",
      "\n",
      "------> Epoch 17 <------\n",
      "    Train RMSE loss: 15.044970601797104\n",
      "    Val   RMSE loss: 15.462430000305176\n",
      "\n",
      "------> Epoch 18 <------\n",
      "    Train RMSE loss: 14.864282667636871\n",
      "    Val   RMSE loss: 15.137550354003906\n",
      "\n",
      "------> Epoch 19 <------\n",
      "    Train RMSE loss: 14.740972429513931\n",
      "    Val   RMSE loss: 14.855289459228516\n",
      "\n",
      "------> Epoch 20 <------\n",
      "    Train RMSE loss: 14.594873279333115\n",
      "    Val   RMSE loss: 14.611306190490723\n",
      "\n",
      "------> Epoch 21 <------\n",
      "    Train RMSE loss: 14.483179032802582\n",
      "    Val   RMSE loss: 14.409438133239746\n",
      "\n",
      "------> Epoch 22 <------\n",
      "    Train RMSE loss: 14.389677584171295\n",
      "    Val   RMSE loss: 14.220840454101562\n",
      "\n",
      "------> Epoch 23 <------\n",
      "    Train RMSE loss: 14.2987280189991\n",
      "    Val   RMSE loss: 14.090770721435547\n",
      "\n",
      "------> Epoch 24 <------\n",
      "    Train RMSE loss: 14.23117059469223\n",
      "    Val   RMSE loss: 13.987884521484375\n",
      "\n",
      "------> Epoch 25 <------\n",
      "    Train RMSE loss: 14.166325956583023\n",
      "    Val   RMSE loss: 13.907537460327148\n",
      "\n",
      "------> Epoch 26 <------\n",
      "    Train RMSE loss: 14.265511095523834\n",
      "    Val   RMSE loss: 17.596923828125\n",
      "\n",
      "------> Epoch 27 <------\n",
      "    Train RMSE loss: 14.184280127286911\n",
      "    Val   RMSE loss: 16.56517219543457\n",
      "\n",
      "------> Epoch 28 <------\n",
      "    Train RMSE loss: 14.080172210931778\n",
      "    Val   RMSE loss: 15.937153816223145\n",
      "\n",
      "------> Epoch 29 <------\n",
      "    Train RMSE loss: 14.0474351644516\n",
      "    Val   RMSE loss: 15.352872848510742\n",
      "\n",
      "------> Epoch 30 <------\n",
      "    Train RMSE loss: 13.966538518667221\n",
      "    Val   RMSE loss: 15.158773422241211\n",
      "\n",
      "------> Epoch 31 <------\n",
      "    Train RMSE loss: 13.908063977956772\n",
      "    Val   RMSE loss: 15.105281829833984\n",
      "\n",
      "------> Epoch 32 <------\n",
      "    Train RMSE loss: 13.842275649309158\n",
      "    Val   RMSE loss: 15.085468292236328\n",
      "\n",
      "------> Epoch 33 <------\n",
      "    Train RMSE loss: 13.78156691789627\n",
      "    Val   RMSE loss: 15.041604042053223\n",
      "\n",
      "------> Epoch 34 <------\n",
      "    Train RMSE loss: 13.712859481573105\n",
      "    Val   RMSE loss: 15.038025856018066\n",
      "\n",
      "------> Epoch 35 <------\n",
      "    Train RMSE loss: 13.632436007261276\n",
      "    Val   RMSE loss: 14.978689193725586\n",
      "\n",
      "------> Epoch 36 <------\n",
      "    Train RMSE loss: 13.558810085058212\n",
      "    Val   RMSE loss: 14.920589447021484\n",
      "\n",
      "------> Epoch 37 <------\n",
      "    Train RMSE loss: 13.49323433637619\n",
      "    Val   RMSE loss: 14.909741401672363\n",
      "\n",
      "------> Epoch 38 <------\n",
      "    Train RMSE loss: 13.408486127853394\n",
      "    Val   RMSE loss: 14.910157203674316\n",
      "\n",
      "------> Epoch 39 <------\n",
      "    Train RMSE loss: 13.328976690769196\n",
      "    Val   RMSE loss: 14.860590934753418\n",
      "\n",
      "------> Epoch 40 <------\n",
      "    Train RMSE loss: 13.281163454055786\n",
      "    Val   RMSE loss: 14.556272506713867\n",
      "\n",
      "------> Epoch 41 <------\n",
      "    Train RMSE loss: 13.165863126516342\n",
      "    Val   RMSE loss: 14.388833999633789\n",
      "\n",
      "------> Epoch 42 <------\n",
      "    Train RMSE loss: 13.04481366276741\n",
      "    Val   RMSE loss: 14.197061538696289\n",
      "\n",
      "------> Epoch 43 <------\n",
      "    Train RMSE loss: 12.907097071409225\n",
      "    Val   RMSE loss: 14.2140474319458\n",
      "\n",
      "------> Epoch 44 <------\n",
      "    Train RMSE loss: 12.818435341119766\n",
      "    Val   RMSE loss: 14.133919715881348\n",
      "\n",
      "------> Epoch 45 <------\n",
      "    Train RMSE loss: 12.674973726272583\n",
      "    Val   RMSE loss: 14.099133491516113\n",
      "\n",
      "------> Epoch 46 <------\n",
      "    Train RMSE loss: 12.580528110265732\n",
      "    Val   RMSE loss: 14.278770446777344\n",
      "\n",
      "------> Epoch 47 <------\n",
      "    Train RMSE loss: 12.43376049399376\n",
      "    Val   RMSE loss: 14.079383850097656\n",
      "\n",
      "------> Epoch 48 <------\n",
      "    Train RMSE loss: 12.28412476181984\n",
      "    Val   RMSE loss: 13.585318565368652\n",
      "\n",
      "------> Epoch 49 <------\n",
      "    Train RMSE loss: 12.106792539358139\n",
      "    Val   RMSE loss: 13.629054069519043\n",
      "\n",
      "------> Epoch 50 <------\n",
      "    Train RMSE loss: 11.909566849470139\n",
      "    Val   RMSE loss: 13.635793685913086\n",
      "\n",
      "------> Epoch 51 <------\n",
      "    Train RMSE loss: 11.729222804307938\n",
      "    Val   RMSE loss: 13.7078275680542\n",
      "\n",
      "\n",
      "****************** Finished Training ******************\n",
      "seconds elapsed:  196.07907819747925\n"
     ]
    }
   ],
   "source": [
    "epocs = 70\n",
    "validate = True\n",
    "rmse = {\"train\": [], \"val\": []}\n",
    "best = {\"loss\": None, \"state_dict\": None}\n",
    "\n",
    "start = time()\n",
    "for epoch in range(epocs):\n",
    "    model.train()\n",
    "    rmse[\"train\"].append(0)\n",
    "    for i, data in enumerate(train_dataloader, 0):\n",
    "        # get the inputs; data is a list of [inputs, labels]\n",
    "        inputs, var_and_cor, labels = data\n",
    "\n",
    "        # zero the parameter gradients\n",
    "        optimizer.zero_grad()\n",
    "\n",
    "        outputs = model(inputs, var_and_cor)\n",
    "\n",
    "        # forward + backward + optimize\n",
    "        loss = criterion(outputs, labels)\n",
    "        loss.backward()\n",
    "        optimizer.step()\n",
    "        rmse[\"train\"][epoch] += (loss.sqrt().mean(dim=0)/len(train_dataloader)).item()\n",
    "\n",
    "    print(f\"\\n------> Epoch {epoch+1} <------\\n    Train RMSE loss: {rmse['train'][epoch]}\")\n",
    "    # validation\n",
    "    if validate:\n",
    "        model.eval()\n",
    "\n",
    "        rmse[\"val\"].append(0)\n",
    "        for i, data in enumerate(val_dataloader, 0):\n",
    "            # get the inputs; data is a list of [inputs, labels]\n",
    "            inputs, var_and_cor, labels = data\n",
    "            with torch.no_grad():\n",
    "                outputs = model(inputs, var_and_cor, predict_anyway=True)\n",
    "\n",
    "            # forward + backward + optimize\n",
    "            rmse[\"val\"][epoch] += (criterion(outputs, labels).sqrt().mean(dim=0)/len(val_dataloader)).item()\n",
    "\n",
    "        print(f\"    Val   RMSE loss: {rmse['val'][epoch]}\")\n",
    "\n",
    "        # check for overfitting:\n",
    "        if len(rmse[\"val\"]) > 4 and all(map(lambda x: x[0]<x[1], zip(rmse[\"val\"][-4:-1], rmse[\"val\"][-3:]))):\n",
    "            break\n",
    "\n",
    "        if best[\"loss\"] is None or best[\"loss\"] > rmse[\"val\"][epoch]:\n",
    "            best[\"loss\"] = rmse[\"val\"][epoch]\n",
    "            best[\"state_dict\"] = model.state_dict()\n",
    "\n",
    "    # scheduler.step()\n",
    "\n",
    "print('\\n\\n****************** Finished Training ******************')\n",
    "print(\"seconds elapsed: \", time()-start)\n"
   ],
   "metadata": {
    "collapsed": false,
    "pycharm": {
     "name": "#%%\n"
    }
   }
  },
  {
   "cell_type": "code",
   "execution_count": 32,
   "outputs": [
    {
     "data": {
      "text/plain": "<Figure size 432x288 with 1 Axes>",
      "image/png": "[encoded data removed]"
     },
     "metadata": {
      "needs_background": "light"
     },
     "output_type": "display_data"
    }
   ],
   "source": [
    "plt.plot(range(len(rmse[\"train\"])), rmse[\"train\"], color=\"blue\", label=\"train\")\n",
    "plt.plot(range(len(rmse[\"val\"])), rmse[\"val\"], color=\"red\", label=\"validation\")\n",
    "plt.title(\"RMSE\")\n",
    "plt.legend()\n",
    "plt.show()"
   ],
   "metadata": {
    "collapsed": false,
    "pycharm": {
     "name": "#%%\n"
    }
   }
  },
  {
   "cell_type": "code",
   "execution_count": 33,
   "outputs": [
    {
     "data": {
      "text/plain": "<All keys matched successfully>"
     },
     "execution_count": 33,
     "metadata": {},
     "output_type": "execute_result"
    }
   ],
   "source": [
    "model.load_state_dict(best[\"state_dict\"])"
   ],
   "metadata": {
    "collapsed": false,
    "pycharm": {
     "name": "#%%\n"
    }
   }
  },
  {
   "cell_type": "markdown",
   "source": [
    "# On test dataset"
   ],
   "metadata": {
    "collapsed": false,
    "pycharm": {
     "name": "#%% md\n"
    }
   }
  },
  {
   "cell_type": "code",
   "execution_count": 34,
   "outputs": [],
   "source": [
    "test_pred = model.forward(torch.Tensor(test_timeseries), torch.Tensor(test_var_and_cor.to_numpy()), predict_anyway=True)"
   ],
   "metadata": {
    "collapsed": false,
    "pycharm": {
     "name": "#%%\n"
    }
   }
  },
  {
   "cell_type": "code",
   "execution_count": 35,
   "outputs": [],
   "source": [
    "submission_df = pd.DataFrame(index=test.index, columns=[\"id\", \"target\"])\n",
    "submission_df.id = test.id\n",
    "submission_df.target = test_pred.detach().numpy()"
   ],
   "metadata": {
    "collapsed": false,
    "pycharm": {
     "name": "#%%\n"
    }
   }
  },
  {
   "cell_type": "code",
   "execution_count": 36,
   "outputs": [],
   "source": [
    "submission_df.to_csv(\"RNN_submission.csv\", index=False)\n"
   ],
   "metadata": {
    "collapsed": false,
    "pycharm": {
     "name": "#%%\n"
    }
   }
  }
 ],
 "metadata": {
  "kernelspec": {
   "name": "python3",
   "language": "python",
   "display_name": "Python 3"
  },
  "language_info": {
   "codemirror_mode": {
    "name": "ipython",
    "version": 3
   },
   "file_extension": ".py",
   "mimetype": "text/x-python",
   "name": "python",
   "nbconvert_exporter": "python",
   "pygments_lexer": "ipython3",
   "version": "3.7.10"
  },
  "papermill": {
   "default_parameters": {},
   "duration": 28.082509,
   "end_time": "2021-06-28T09:53:45.178880",
   "environment_variables": {},
   "exception": null,
   "input_path": "__notebook__.ipynb",
   "output_path": "__notebook__.ipynb",
   "parameters": {},
   "start_time": "2021-06-28T09:53:17.096371",
   "version": "2.3.3"
  }
 },
 "nbformat": 4,
 "nbformat_minor": 5
}