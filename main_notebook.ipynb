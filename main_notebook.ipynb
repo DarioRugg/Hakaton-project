{
 "cells": [
  {
   "cell_type": "markdown",
   "id": "orange-bahrain",
   "metadata": {
    "_cell_guid": "b1076dfc-b9ad-4769-8c92-a6c4dae69d19",
    "_uuid": "8f2839f25d086af736a60e9eeb907d3b93b6e0e5",
    "papermill": {
     "duration": 0.012971,
     "end_time": "2021-06-28T09:53:27.442223",
     "exception": false,
     "start_time": "2021-06-28T09:53:27.429252",
     "status": "completed"
    },
    "tags": []
   },
   "source": [
    "### This Python 3 environment comes with many helpful analytics libraries installed\n",
    "# It is defined by the kaggle/python Docker image: https://github.com/kaggle/docker-python\n",
    "# For example, here's several helpful packages to load\n",
    "\n",
    "import numpy as np # linear algebra\n",
    "import pandas as pd # data processing, CSV file I/O (e.g. pd.read_csv)\n",
    "\n",
    "# Input data files are available in the read-only \"../input/\" directory\n",
    "# For example, running this (by clicking run or pressing Shift+Enter) will list all files under the input directory\n",
    "\n",
    "import os\n",
    "for dirname, _, filenames in os.walk('/kaggle/input'):\n",
    "    for filename in filenames:\n",
    "        print(os.path.join(dirname, filename))\n",
    "\n",
    "# You can write up to 20GB to the current directory (/kaggle/working/) that gets preserved as output when you create a version using \"Save & Run All\" \n",
    "# You can also write temporary files to /kaggle/temp/, but they won't be saved outside of the current session"
   ]
  },
  {
   "cell_type": "code",
   "execution_count": null,
   "outputs": [],
   "source": [
    "# basic imports\n",
    "import numpy as np\n",
    "import pandas as pd\n",
    "\n",
    "# demos for visualization\n",
    "from nilearn import datasets\n",
    "from nilearn import plotting\n",
    "\n",
    "# for ML\n",
    "from sklearn.metrics import mutual_info_score\n",
    "\n",
    "# os library\n",
    "from os.path import exists, join"
   ],
   "metadata": {
    "collapsed": false,
    "pycharm": {
     "name": "#%%\n"
    }
   }
  },
  {
   "cell_type": "code",
   "execution_count": 1,
   "id": "blessed-register",
   "metadata": {
    "execution": {
     "iopub.execute_input": "2021-06-28T09:53:27.478513Z",
     "iopub.status.busy": "2021-06-28T09:53:27.474676Z",
     "iopub.status.idle": "2021-06-28T09:53:35.422989Z",
     "shell.execute_reply": "2021-06-28T09:53:35.421589Z",
     "shell.execute_reply.started": "2021-06-28T06:49:00.608859Z"
    },
    "papermill": {
     "duration": 7.970231,
     "end_time": "2021-06-28T09:53:35.423239",
     "exception": false,
     "start_time": "2021-06-28T09:53:27.453008",
     "status": "completed"
    },
    "tags": []
   },
   "outputs": [],
   "source": [
    "data_path = join(\".\", \"data\") if exists(join(\".\", \"data\")) \\\n",
    "    else join(\"..\", \"input\", \"statistical-learning-sapienza-spring-2021\")"
   ]
  },
  {
   "cell_type": "code",
   "execution_count": null,
   "outputs": [],
   "source": [
    "train = pd.read_csv(join(data_path, 'train.csv'))"
   ],
   "metadata": {
    "collapsed": false,
    "pycharm": {
     "name": "#%%\n"
    }
   }
  },
  {
   "cell_type": "code",
   "execution_count": 2,
   "id": "ceramic-vintage",
   "metadata": {
    "execution": {
     "iopub.execute_input": "2021-06-28T09:53:35.461106Z",
     "iopub.status.busy": "2021-06-28T09:53:35.460030Z",
     "iopub.status.idle": "2021-06-28T09:53:35.463983Z",
     "shell.execute_reply": "2021-06-28T09:53:35.464614Z",
     "shell.execute_reply.started": "2021-06-28T07:01:31.172769Z"
    },
    "papermill": {
     "duration": 0.027832,
     "end_time": "2021-06-28T09:53:35.464807",
     "exception": false,
     "start_time": "2021-06-28T09:53:35.436975",
     "status": "completed"
    },
    "tags": []
   },
   "outputs": [],
   "source": [
    "brain_roi = [var[var.find('_')+1:] for var in train.columns if 't1_' in var]"
   ]
  },
  {
   "cell_type": "code",
   "execution_count": 3,
   "id": "stunning-evans",
   "metadata": {
    "execution": {
     "iopub.execute_input": "2021-06-28T09:53:35.500167Z",
     "iopub.status.busy": "2021-06-28T09:53:35.497585Z",
     "iopub.status.idle": "2021-06-28T09:53:35.506942Z",
     "shell.execute_reply": "2021-06-28T09:53:35.509107Z",
     "shell.execute_reply.started": "2021-06-28T07:15:08.915381Z"
    },
    "papermill": {
     "duration": 0.033315,
     "end_time": "2021-06-28T09:53:35.509341",
     "exception": false,
     "start_time": "2021-06-28T09:53:35.476026",
     "status": "completed"
    },
    "tags": []
   },
   "outputs": [
    {
     "data": {
      "text/plain": [
       "['2001',\n",
       " '2002',\n",
       " '2101',\n",
       " '2102',\n",
       " '2111',\n",
       " '2112',\n",
       " '2201',\n",
       " '2202',\n",
       " '2211',\n",
       " '2212',\n",
       " '2301',\n",
       " '2302',\n",
       " '2311',\n",
       " '2312',\n",
       " '2321',\n",
       " '2322',\n",
       " '2331',\n",
       " '2332',\n",
       " '2401',\n",
       " '2402',\n",
       " '2501',\n",
       " '2502',\n",
       " '2601',\n",
       " '2602',\n",
       " '2611',\n",
       " '2612',\n",
       " '2701',\n",
       " '2702',\n",
       " '3001',\n",
       " '3002',\n",
       " '4001',\n",
       " '4002',\n",
       " '4011',\n",
       " '4012',\n",
       " '4021',\n",
       " '4022',\n",
       " '4101',\n",
       " '4102',\n",
       " '4111',\n",
       " '4112',\n",
       " '4201',\n",
       " '4202',\n",
       " '5001',\n",
       " '5002',\n",
       " '5011',\n",
       " '5012',\n",
       " '5021',\n",
       " '5022',\n",
       " '5101',\n",
       " '5102',\n",
       " '5201',\n",
       " '5202',\n",
       " '5301',\n",
       " '5302',\n",
       " '5401',\n",
       " '5402',\n",
       " '6001',\n",
       " '6002',\n",
       " '6101',\n",
       " '6102',\n",
       " '6201',\n",
       " '6202',\n",
       " '6211',\n",
       " '6212',\n",
       " '6221',\n",
       " '6222',\n",
       " '6301',\n",
       " '6302',\n",
       " '6401',\n",
       " '6402',\n",
       " '7001',\n",
       " '7002',\n",
       " '7011',\n",
       " '7012',\n",
       " '7021',\n",
       " '7022',\n",
       " '7101',\n",
       " '7102',\n",
       " '8101',\n",
       " '8102',\n",
       " '8111',\n",
       " '8112',\n",
       " '8121',\n",
       " '8122',\n",
       " '8201',\n",
       " '8202',\n",
       " '8211',\n",
       " '8212',\n",
       " '8301',\n",
       " '8302',\n",
       " '9001',\n",
       " '9002',\n",
       " '9011',\n",
       " '9012',\n",
       " '9021',\n",
       " '9022',\n",
       " '9031',\n",
       " '9032',\n",
       " '9041',\n",
       " '9042',\n",
       " '9051',\n",
       " '9052',\n",
       " '9061',\n",
       " '9062',\n",
       " '9071',\n",
       " '9072',\n",
       " '9081',\n",
       " '9082',\n",
       " '9100',\n",
       " '9110',\n",
       " '9120',\n",
       " '9130',\n",
       " '9140',\n",
       " '9150',\n",
       " '9160',\n",
       " '9170']"
      ]
     },
     "execution_count": 3,
     "metadata": {},
     "output_type": "execute_result"
    }
   ],
   "source": [
    "brain_roi"
   ]
  },
  {
   "cell_type": "code",
   "execution_count": 4,
   "id": "registered-creativity",
   "metadata": {
    "execution": {
     "iopub.execute_input": "2021-06-28T09:53:35.540576Z",
     "iopub.status.busy": "2021-06-28T09:53:35.539806Z",
     "iopub.status.idle": "2021-06-28T09:53:40.693593Z",
     "shell.execute_reply": "2021-06-28T09:53:40.693071Z",
     "shell.execute_reply.started": "2021-06-28T07:37:25.976085Z"
    },
    "papermill": {
     "duration": 5.172593,
     "end_time": "2021-06-28T09:53:40.693743",
     "exception": false,
     "start_time": "2021-06-28T09:53:35.521150",
     "status": "completed"
    },
    "tags": []
   },
   "outputs": [
    {
     "name": "stderr",
     "output_type": "stream",
     "text": [
      "/opt/conda/lib/python3.7/site-packages/nilearn/datasets/__init__.py:90: FutureWarning: Fetchers from the nilearn.datasets module will be updated in version 0.9 to return python strings instead of bytes and Pandas dataframes instead of Numpy arrays.\n",
      "  \"Numpy arrays.\", FutureWarning)\n"
     ]
    },
    {
     "name": "stdout",
     "output_type": "stream",
     "text": [
      "\n",
      "Dataset created in /root/nilearn_data/fsl\n",
      "\n",
      "Downloading data from http://www.nitrc.org/frs/download.php/9902/HarvardOxford.tgz ...\n"
     ]
    },
    {
     "name": "stderr",
     "output_type": "stream",
     "text": [
      "Downloaded 14770176 of 25716861 bytes (57.4%,    0.7s remaining) ...done. (2 seconds, 0 min)\n",
      "Extracting data from /root/nilearn_data/fsl/f46ad01e95960216e8befa3b5c1ed654/HarvardOxford.tgz..."
     ]
    },
    {
     "name": "stdout",
     "output_type": "stream",
     "text": [
      "Atlas ROIs are located at: /root/nilearn_data/fsl/data/atlases/HarvardOxford/HarvardOxford-cort-maxprob-thr25-2mm.nii.gz\n"
     ]
    },
    {
     "name": "stderr",
     "output_type": "stream",
     "text": [
      ".. done.\n"
     ]
    }
   ],
   "source": [
    "dataset = datasets.fetch_atlas_harvard_oxford('cort-maxprob-thr25-2mm')\n",
    "atlas_filename = dataset.maps\n",
    "\n",
    "print('Atlas ROIs are located at: %s' % atlas_filename)"
   ]
  },
  {
   "cell_type": "code",
   "execution_count": 5,
   "id": "historic-adobe",
   "metadata": {
    "execution": {
     "iopub.execute_input": "2021-06-28T09:53:40.725708Z",
     "iopub.status.busy": "2021-06-28T09:53:40.724984Z",
     "iopub.status.idle": "2021-06-28T09:53:40.729688Z",
     "shell.execute_reply": "2021-06-28T09:53:40.730361Z",
     "shell.execute_reply.started": "2021-06-28T08:08:31.832776Z"
    },
    "papermill": {
     "duration": 0.024815,
     "end_time": "2021-06-28T09:53:40.730555",
     "exception": false,
     "start_time": "2021-06-28T09:53:40.705740",
     "status": "completed"
    },
    "tags": []
   },
   "outputs": [
    {
     "data": {
      "text/plain": [
       "{'maps': '/root/nilearn_data/fsl/data/atlases/HarvardOxford/HarvardOxford-cort-maxprob-thr25-2mm.nii.gz',\n",
       " 'labels': ['Background',\n",
       "  'Frontal Pole',\n",
       "  'Insular Cortex',\n",
       "  'Superior Frontal Gyrus',\n",
       "  'Middle Frontal Gyrus',\n",
       "  'Inferior Frontal Gyrus, pars triangularis',\n",
       "  'Inferior Frontal Gyrus, pars opercularis',\n",
       "  'Precentral Gyrus',\n",
       "  'Temporal Pole',\n",
       "  'Superior Temporal Gyrus, anterior division',\n",
       "  'Superior Temporal Gyrus, posterior division',\n",
       "  'Middle Temporal Gyrus, anterior division',\n",
       "  'Middle Temporal Gyrus, posterior division',\n",
       "  'Middle Temporal Gyrus, temporooccipital part',\n",
       "  'Inferior Temporal Gyrus, anterior division',\n",
       "  'Inferior Temporal Gyrus, posterior division',\n",
       "  'Inferior Temporal Gyrus, temporooccipital part',\n",
       "  'Postcentral Gyrus',\n",
       "  'Superior Parietal Lobule',\n",
       "  'Supramarginal Gyrus, anterior division',\n",
       "  'Supramarginal Gyrus, posterior division',\n",
       "  'Angular Gyrus',\n",
       "  'Lateral Occipital Cortex, superior division',\n",
       "  'Lateral Occipital Cortex, inferior division',\n",
       "  'Intracalcarine Cortex',\n",
       "  'Frontal Medial Cortex',\n",
       "  'Juxtapositional Lobule Cortex (formerly Supplementary Motor Cortex)',\n",
       "  'Subcallosal Cortex',\n",
       "  'Paracingulate Gyrus',\n",
       "  'Cingulate Gyrus, anterior division',\n",
       "  'Cingulate Gyrus, posterior division',\n",
       "  'Precuneous Cortex',\n",
       "  'Cuneal Cortex',\n",
       "  'Frontal Orbital Cortex',\n",
       "  'Parahippocampal Gyrus, anterior division',\n",
       "  'Parahippocampal Gyrus, posterior division',\n",
       "  'Lingual Gyrus',\n",
       "  'Temporal Fusiform Cortex, anterior division',\n",
       "  'Temporal Fusiform Cortex, posterior division',\n",
       "  'Temporal Occipital Fusiform Cortex',\n",
       "  'Occipital Fusiform Gyrus',\n",
       "  'Frontal Operculum Cortex',\n",
       "  'Central Opercular Cortex',\n",
       "  'Parietal Operculum Cortex',\n",
       "  'Planum Polare',\n",
       "  \"Heschl's Gyrus (includes H1 and H2)\",\n",
       "  'Planum Temporale',\n",
       "  'Supracalcarine Cortex',\n",
       "  'Occipital Pole']}"
      ]
     },
     "execution_count": 5,
     "metadata": {},
     "output_type": "execute_result"
    }
   ],
   "source": [
    "dataset"
   ]
  },
  {
   "cell_type": "code",
   "execution_count": 6,
   "id": "caring-feelings",
   "metadata": {
    "execution": {
     "iopub.execute_input": "2021-06-28T09:53:40.762620Z",
     "iopub.status.busy": "2021-06-28T09:53:40.761440Z",
     "iopub.status.idle": "2021-06-28T09:53:42.933526Z",
     "shell.execute_reply": "2021-06-28T09:53:42.934434Z",
     "shell.execute_reply.started": "2021-06-28T08:09:08.352646Z"
    },
    "papermill": {
     "duration": 2.190756,
     "end_time": "2021-06-28T09:53:42.934659",
     "exception": false,
     "start_time": "2021-06-28T09:53:40.743903",
     "status": "completed"
    },
    "tags": []
   },
   "outputs": [
    {
     "data": {
      "text/plain": [
       "<nilearn.plotting.displays.OrthoSlicer at 0x7f9441f3fa10>"
      ]
     },
     "execution_count": 6,
     "metadata": {},
     "output_type": "execute_result"
    },
    {
     "data": {
      "image/png": "[encoded data removed]",
      "text/plain": [
       "<Figure size 475.2x187.2 with 4 Axes>"
      ]
     },
     "metadata": {},
     "output_type": "display_data"
    }
   ],
   "source": [
    "plotting.plot_roi(atlas_filename, title=\"Harvard Oxford atlas\")"
   ]
  },
  {
   "cell_type": "code",
   "execution_count": 8,
   "id": "moral-peripheral",
   "metadata": {
    "execution": {
     "iopub.execute_input": "2021-06-28T09:53:43.006216Z",
     "iopub.status.busy": "2021-06-28T09:53:43.005392Z",
     "iopub.status.idle": "2021-06-28T09:53:43.160222Z",
     "shell.execute_reply": "2021-06-28T09:53:43.159593Z"
    },
    "papermill": {
     "duration": 0.172497,
     "end_time": "2021-06-28T09:53:43.160380",
     "exception": false,
     "start_time": "2021-06-28T09:53:42.987883",
     "status": "completed"
    },
    "tags": []
   },
   "outputs": [
    {
     "ename": "NameError",
     "evalue": "name 'SingularSpectrumAnalysis' is not defined",
     "output_type": "error",
     "traceback": [
      "\u001B[0;31m---------------------------------------------------------------------------\u001B[0m",
      "\u001B[0;31mNameError\u001B[0m                                 Traceback (most recent call last)",
      "\u001B[0;32m<ipython-input-8-505b81a06f98>\u001B[0m in \u001B[0;36m<module>\u001B[0;34m\u001B[0m\n\u001B[0;32m----> 1\u001B[0;31m \u001B[0mssa\u001B[0m \u001B[0;34m=\u001B[0m \u001B[0mSingularSpectrumAnalysis\u001B[0m\u001B[0;34m(\u001B[0m\u001B[0mwindow_size\u001B[0m\u001B[0;34m=\u001B[0m\u001B[0;36m5\u001B[0m\u001B[0;34m,\u001B[0m\u001B[0mgroups\u001B[0m\u001B[0;34m=\u001B[0m\u001B[0;36m2\u001B[0m\u001B[0;34m)\u001B[0m\u001B[0;34m\u001B[0m\u001B[0;34m\u001B[0m\u001B[0m\n\u001B[0m\u001B[1;32m      2\u001B[0m \u001B[0mX_ssa\u001B[0m \u001B[0;34m=\u001B[0m \u001B[0mssa\u001B[0m\u001B[0;34m.\u001B[0m\u001B[0mfit_transform\u001B[0m\u001B[0;34m(\u001B[0m\u001B[0mX\u001B[0m\u001B[0;34m=\u001B[0m\u001B[0mX\u001B[0m\u001B[0;34m)\u001B[0m\u001B[0;34m\u001B[0m\u001B[0;34m\u001B[0m\u001B[0m\n\u001B[1;32m      3\u001B[0m \u001B[0mprint\u001B[0m\u001B[0;34m(\u001B[0m\u001B[0mX_ssa\u001B[0m\u001B[0;34m.\u001B[0m\u001B[0mshape\u001B[0m\u001B[0;34m)\u001B[0m\u001B[0;34m\u001B[0m\u001B[0;34m\u001B[0m\u001B[0m\n",
      "\u001B[0;31mNameError\u001B[0m: name 'SingularSpectrumAnalysis' is not defined"
     ]
    }
   ],
   "source": [
    "ssa = SingularSpectrumAnalysis(window_size=5,groups=2)\n",
    "X_ssa = ssa.fit_transform(X=X)\n",
    "print(X_ssa.shape)"
   ]
  },
  {
   "cell_type": "code",
   "execution_count": 9,
   "id": "smart-implementation",
   "metadata": {
    "execution": {
     "iopub.execute_input": "2021-06-28T09:53:43.196441Z",
     "iopub.status.busy": "2021-06-28T09:53:43.195793Z",
     "iopub.status.idle": "2021-06-28T09:53:43.201764Z",
     "shell.execute_reply": "2021-06-28T09:53:43.200966Z",
     "shell.execute_reply.started": "2021-06-28T08:41:39.190510Z"
    },
    "papermill": {
     "duration": 0.024309,
     "end_time": "2021-06-28T09:53:43.201913",
     "exception": false,
     "start_time": "2021-06-28T09:53:43.177604",
     "status": "completed"
    },
    "tags": []
   },
   "outputs": [],
   "source": []
  },
  {
   "cell_type": "code",
   "execution_count": 10,
   "id": "little-launch",
   "metadata": {
    "execution": {
     "iopub.execute_input": "2021-06-28T09:53:43.259853Z",
     "iopub.status.busy": "2021-06-28T09:53:43.253501Z",
     "iopub.status.idle": "2021-06-28T09:53:43.266376Z",
     "shell.execute_reply": "2021-06-28T09:53:43.265709Z"
    },
    "papermill": {
     "duration": 0.046705,
     "end_time": "2021-06-28T09:53:43.266536",
     "exception": false,
     "start_time": "2021-06-28T09:53:43.219831",
     "status": "completed"
    },
    "tags": []
   },
   "outputs": [
    {
     "ename": "NameError",
     "evalue": "name 'np' is not defined",
     "output_type": "error",
     "traceback": [
      "\u001B[0;31m---------------------------------------------------------------------------\u001B[0m",
      "\u001B[0;31mNameError\u001B[0m                                 Traceback (most recent call last)",
      "\u001B[0;32m<ipython-input-10-2a06a9748b36>\u001B[0m in \u001B[0;36m<module>\u001B[0;34m\u001B[0m\n\u001B[1;32m      1\u001B[0m \u001B[0mbins\u001B[0m\u001B[0;34m=\u001B[0m\u001B[0;36m1000\u001B[0m\u001B[0;34m\u001B[0m\u001B[0;34m\u001B[0m\u001B[0m\n\u001B[0;32m----> 2\u001B[0;31m \u001B[0mc_xy\u001B[0m \u001B[0;34m=\u001B[0m \u001B[0mnp\u001B[0m\u001B[0;34m.\u001B[0m\u001B[0mhistogram2d\u001B[0m\u001B[0;34m(\u001B[0m\u001B[0mX_norm\u001B[0m\u001B[0;34m,\u001B[0m \u001B[0mY_norm\u001B[0m\u001B[0;34m,\u001B[0m \u001B[0mbins\u001B[0m\u001B[0;34m)\u001B[0m\u001B[0;34m[\u001B[0m\u001B[0;36m0\u001B[0m\u001B[0;34m]\u001B[0m\u001B[0;34m\u001B[0m\u001B[0;34m\u001B[0m\u001B[0m\n\u001B[0m\u001B[1;32m      3\u001B[0m \u001B[0mmi\u001B[0m\u001B[0;34m=\u001B[0m \u001B[0mmutual_info_score\u001B[0m\u001B[0;34m(\u001B[0m\u001B[0;32mNone\u001B[0m\u001B[0;34m,\u001B[0m \u001B[0;32mNone\u001B[0m\u001B[0;34m,\u001B[0m \u001B[0mcontingency\u001B[0m\u001B[0;34m=\u001B[0m\u001B[0mc_xy\u001B[0m\u001B[0;34m)\u001B[0m\u001B[0;34m\u001B[0m\u001B[0;34m\u001B[0m\u001B[0m\n",
      "\u001B[0;31mNameError\u001B[0m: name 'np' is not defined"
     ]
    }
   ],
   "source": [
    "bins=1000\n",
    "c_xy = np.histogram2d(X_norm, Y_norm, bins)[0]\n",
    "mi= mutual_info_score(None, None, contingency=c_xy)"
   ]
  }
 ],
 "metadata": {
  "kernelspec": {
   "display_name": "Python 3",
   "language": "python",
   "name": "python3"
  },
  "language_info": {
   "codemirror_mode": {
    "name": "ipython",
    "version": 3
   },
   "file_extension": ".py",
   "mimetype": "text/x-python",
   "name": "python",
   "nbconvert_exporter": "python",
   "pygments_lexer": "ipython3",
   "version": "3.7.10"
  },
  "papermill": {
   "default_parameters": {},
   "duration": 28.082509,
   "end_time": "2021-06-28T09:53:45.178880",
   "environment_variables": {},
   "exception": null,
   "input_path": "__notebook__.ipynb",
   "output_path": "__notebook__.ipynb",
   "parameters": {},
   "start_time": "2021-06-28T09:53:17.096371",
   "version": "2.3.3"
  }
 },
 "nbformat": 4,
 "nbformat_minor": 5
}