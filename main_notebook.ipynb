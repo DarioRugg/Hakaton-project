{
 "cells": [
  {
   "cell_type": "code",
   "execution_count": 12,
   "outputs": [],
   "source": [
    "# basic imports\n",
    "import numpy as np\n",
    "import pandas as pd\n",
    "\n",
    "# demos for visualization\n",
    "from nilearn import datasets\n",
    "from nilearn import plotting\n",
    "from nilearn.connectome import GroupSparseCovariance\n",
    "from nilearn.connectome import ConnectivityMeasure\n",
    "\n",
    "# for ML\n",
    "from sklearn.metrics import mutual_info_score\n",
    "\n",
    "# os library\n",
    "from os.path import exists, join"
   ],
   "metadata": {
    "collapsed": false,
    "pycharm": {
     "name": "#%%\n"
    }
   }
  },
  {
   "cell_type": "code",
   "execution_count": 2,
   "id": "blessed-register",
   "metadata": {
    "execution": {
     "iopub.execute_input": "2021-06-28T09:53:27.478513Z",
     "iopub.status.busy": "2021-06-28T09:53:27.474676Z",
     "iopub.status.idle": "2021-06-28T09:53:35.422989Z",
     "shell.execute_reply": "2021-06-28T09:53:35.421589Z",
     "shell.execute_reply.started": "2021-06-28T06:49:00.608859Z"
    },
    "papermill": {
     "duration": 7.970231,
     "end_time": "2021-06-28T09:53:35.423239",
     "exception": false,
     "start_time": "2021-06-28T09:53:27.453008",
     "status": "completed"
    },
    "tags": []
   },
   "outputs": [],
   "source": [
    "data_path = join(\".\", \"data\") if exists(join(\".\", \"data\")) \\\n",
    "    else join(\"..\", \"input\", \"statistical-learning-sapienza-spring-2021\")"
   ]
  },
  {
   "cell_type": "code",
   "execution_count": 3,
   "outputs": [],
   "source": [
    "train = pd.read_csv(join(data_path, 'train.csv'), nrows=40)"
   ],
   "metadata": {
    "collapsed": false,
    "pycharm": {
     "name": "#%%\n"
    }
   }
  },
  {
   "cell_type": "code",
   "execution_count": 5,
   "outputs": [
    {
     "data": {
      "text/plain": "40"
     },
     "execution_count": 5,
     "metadata": {},
     "output_type": "execute_result"
    }
   ],
   "source": [
    "len(train.id.values)\n",
    "len(train.index.values)"
   ],
   "metadata": {
    "collapsed": false,
    "pycharm": {
     "name": "#%%\n"
    }
   }
  },
  {
   "cell_type": "code",
   "execution_count": 21,
   "outputs": [],
   "source": [
    "def get_data(entry):\n",
    "    id = entry.id\n",
    "    variables = entry[['var1', 'var2', 'var3']].to_numpy()\n",
    "    timeseries = entry[5 if \"y\" in entry.index else 4:].to_numpy(dtype=float).reshape((115, 116), order=\"F\")\n",
    "    if \"y\" in entry.index: return id, entry.y, variables, timeseries\n",
    "    else: return id, variables, timeseries"
   ],
   "metadata": {
    "collapsed": false,
    "pycharm": {
     "name": "#%%\n"
    }
   }
  },
  {
   "cell_type": "code",
   "execution_count": 22,
   "outputs": [
    {
     "data": {
      "text/plain": "GroupSparseCovariance()"
     },
     "execution_count": 22,
     "metadata": {},
     "output_type": "execute_result"
    }
   ],
   "source": [
    "time_series = train.apply(lambda row: get_data(row)[-1], axis=1).to_list()\n",
    "\n",
    "GroupSparseCovariance()"
   ],
   "metadata": {
    "collapsed": false,
    "pycharm": {
     "name": "#%%\n"
    }
   }
  },
  {
   "cell_type": "code",
   "execution_count": 26,
   "outputs": [],
   "source": [
    "def apply_connectivity(time_series, vect=True, diag=True):\n",
    "\n",
    "    correlation_measure = ConnectivityMeasure(kind='partial correlation',\n",
    "                                              vectorize = vect,\n",
    "                                              discard_diagonal=diag)\n",
    "\n",
    "    return correlation_measure.fit_transform(time_series)"
   ],
   "metadata": {
    "collapsed": false,
    "pycharm": {
     "name": "#%%\n"
    }
   }
  },
  {
   "cell_type": "code",
   "execution_count": 27,
   "outputs": [],
   "source": [
    "correlation_matrices = apply_connectivity(time_series)"
   ],
   "metadata": {
    "collapsed": false,
    "pycharm": {
     "name": "#%%\n"
    }
   }
  },
  {
   "cell_type": "code",
   "execution_count": 28,
   "outputs": [
    {
     "data": {
      "text/plain": "array([[ 0.00637566,  0.01222776, -0.0257102 , ..., -0.02211248,\n         0.05410901,  0.1392692 ],\n       [ 0.0222867 ,  0.01343907, -0.02063951, ...,  0.07509686,\n        -0.02293725, -0.07659659],\n       [ 0.01665948,  0.00562362,  0.00429343, ..., -0.0018096 ,\n         0.15409605,  0.04340404],\n       ...,\n       [-0.01134248,  0.00229567, -0.01142432, ...,  0.13418969,\n        -0.08303838, -0.01647806],\n       [ 0.02441034,  0.02071686, -0.01891245, ..., -0.10075551,\n         0.02501609,  0.19332631],\n       [ 0.00733717, -0.0040383 , -0.0224555 , ...,  0.04872983,\n        -0.06645633,  0.25261485]])"
     },
     "execution_count": 28,
     "metadata": {},
     "output_type": "execute_result"
    }
   ],
   "source": [
    "correlation_matrices\n"
   ],
   "metadata": {
    "collapsed": false,
    "pycharm": {
     "name": "#%%\n"
    }
   }
  },
  {
   "cell_type": "code",
   "execution_count": null,
   "outputs": [],
   "source": [],
   "metadata": {
    "collapsed": false,
    "pycharm": {
     "name": "#%%\n"
    }
   }
  }
 ],
 "metadata": {
  "kernelspec": {
   "display_name": "Python 3",
   "language": "python",
   "name": "python3"
  },
  "language_info": {
   "codemirror_mode": {
    "name": "ipython",
    "version": 3
   },
   "file_extension": ".py",
   "mimetype": "text/x-python",
   "name": "python",
   "nbconvert_exporter": "python",
   "pygments_lexer": "ipython3",
   "version": "3.7.10"
  },
  "papermill": {
   "default_parameters": {},
   "duration": 28.082509,
   "end_time": "2021-06-28T09:53:45.178880",
   "environment_variables": {},
   "exception": null,
   "input_path": "__notebook__.ipynb",
   "output_path": "__notebook__.ipynb",
   "parameters": {},
   "start_time": "2021-06-28T09:53:17.096371",
   "version": "2.3.3"
  }
 },
 "nbformat": 4,
 "nbformat_minor": 5
}