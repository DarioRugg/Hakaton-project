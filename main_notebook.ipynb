{
 "cells": [
  {
   "cell_type": "code",
   "execution_count": 138,
   "outputs": [],
   "source": [
    "# basic imports\n",
    "import numpy as np\n",
    "import pandas as pd\n",
    "from time import time\n",
    "from sklearn.decomposition import PCA\n",
    "\n",
    "# demos for visualization\n",
    "from nilearn import datasets\n",
    "from nilearn import plotting\n",
    "from nilearn.connectome import GroupSparseCovariance\n",
    "from nilearn.connectome import ConnectivityMeasure\n",
    "\n",
    "import matplotlib.pyplot as plt\n",
    "\n",
    "# for ML\n",
    "from sklearn import svm\n",
    "from sklearn.metrics import mean_squared_error\n",
    "from sklearn.model_selection import train_test_split\n",
    "\n",
    "import torch.nn as nn\n",
    "import torch.nn.functional as F\n",
    "import torch\n",
    "from torch.utils.data import TensorDataset, DataLoader\n",
    "\n",
    "# os library\n",
    "from os.path import exists, join"
   ],
   "metadata": {
    "collapsed": false,
    "pycharm": {
     "name": "#%%\n"
    }
   }
  },
  {
   "cell_type": "code",
   "execution_count": 2,
   "id": "blessed-register",
   "metadata": {
    "execution": {
     "iopub.execute_input": "2021-06-28T09:53:27.478513Z",
     "iopub.status.busy": "2021-06-28T09:53:27.474676Z",
     "iopub.status.idle": "2021-06-28T09:53:35.422989Z",
     "shell.execute_reply": "2021-06-28T09:53:35.421589Z",
     "shell.execute_reply.started": "2021-06-28T06:49:00.608859Z"
    },
    "papermill": {
     "duration": 7.970231,
     "end_time": "2021-06-28T09:53:35.423239",
     "exception": false,
     "start_time": "2021-06-28T09:53:27.453008",
     "status": "completed"
    },
    "tags": []
   },
   "outputs": [],
   "source": [
    "data_path = join(\".\", \"data\") if exists(join(\".\", \"data\")) \\\n",
    "    else join(\"..\", \"input\", \"statistical-learning-sapienza-spring-2021\")"
   ]
  },
  {
   "cell_type": "code",
   "execution_count": 3,
   "outputs": [],
   "source": [
    "train = pd.read_csv(join(data_path, 'train.csv'))"
   ],
   "metadata": {
    "collapsed": false,
    "pycharm": {
     "name": "#%%\n"
    }
   }
  },
  {
   "cell_type": "code",
   "execution_count": 4,
   "outputs": [],
   "source": [
    "def get_data(entry):\n",
    "    id = entry.id\n",
    "    variables = entry[['var1', 'var2', 'var3']].to_numpy()\n",
    "    timeseries = entry[5 if \"y\" in entry.index else 4:].to_numpy(dtype=float).reshape((115, 116), order=\"F\")\n",
    "    if \"y\" in entry.index: return id, entry.y, variables, timeseries\n",
    "    else: return id, variables, timeseries"
   ],
   "metadata": {
    "collapsed": false,
    "pycharm": {
     "name": "#%%\n"
    }
   }
  },
  {
   "cell_type": "code",
   "execution_count": 5,
   "outputs": [],
   "source": [
    "train_split, val_split = train_test_split(train, test_size=0.2, random_state=42)"
   ],
   "metadata": {
    "collapsed": false,
    "pycharm": {
     "name": "#%%\n"
    }
   }
  },
  {
   "cell_type": "code",
   "execution_count": 170,
   "outputs": [],
   "source": [
    "def get_dataloader(timeseries, labels):\n",
    "    return DataLoader(TensorDataset(torch.Tensor(timeseries),torch.Tensor(labels)), batch_size=10) # create your dataloader\n",
    "\n",
    "train_timeseries = train_split.apply(lambda row: get_data(row)[-1], axis=1).to_list()\n",
    "train_dataloader = get_dataloader(train_timeseries, train_split.y.to_list())\n",
    "val_timeseries = val_split.apply(lambda row: get_data(row)[-1], axis=1).to_list()\n",
    "val_dataloader = get_dataloader(val_timeseries, val_split.y.to_list())"
   ],
   "metadata": {
    "collapsed": false,
    "pycharm": {
     "name": "#%%\n"
    }
   }
  },
  {
   "cell_type": "markdown",
   "source": [
    "## Model"
   ],
   "metadata": {
    "collapsed": false,
    "pycharm": {
     "name": "#%% md\n"
    }
   }
  },
  {
   "cell_type": "code",
   "execution_count": 171,
   "outputs": [],
   "source": [
    "class BlackEmbedding(nn.Module):\n",
    "    def __init__(self, hidden_size, num_layers):\n",
    "        super().__init__()\n",
    "        self.rnn_model = nn.RNN(input_size=116, hidden_size=hidden_size, num_layers=num_layers, batch_first=True)\n",
    "        self.fc1 = nn.Linear(hidden_size*(1+num_layers), 32)\n",
    "        self.regressor = nn.Linear(32, 1)\n",
    "\n",
    "    def forward(self, x, predict_anyway=False):\n",
    "\n",
    "        x, h = self.rnn_model(x)\n",
    "\n",
    "        h = torch.cat(list(map(lambda i: h[i, ], range(h.shape[0]))), dim=-1)\n",
    "\n",
    "        x = torch.cat([x[:, -1, ], h], dim=-1)  # taking only the last\n",
    "\n",
    "        x = F.relu(self.fc1(x))\n",
    "\n",
    "        if self.training or predict_anyway:\n",
    "            x = self.regressor(x)\n",
    "\n",
    "        return x\n",
    "\n",
    "model = BlackEmbedding(hidden_size=64, num_layers=3)\n",
    "optimizer = torch.optim.Adam(model.parameters(), lr=0.0001)\n",
    "criterion = nn.MSELoss()"
   ],
   "metadata": {
    "collapsed": false,
    "pycharm": {
     "name": "#%%\n"
    }
   }
  },
  {
   "cell_type": "markdown",
   "source": [
    "## Training"
   ],
   "metadata": {
    "collapsed": false,
    "pycharm": {
     "name": "#%% md\n"
    }
   }
  },
  {
   "cell_type": "code",
   "execution_count": 172,
   "outputs": [
    {
     "name": "stderr",
     "output_type": "stream",
     "text": [
      "C:\\ProgramData\\Anaconda3\\envs\\SLHaka\\lib\\site-packages\\torch\\nn\\modules\\loss.py:431: UserWarning: Using a target size (torch.Size([10])) that is different to the input size (torch.Size([10, 1])). This will likely lead to incorrect results due to broadcasting. Please ensure they have the same size.\n",
      "  return F.mse_loss(input, target, reduction=self.reduction)\n"
     ]
    },
    {
     "name": "stdout",
     "output_type": "stream",
     "text": [
      "\n",
      "------> Epoch 1 <------\n",
      "    Train RMSE loss: 109.96170043945312\n",
      "    Val   RMSE loss: 108.21951293945312\n",
      "\n",
      "------> Epoch 2 <------\n",
      "    Train RMSE loss: 109.28860473632812\n",
      "    Val   RMSE loss: 107.01258087158203\n",
      "\n",
      "------> Epoch 3 <------\n",
      "    Train RMSE loss: 107.47926330566406\n",
      "    Val   RMSE loss: 104.6358642578125\n",
      "\n",
      "------> Epoch 4 <------\n",
      "    Train RMSE loss: 104.49647521972656\n",
      "    Val   RMSE loss: 101.17689514160156\n",
      "\n",
      "------> Epoch 5 <------\n",
      "    Train RMSE loss: 100.81016540527344\n",
      "    Val   RMSE loss: 97.32369995117188\n",
      "\n",
      "------> Epoch 6 <------\n",
      "    Train RMSE loss: 96.81134796142578\n",
      "    Val   RMSE loss: 93.18553161621094\n",
      "\n",
      "------> Epoch 7 <------\n",
      "    Train RMSE loss: 92.53305053710938\n",
      "    Val   RMSE loss: 88.68888092041016\n",
      "\n",
      "------> Epoch 8 <------\n",
      "    Train RMSE loss: 88.01128387451172\n",
      "    Val   RMSE loss: 84.05693817138672\n",
      "\n",
      "------> Epoch 9 <------\n",
      "    Train RMSE loss: 83.49514770507812\n",
      "    Val   RMSE loss: 79.33466339111328\n",
      "\n",
      "------> Epoch 10 <------\n",
      "    Train RMSE loss: 78.960693359375\n",
      "    Val   RMSE loss: 74.54351043701172\n",
      "\n",
      "------> Epoch 11 <------\n",
      "    Train RMSE loss: 74.24777221679688\n",
      "    Val   RMSE loss: 69.66488647460938\n",
      "\n",
      "------> Epoch 12 <------\n",
      "    Train RMSE loss: 69.90502166748047\n",
      "    Val   RMSE loss: 64.80760955810547\n",
      "\n",
      "------> Epoch 13 <------\n",
      "    Train RMSE loss: 65.41183471679688\n",
      "    Val   RMSE loss: 59.99867248535156\n",
      "\n",
      "------> Epoch 14 <------\n",
      "    Train RMSE loss: 60.562217712402344\n",
      "    Val   RMSE loss: 56.41108703613281\n",
      "\n",
      "------> Epoch 15 <------\n",
      "    Train RMSE loss: 55.69556427001953\n",
      "    Val   RMSE loss: 51.92945098876953\n",
      "\n",
      "------> Epoch 16 <------\n",
      "    Train RMSE loss: 51.34403991699219\n",
      "    Val   RMSE loss: 47.517311096191406\n",
      "\n",
      "------> Epoch 17 <------\n",
      "    Train RMSE loss: 46.9752082824707\n",
      "    Val   RMSE loss: 42.55128860473633\n",
      "\n",
      "------> Epoch 18 <------\n",
      "    Train RMSE loss: 43.2170524597168\n",
      "    Val   RMSE loss: 38.580909729003906\n",
      "\n",
      "------> Epoch 19 <------\n",
      "    Train RMSE loss: 39.2238655090332\n",
      "    Val   RMSE loss: 35.97377014160156\n",
      "\n",
      "------> Epoch 20 <------\n",
      "    Train RMSE loss: 35.96685028076172\n",
      "    Val   RMSE loss: 32.98958206176758\n",
      "\n",
      "------> Epoch 21 <------\n",
      "    Train RMSE loss: 32.91500473022461\n",
      "    Val   RMSE loss: 32.98593521118164\n",
      "\n",
      "------> Epoch 22 <------\n",
      "    Train RMSE loss: 29.901025772094727\n",
      "    Val   RMSE loss: 28.4338436126709\n",
      "\n",
      "------> Epoch 23 <------\n",
      "    Train RMSE loss: 28.230342864990234\n",
      "    Val   RMSE loss: 26.903947830200195\n",
      "\n",
      "------> Epoch 24 <------\n",
      "    Train RMSE loss: 26.74551010131836\n",
      "    Val   RMSE loss: 25.76280403137207\n",
      "\n",
      "------> Epoch 25 <------\n",
      "    Train RMSE loss: 25.661823272705078\n",
      "    Val   RMSE loss: 24.96101951599121\n",
      "\n",
      "------> Epoch 26 <------\n",
      "    Train RMSE loss: 24.609477996826172\n",
      "    Val   RMSE loss: 24.406156539916992\n",
      "\n",
      "------> Epoch 27 <------\n",
      "    Train RMSE loss: 24.696626663208008\n",
      "    Val   RMSE loss: 20.823558807373047\n",
      "\n",
      "------> Epoch 28 <------\n",
      "    Train RMSE loss: 24.155189514160156\n",
      "    Val   RMSE loss: 20.563587188720703\n",
      "\n",
      "------> Epoch 29 <------\n",
      "    Train RMSE loss: 23.93834686279297\n",
      "    Val   RMSE loss: 20.386241912841797\n",
      "\n",
      "------> Epoch 30 <------\n",
      "    Train RMSE loss: 24.129365921020508\n",
      "    Val   RMSE loss: 20.268571853637695\n",
      "\n",
      "\n",
      "****************** Finished Training ******************\n",
      "seconds elapsed:  145.84605264663696\n"
     ]
    }
   ],
   "source": [
    "epocs = 30\n",
    "rmse = {\"train\": [], \"val\": []}\n",
    "\n",
    "start = time()\n",
    "for epoch in range(epocs):\n",
    "    model.train()\n",
    "    rmse[\"train\"].append(0)\n",
    "    for i, data in enumerate(train_dataloader, 0):\n",
    "        # get the inputs; data is a list of [inputs, labels]\n",
    "        inputs, labels = data\n",
    "\n",
    "        # zero the parameter gradients\n",
    "        optimizer.zero_grad()\n",
    "\n",
    "        outputs = model(inputs)\n",
    "\n",
    "        # forward + backward + optimize\n",
    "        loss = criterion(outputs, labels)\n",
    "        loss.backward()\n",
    "        optimizer.step()\n",
    "        rmse[\"train\"][epoch] += loss.sqrt().mean(dim=0)/len(train_dataloader)\n",
    "\n",
    "    # validation\n",
    "    model.eval()\n",
    "\n",
    "    rmse[\"val\"].append(0)\n",
    "    for i, data in enumerate(val_dataloader, 0):\n",
    "        # get the inputs; data is a list of [inputs, labels]\n",
    "        inputs, labels = data\n",
    "        with torch.no_grad():\n",
    "            outputs = model(inputs, predict_anyway=True)\n",
    "\n",
    "        # forward + backward + optimize\n",
    "        rmse[\"val\"][epoch] += criterion(outputs, labels).sqrt().mean(dim=0)/len(val_dataloader)\n",
    "    print(f\"\\n------> Epoch {epoch+1} <------\\n    Train RMSE loss: {rmse['train'][epoch]}\\n    Val   RMSE loss: {rmse['val'][epoch]}\")\n",
    "\n",
    "print('\\n\\n****************** Finished Training ******************')\n",
    "print(\"seconds elapsed: \", time()-start)"
   ],
   "metadata": {
    "collapsed": false,
    "pycharm": {
     "name": "#%%\n"
    }
   }
  },
  {
   "cell_type": "code",
   "execution_count": 173,
   "outputs": [
    {
     "data": {
      "text/plain": "<Figure size 432x288 with 1 Axes>",
      "image/png": "[encoded data removed]"
     },
     "metadata": {
      "needs_background": "light"
     },
     "output_type": "display_data"
    }
   ],
   "source": [
    "plt.plot(range(len(rmse[\"train\"])), rmse[\"train\"], color=\"blue\", label=\"train\")\n",
    "plt.plot(range(len(rmse[\"val\"])), rmse[\"val\"], color=\"red\", label=\"validation\")\n",
    "plt.title(\"RMSE\")\n",
    "plt.legend()\n",
    "plt.show()"
   ],
   "metadata": {
    "collapsed": false,
    "pycharm": {
     "name": "#%%\n"
    }
   }
  },
  {
   "cell_type": "code",
   "execution_count": 174,
   "outputs": [],
   "source": [
    "train_embedding = model.forward(torch.Tensor(train_timeseries))\n",
    "val_embedding = model.forward(torch.Tensor(val_timeseries))"
   ],
   "metadata": {
    "collapsed": false,
    "pycharm": {
     "name": "#%%\n"
    }
   }
  },
  {
   "cell_type": "code",
   "execution_count": 175,
   "outputs": [],
   "source": [
    "train_embedding_df = pd.concat([train_split.iloc[:, 2:4], pd.DataFrame(train_embedding.detach().numpy(), index=train_split.index)], axis=1)\n",
    "val_embedding_df = pd.concat([val_split.iloc[:, 2:4], pd.DataFrame(val_embedding.detach().numpy(), index=val_split.index)], axis=1)"
   ],
   "metadata": {
    "collapsed": false,
    "pycharm": {
     "name": "#%%\n"
    }
   }
  },
  {
   "cell_type": "code",
   "execution_count": 176,
   "outputs": [],
   "source": [
    "train_embedding_df.var2 = train_embedding_df.var2.replace({\"A\": 0, \"C\": 1})\n",
    "val_embedding_df.var2 = val_embedding_df.var2.replace({\"A\": 0, \"C\": 1})"
   ],
   "metadata": {
    "collapsed": false,
    "pycharm": {
     "name": "#%%\n"
    }
   }
  },
  {
   "cell_type": "code",
   "execution_count": 177,
   "outputs": [],
   "source": [
    "X_train, X_val = train_embedding_df.to_numpy(), val_embedding_df.to_numpy()\n",
    "y_train, y_val = train_split.y.to_numpy(), val_split.y.to_numpy()"
   ],
   "metadata": {
    "collapsed": false,
    "pycharm": {
     "name": "#%%\n"
    }
   }
  },
  {
   "cell_type": "code",
   "execution_count": 178,
   "outputs": [
    {
     "data": {
      "text/plain": "SVR(C=0.5, degree=4, kernel='sigmoid')"
     },
     "execution_count": 178,
     "metadata": {},
     "output_type": "execute_result"
    }
   ],
   "source": [
    "svm_model = svm.SVR(shrinking=True, kernel=\"sigmoid\", gamma=\"scale\", degree=4, C=0.5)\n",
    "\n",
    "svm_model.fit(X_train, y_train)"
   ],
   "metadata": {
    "collapsed": false,
    "pycharm": {
     "name": "#%%\n"
    }
   }
  },
  {
   "cell_type": "code",
   "execution_count": 179,
   "outputs": [],
   "source": [
    "y_ped_train = svm_model.predict(X_train)\n",
    "y_ped_val = svm_model.predict(X_val)"
   ],
   "metadata": {
    "collapsed": false,
    "pycharm": {
     "name": "#%%\n"
    }
   }
  },
  {
   "cell_type": "code",
   "execution_count": 180,
   "outputs": [
    {
     "name": "stdout",
     "output_type": "stream",
     "text": [
      "train : 14.46731332919218 \n",
      "val  : 16.120551887566872\n"
     ]
    }
   ],
   "source": [
    "print(f\"train : {np.sqrt(mean_squared_error(y_ped_train, y_train))} \\nval  : {np.sqrt(mean_squared_error(y_ped_val, y_val))}\")"
   ],
   "metadata": {
    "collapsed": false,
    "pycharm": {
     "name": "#%%\n"
    }
   }
  },
  {
   "cell_type": "code",
   "execution_count": 181,
   "outputs": [
    {
     "data": {
      "text/plain": "           0    1          2         3          4    5          6          7   \\\n110  0.000000  0.0  33.637390  0.000000  33.896420  0.0  30.615675  31.881088   \n419  0.000000  0.0  33.666306  0.000000  33.922497  0.0  30.645451  31.905592   \n565  0.000000  0.0  33.663048  0.000000  33.919193  0.0  30.641996  31.902082   \n77   0.000000  0.0  25.453283  0.000000  26.474634  0.0  23.194553  24.252129   \n181  0.000000  0.0  33.622978  0.000000  33.884037  0.0  30.611977  31.857613   \n..        ...  ...        ...       ...        ...  ...        ...        ...   \n399  0.000000  0.0  33.666332  0.000000  33.922523  0.0  30.645472  31.905622   \n340  0.000000  0.0  33.666298  0.000000  33.922527  0.0  30.645456  31.905621   \n148  0.042667  0.0  32.572865  0.100658  32.659508  0.0  29.666977  30.599995   \n494  0.000000  0.0  33.655487  0.000000  33.915691  0.0  30.638044  31.897831   \n439  0.000000  0.0  33.666225  0.000000  33.922428  0.0  30.645372  31.905540   \n\n            8    9   ...         22      23         24   25         26  \\\n110  31.626308  0.0  ...  28.560516  0.0000  33.136833  0.0  30.388554   \n419  31.652485  0.0  ...  28.585737  0.0000  33.165642  0.0  30.417480   \n565  31.648861  0.0  ...  28.582979  0.0000  33.162563  0.0  30.414177   \n77   24.933500  0.0  ...  21.665619  0.2713  25.743305  0.0  22.891548   \n181  31.602100  0.0  ...  28.555353  0.0000  33.120586  0.0  30.365826   \n..         ...  ...  ...        ...     ...        ...  ...        ...   \n399  31.652496  0.0  ...  28.585690  0.0000  33.165638  0.0  30.417484   \n340  31.652515  0.0  ...  28.585758  0.0000  33.165642  0.0  30.417496   \n148  30.702549  0.0  ...  27.752827  0.0000  32.023682  0.0  29.502060   \n494  31.643623  0.0  ...  28.577787  0.0000  33.156681  0.0  30.407158   \n439  31.652405  0.0  ...  28.585634  0.0000  33.165539  0.0  30.417383   \n\n            27         28         29   30        31  \n110  31.317009  30.641258  29.553339  0.0  0.000000  \n419  31.347656  30.668304  29.575769  0.0  0.000000  \n565  31.344082  30.664511  29.572756  0.0  0.000000  \n77   24.141226  23.771708  22.632118  0.0  0.032363  \n181  31.302959  30.623489  29.535894  0.0  0.000000  \n..         ...        ...        ...  ...       ...  \n399  31.347687  30.668293  29.575781  0.0  0.000000  \n340  31.347713  30.668343  29.575809  0.0  0.000000  \n148  30.236879  29.531418  28.562664  0.0  0.000000  \n494  31.340368  30.659786  29.570171  0.0  0.000000  \n439  31.347620  30.668217  29.575720  0.0  0.000000  \n\n[120 rows x 32 columns]",
      "text/html": "<div>\n<style scoped>\n    .dataframe tbody tr th:only-of-type {\n        vertical-align: middle;\n    }\n\n    .dataframe tbody tr th {\n        vertical-align: top;\n    }\n\n    .dataframe thead th {\n        text-align: right;\n    }\n</style>\n<table border=\"1\" class=\"dataframe\">\n  <thead>\n    <tr style=\"text-align: right;\">\n      <th></th>\n      <th>0</th>\n      <th>1</th>\n      <th>2</th>\n      <th>3</th>\n      <th>4</th>\n      <th>5</th>\n      <th>6</th>\n      <th>7</th>\n      <th>8</th>\n      <th>9</th>\n      <th>...</th>\n      <th>22</th>\n      <th>23</th>\n      <th>24</th>\n      <th>25</th>\n      <th>26</th>\n      <th>27</th>\n      <th>28</th>\n      <th>29</th>\n      <th>30</th>\n      <th>31</th>\n    </tr>\n  </thead>\n  <tbody>\n    <tr>\n      <th>110</th>\n      <td>0.000000</td>\n      <td>0.0</td>\n      <td>33.637390</td>\n      <td>0.000000</td>\n      <td>33.896420</td>\n      <td>0.0</td>\n      <td>30.615675</td>\n      <td>31.881088</td>\n      <td>31.626308</td>\n      <td>0.0</td>\n      <td>...</td>\n      <td>28.560516</td>\n      <td>0.0000</td>\n      <td>33.136833</td>\n      <td>0.0</td>\n      <td>30.388554</td>\n      <td>31.317009</td>\n      <td>30.641258</td>\n      <td>29.553339</td>\n      <td>0.0</td>\n      <td>0.000000</td>\n    </tr>\n    <tr>\n      <th>419</th>\n      <td>0.000000</td>\n      <td>0.0</td>\n      <td>33.666306</td>\n      <td>0.000000</td>\n      <td>33.922497</td>\n      <td>0.0</td>\n      <td>30.645451</td>\n      <td>31.905592</td>\n      <td>31.652485</td>\n      <td>0.0</td>\n      <td>...</td>\n      <td>28.585737</td>\n      <td>0.0000</td>\n      <td>33.165642</td>\n      <td>0.0</td>\n      <td>30.417480</td>\n      <td>31.347656</td>\n      <td>30.668304</td>\n      <td>29.575769</td>\n      <td>0.0</td>\n      <td>0.000000</td>\n    </tr>\n    <tr>\n      <th>565</th>\n      <td>0.000000</td>\n      <td>0.0</td>\n      <td>33.663048</td>\n      <td>0.000000</td>\n      <td>33.919193</td>\n      <td>0.0</td>\n      <td>30.641996</td>\n      <td>31.902082</td>\n      <td>31.648861</td>\n      <td>0.0</td>\n      <td>...</td>\n      <td>28.582979</td>\n      <td>0.0000</td>\n      <td>33.162563</td>\n      <td>0.0</td>\n      <td>30.414177</td>\n      <td>31.344082</td>\n      <td>30.664511</td>\n      <td>29.572756</td>\n      <td>0.0</td>\n      <td>0.000000</td>\n    </tr>\n    <tr>\n      <th>77</th>\n      <td>0.000000</td>\n      <td>0.0</td>\n      <td>25.453283</td>\n      <td>0.000000</td>\n      <td>26.474634</td>\n      <td>0.0</td>\n      <td>23.194553</td>\n      <td>24.252129</td>\n      <td>24.933500</td>\n      <td>0.0</td>\n      <td>...</td>\n      <td>21.665619</td>\n      <td>0.2713</td>\n      <td>25.743305</td>\n      <td>0.0</td>\n      <td>22.891548</td>\n      <td>24.141226</td>\n      <td>23.771708</td>\n      <td>22.632118</td>\n      <td>0.0</td>\n      <td>0.032363</td>\n    </tr>\n    <tr>\n      <th>181</th>\n      <td>0.000000</td>\n      <td>0.0</td>\n      <td>33.622978</td>\n      <td>0.000000</td>\n      <td>33.884037</td>\n      <td>0.0</td>\n      <td>30.611977</td>\n      <td>31.857613</td>\n      <td>31.602100</td>\n      <td>0.0</td>\n      <td>...</td>\n      <td>28.555353</td>\n      <td>0.0000</td>\n      <td>33.120586</td>\n      <td>0.0</td>\n      <td>30.365826</td>\n      <td>31.302959</td>\n      <td>30.623489</td>\n      <td>29.535894</td>\n      <td>0.0</td>\n      <td>0.000000</td>\n    </tr>\n    <tr>\n      <th>...</th>\n      <td>...</td>\n      <td>...</td>\n      <td>...</td>\n      <td>...</td>\n      <td>...</td>\n      <td>...</td>\n      <td>...</td>\n      <td>...</td>\n      <td>...</td>\n      <td>...</td>\n      <td>...</td>\n      <td>...</td>\n      <td>...</td>\n      <td>...</td>\n      <td>...</td>\n      <td>...</td>\n      <td>...</td>\n      <td>...</td>\n      <td>...</td>\n      <td>...</td>\n      <td>...</td>\n    </tr>\n    <tr>\n      <th>399</th>\n      <td>0.000000</td>\n      <td>0.0</td>\n      <td>33.666332</td>\n      <td>0.000000</td>\n      <td>33.922523</td>\n      <td>0.0</td>\n      <td>30.645472</td>\n      <td>31.905622</td>\n      <td>31.652496</td>\n      <td>0.0</td>\n      <td>...</td>\n      <td>28.585690</td>\n      <td>0.0000</td>\n      <td>33.165638</td>\n      <td>0.0</td>\n      <td>30.417484</td>\n      <td>31.347687</td>\n      <td>30.668293</td>\n      <td>29.575781</td>\n      <td>0.0</td>\n      <td>0.000000</td>\n    </tr>\n    <tr>\n      <th>340</th>\n      <td>0.000000</td>\n      <td>0.0</td>\n      <td>33.666298</td>\n      <td>0.000000</td>\n      <td>33.922527</td>\n      <td>0.0</td>\n      <td>30.645456</td>\n      <td>31.905621</td>\n      <td>31.652515</td>\n      <td>0.0</td>\n      <td>...</td>\n      <td>28.585758</td>\n      <td>0.0000</td>\n      <td>33.165642</td>\n      <td>0.0</td>\n      <td>30.417496</td>\n      <td>31.347713</td>\n      <td>30.668343</td>\n      <td>29.575809</td>\n      <td>0.0</td>\n      <td>0.000000</td>\n    </tr>\n    <tr>\n      <th>148</th>\n      <td>0.042667</td>\n      <td>0.0</td>\n      <td>32.572865</td>\n      <td>0.100658</td>\n      <td>32.659508</td>\n      <td>0.0</td>\n      <td>29.666977</td>\n      <td>30.599995</td>\n      <td>30.702549</td>\n      <td>0.0</td>\n      <td>...</td>\n      <td>27.752827</td>\n      <td>0.0000</td>\n      <td>32.023682</td>\n      <td>0.0</td>\n      <td>29.502060</td>\n      <td>30.236879</td>\n      <td>29.531418</td>\n      <td>28.562664</td>\n      <td>0.0</td>\n      <td>0.000000</td>\n    </tr>\n    <tr>\n      <th>494</th>\n      <td>0.000000</td>\n      <td>0.0</td>\n      <td>33.655487</td>\n      <td>0.000000</td>\n      <td>33.915691</td>\n      <td>0.0</td>\n      <td>30.638044</td>\n      <td>31.897831</td>\n      <td>31.643623</td>\n      <td>0.0</td>\n      <td>...</td>\n      <td>28.577787</td>\n      <td>0.0000</td>\n      <td>33.156681</td>\n      <td>0.0</td>\n      <td>30.407158</td>\n      <td>31.340368</td>\n      <td>30.659786</td>\n      <td>29.570171</td>\n      <td>0.0</td>\n      <td>0.000000</td>\n    </tr>\n    <tr>\n      <th>439</th>\n      <td>0.000000</td>\n      <td>0.0</td>\n      <td>33.666225</td>\n      <td>0.000000</td>\n      <td>33.922428</td>\n      <td>0.0</td>\n      <td>30.645372</td>\n      <td>31.905540</td>\n      <td>31.652405</td>\n      <td>0.0</td>\n      <td>...</td>\n      <td>28.585634</td>\n      <td>0.0000</td>\n      <td>33.165539</td>\n      <td>0.0</td>\n      <td>30.417383</td>\n      <td>31.347620</td>\n      <td>30.668217</td>\n      <td>29.575720</td>\n      <td>0.0</td>\n      <td>0.000000</td>\n    </tr>\n  </tbody>\n</table>\n<p>120 rows × 32 columns</p>\n</div>"
     },
     "execution_count": 181,
     "metadata": {},
     "output_type": "execute_result"
    }
   ],
   "source": [
    "pd.DataFrame(val_embedding.detach().numpy(), index=val_split.index)"
   ],
   "metadata": {
    "collapsed": false,
    "pycharm": {
     "name": "#%%\n"
    }
   }
  },
  {
   "cell_type": "code",
   "execution_count": 182,
   "outputs": [],
   "source": [
    "test = pd.read_csv(join(data_path, 'test.csv'))\n",
    "time_series_test = test.apply(lambda row: get_data(row)[-1], axis=1).to_list()"
   ],
   "metadata": {
    "collapsed": false,
    "pycharm": {
     "name": "#%%\n"
    }
   }
  },
  {
   "cell_type": "code",
   "execution_count": 183,
   "outputs": [],
   "source": [
    "predictions = model.forward(torch.Tensor(time_series_test), predict_anyway=True)"
   ],
   "metadata": {
    "collapsed": false,
    "pycharm": {
     "name": "#%%\n"
    }
   }
  },
  {
   "cell_type": "code",
   "execution_count": 62,
   "outputs": [],
   "source": [
    "test_embedding_df = pd.concat([test.iloc[:, 2:4], pd.DataFrame(test_embedding.detach().numpy(), index=test.index)], axis=1)"
   ],
   "metadata": {
    "collapsed": false,
    "pycharm": {
     "name": "#%%\n"
    }
   }
  },
  {
   "cell_type": "code",
   "execution_count": 133,
   "outputs": [
    {
     "data": {
      "text/plain": "tensor([[106.7174],\n        [106.8461],\n        [106.8462],\n        [ 40.6383],\n        [106.8414],\n        [106.8447],\n        [106.8461],\n        [ 97.3616],\n        [ 35.5079],\n        [106.8461],\n        [ 93.9863],\n        [106.8318],\n        [-39.6860],\n        [106.8460],\n        [106.8461],\n        [106.8429],\n        [106.8459],\n        [106.8445],\n        [106.8419],\n        [-19.4348],\n        [106.8454],\n        [106.8446],\n        [106.8400],\n        [106.8461],\n        [106.8461],\n        [106.8448],\n        [-38.0568],\n        [106.6906],\n        [106.8460],\n        [106.8461],\n        [106.8459],\n        [ 97.5422],\n        [ 21.0665],\n        [106.8434],\n        [106.8444],\n        [106.8461],\n        [101.3131],\n        [106.8457],\n        [106.8461],\n        [106.8458],\n        [106.8461],\n        [106.8453],\n        [106.8457],\n        [106.8460],\n        [106.8461],\n        [106.8441],\n        [ 14.8656],\n        [106.3747],\n        [ 20.8572],\n        [106.8396],\n        [106.8461],\n        [106.8460],\n        [106.8441],\n        [106.8443],\n        [106.8458],\n        [106.8461],\n        [106.8451],\n        [ 98.0887],\n        [ 63.8200],\n        [106.8455],\n        [ 61.1476],\n        [106.8453],\n        [106.8461],\n        [106.8459],\n        [106.8459],\n        [ 27.2343],\n        [106.8430],\n        [106.8449],\n        [-31.3093],\n        [106.8461],\n        [106.8457],\n        [106.8461],\n        [106.8461],\n        [106.8461],\n        [106.8461],\n        [106.8417],\n        [106.8452],\n        [106.8461],\n        [106.8460],\n        [106.8461],\n        [106.8458],\n        [106.8461],\n        [106.8460],\n        [106.8461],\n        [  7.5869],\n        [106.8460],\n        [ 91.2791],\n        [106.8087],\n        [106.8461],\n        [106.8461],\n        [106.8460],\n        [106.8460],\n        [ 58.7769],\n        [106.8462],\n        [106.8455],\n        [106.8460],\n        [106.8461],\n        [106.8461],\n        [106.8461],\n        [ 33.7541],\n        [ -4.9137],\n        [106.8460],\n        [106.8461],\n        [106.8461],\n        [ 54.4752],\n        [106.8461],\n        [ 87.6812],\n        [106.8459],\n        [106.8461],\n        [106.8461],\n        [106.8459],\n        [ 47.6056],\n        [106.8449],\n        [106.8459],\n        [106.8461],\n        [106.8461],\n        [106.8461],\n        [105.0062],\n        [106.8458],\n        [106.8461]], grad_fn=<AddmmBackward>)"
     },
     "execution_count": 133,
     "metadata": {},
     "output_type": "execute_result"
    }
   ],
   "source": [
    "val_pred"
   ],
   "metadata": {
    "collapsed": false,
    "pycharm": {
     "name": "#%%\n"
    }
   }
  },
  {
   "cell_type": "code",
   "execution_count": 67,
   "outputs": [],
   "source": [
    "y_ped_val = model.forward(torch.Tensor(val_timeseries), predict_anyway=True)"
   ],
   "metadata": {
    "collapsed": false,
    "pycharm": {
     "name": "#%%\n"
    }
   }
  }
 ],
 "metadata": {
  "kernelspec": {
   "name": "python3",
   "language": "python",
   "display_name": "Python 3"
  },
  "language_info": {
   "codemirror_mode": {
    "name": "ipython",
    "version": 3
   },
   "file_extension": ".py",
   "mimetype": "text/x-python",
   "name": "python",
   "nbconvert_exporter": "python",
   "pygments_lexer": "ipython3",
   "version": "3.7.10"
  },
  "papermill": {
   "default_parameters": {},
   "duration": 28.082509,
   "end_time": "2021-06-28T09:53:45.178880",
   "environment_variables": {},
   "exception": null,
   "input_path": "__notebook__.ipynb",
   "output_path": "__notebook__.ipynb",
   "parameters": {},
   "start_time": "2021-06-28T09:53:17.096371",
   "version": "2.3.3"
  }
 },
 "nbformat": 4,
 "nbformat_minor": 5
}