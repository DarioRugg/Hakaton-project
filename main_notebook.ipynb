{
 "cells": [
  {
   "cell_type": "code",
   "execution_count": 315,
   "outputs": [
    {
     "data": {
      "text/plain": "<torch._C.Generator at 0x22fa8ea58f0>"
     },
     "metadata": {},
     "output_type": "execute_result",
     "execution_count": 315
    }
   ],
   "source": [
    "# basic imports\n",
    "import numpy as np\n",
    "import pandas as pd\n",
    "from time import time\n",
    "\n",
    "# demos for visualization\n",
    "from nilearn import datasets\n",
    "from nilearn import plotting\n",
    "from nilearn.connectome import GroupSparseCovariance\n",
    "from nilearn.connectome import ConnectivityMeasure\n",
    "\n",
    "import matplotlib.pyplot as plt\n",
    "\n",
    "# for ML\n",
    "from sklearn import svm\n",
    "from sklearn.metrics import mean_squared_error\n",
    "from sklearn.model_selection import train_test_split\n",
    "from sklearn.inspection import permutation_importance\n",
    "from sklearn.decomposition import KernelPCA\n",
    "from sklearn import ensemble\n",
    "\n",
    "import torch.nn as nn\n",
    "import torch.nn.functional as F\n",
    "import torch\n",
    "from torch.utils.data import TensorDataset, DataLoader\n",
    "\n",
    "# os library\n",
    "from os.path import exists, join\n",
    "\n",
    "np.random.seed(1679838)\n",
    "torch.manual_seed(1679838)"
   ],
   "metadata": {
    "collapsed": false,
    "pycharm": {
     "name": "#%%\n",
     "is_executing": false
    }
   }
  },
  {
   "cell_type": "code",
   "execution_count": 316,
   "id": "blessed-register",
   "metadata": {
    "execution": {
     "iopub.execute_input": "2021-06-28T09:53:27.478513Z",
     "iopub.status.busy": "2021-06-28T09:53:27.474676Z",
     "iopub.status.idle": "2021-06-28T09:53:35.422989Z",
     "shell.execute_reply": "2021-06-28T09:53:35.421589Z",
     "shell.execute_reply.started": "2021-06-28T06:49:00.608859Z"
    },
    "papermill": {
     "duration": 7.970231,
     "end_time": "2021-06-28T09:53:35.423239",
     "exception": false,
     "start_time": "2021-06-28T09:53:27.453008",
     "status": "completed"
    },
    "tags": [],
    "pycharm": {
     "is_executing": false
    }
   },
   "outputs": [],
   "source": [
    "data_path = join(\".\", \"data\") if exists(join(\".\", \"data\")) \\\n",
    "    else join(\"..\", \"input\", \"statistical-learning-sapienza-spring-2021\")"
   ]
  },
  {
   "cell_type": "code",
   "execution_count": 317,
   "outputs": [],
   "source": [
    "train = pd.read_csv(join(data_path, 'train.csv'))"
   ],
   "metadata": {
    "collapsed": false,
    "pycharm": {
     "name": "#%%\n",
     "is_executing": false
    }
   }
  },
  {
   "cell_type": "code",
   "execution_count": 381,
   "outputs": [],
   "source": [
    "roi_indices = ['Frontal' in x for x in pd.read_csv(join('.', 'data', 'coordinates.txt'), sep = ' ')['Abbreviation']]"
   ],
   "metadata": {
    "collapsed": false,
    "pycharm": {
     "name": "#%%\n",
     "is_executing": false
    }
   }
  },
  {
   "cell_type": "code",
   "execution_count": 428,
   "outputs": [
    {
     "data": {
      "text/plain": "array(['Precentral_L', 'Precentral_R', 'Frontal_Sup_L', 'Frontal_Sup_R',\n       'Frontal_Sup_Orb_L', 'Frontal_Sup_Orb_R', 'Frontal_Mid_L',\n       'Frontal_Mid_R', 'Frontal_Mid_Orb_L', 'Frontal_Mid_Orb_R',\n       'Frontal_Inf_Oper_L', 'Frontal_Inf_Oper_R', 'Frontal_Inf_Tri_L',\n       'Frontal_Inf_Tri_R', 'Frontal_Inf_Orb_L', 'Frontal_Inf_Orb_R',\n       'Rolandic_Oper_L', 'Rolandic_Oper_R', 'Supp_Motor_Area_L',\n       'Supp_Motor_Area_R', 'Olfactory_L', 'Olfactory_R',\n       'Frontal_Sup_Medial_L', 'Frontal_Sup_Medial_R',\n       'Frontal_Med_Orb_L', 'Frontal_Med_Orb_R', 'Rectus_L', 'Rectus_R',\n       'Insula_L', 'Insula_R', 'Cingulum_Ant_L', 'Cingulum_Ant_R',\n       'Cingulum_Mid_L', 'Cingulum_Mid_R', 'Cingulum_Post_L',\n       'Cingulum_Post_R', 'Hippocampus_L', 'Hippocampus_R',\n       'ParaHippocampal_L', 'ParaHippocampal_R', 'Amygdala_L',\n       'Amygdala_R', 'Calcarine_L', 'Calcarine_R', 'Cuneus_L', 'Cuneus_R',\n       'Lingual_L', 'Lingual_R', 'Occipital_Sup_L', 'Occipital_Sup_R',\n       'Occipital_Mid_L', 'Occipital_Mid_R', 'Occipital_Inf_L',\n       'Occipital_Inf_R', 'Fusiform_L', 'Fusiform_R', 'Postcentral_L',\n       'Postcentral_R', 'Parietal_Sup_L', 'Parietal_Sup_R',\n       'Parietal_Inf_L', 'Parietal_Inf_R', 'SupraMarginal_L',\n       'SupraMarginal_R', 'Angular_L', 'Angular_R', 'Precuneus_L',\n       'Precuneus_R', 'Paracentral_Lobule_L', 'Paracentral_Lobule_R',\n       'Caudate_L', 'Caudate_R', 'Putamen_L', 'Putamen_R', 'Pallidum_L',\n       'Pallidum_R', 'Thalamus_L', 'Thalamus_R', 'Heschl_L', 'Heschl_R',\n       'Temporal_Sup_L', 'Temporal_Sup_R', 'Temporal_Pole_Sup_L',\n       'Temporal_Pole_Sup_R', 'Temporal_Mid_L', 'Temporal_Mid_R',\n       'Temporal_Pole_Mid_L', 'Temporal_Pole_Mid_R', 'Temporal_Inf_L',\n       'Temporal_Inf_R', 'Cerebellum_Crus1_L', 'Cerebellum_Crus1_R',\n       'Cerebellum_Crus2_L', 'Cerebellum_Crus2_R', 'Cerebellum_3_L',\n       'Cerebellum_3_R', 'Cerebellum_4_5_L', 'Cerebellum_4_5_R',\n       'Cerebellum_6_L', 'Cerebellum_6_R', 'Cerebellum_7b_L',\n       'Cerebellum_7b_R', 'Cerebellum_8_L', 'Cerebellum_8_R',\n       'Cerebellum_9_L', 'Cerebellum_9_R', 'Cerebellum_10_L',\n       'Cerebellum_10_R', 'Vermis_1_2', 'Vermis_3', 'Vermis_4_5',\n       'Vermis_6', 'Vermis_7', 'Vermis_8', 'Vermis_9', 'Vermis_10'],\n      dtype=object)"
     },
     "metadata": {},
     "output_type": "execute_result",
     "execution_count": 428
    }
   ],
   "source": [
    "pd.read_csv(join('.', 'data', 'coordinates.txt'), sep = ' ')['Abbreviation'].values"
   ],
   "metadata": {
    "collapsed": false,
    "pycharm": {
     "name": "#%%\n",
     "is_executing": false
    }
   }
  },
  {
   "cell_type": "markdown",
   "source": [
    "### Splitting"
   ],
   "metadata": {
    "collapsed": false,
    "pycharm": {
     "name": "#%% md\n"
    }
   }
  },
  {
   "cell_type": "code",
   "execution_count": 429,
   "outputs": [],
   "source": [
    "y_train = train.loc[:,'y']\n",
    "X_train = train.drop(columns=['y'])\n",
    "X_train.loc[:, 'var2'] = X_train.loc[:, 'var2'] == 'A'\n",
    "X_train.loc[:, 'var3'] = X_train.loc[:, 'var3'] == 'A'"
   ],
   "metadata": {
    "collapsed": false,
    "pycharm": {
     "name": "#%%\n",
     "is_executing": false
    }
   }
  },
  {
   "cell_type": "code",
   "execution_count": 430,
   "outputs": [
    {
     "data": {
      "text/plain": "PCA(n_components=0.9, svd_solver='full')"
     },
     "metadata": {},
     "output_type": "execute_result",
     "execution_count": 430
    }
   ],
   "source": [
    "from sklearn.decomposition import PCA\n",
    "mean_ts_train = X_train.iloc[:,4:].apply(np.mean, axis=0).to_numpy().reshape(115, 116)\n",
    "pca_model = PCA(n_components=0.9, svd_solver='full')\n",
    "pca_model.fit(mean_ts_train)\n"
   ],
   "metadata": {
    "collapsed": false,
    "pycharm": {
     "name": "#%%\n",
     "is_executing": false
    }
   }
  },
  {
   "cell_type": "code",
   "execution_count": 431,
   "outputs": [],
   "source": [
    "def get_data(entry):\n",
    "    variables = entry[['var1', 'var2', 'var3']].to_numpy()\n",
    "    timeseries = entry[5 if \"y\" in entry.index else 4:].to_numpy(dtype=float).reshape((115, 116), order=\"F\")\n",
    "    # timeseries = timeseries[:, roi_indices]\n",
    "    return {\"variables\": variables, \"timeseries\": timeseries}\n",
    "\n",
    "train_timeseries = X_train.apply(lambda row: pca_model.transform(get_data(row)[\"timeseries\"]), axis=1).to_list()"
   ],
   "metadata": {
    "collapsed": false,
    "pycharm": {
     "name": "#%%\n",
     "is_executing": false
    }
   }
  },
  {
   "cell_type": "code",
   "execution_count": 433,
   "outputs": [
    {
     "name": "stderr",
     "text": [
      "C:\\Users\\simon\\Anaconda3\\lib\\site-packages\\pandas\\core\\indexing.py:1743: SettingWithCopyWarning: \n",
      "A value is trying to be set on a copy of a slice from a DataFrame.\n",
      "Try using .loc[row_indexer,col_indexer] = value instead\n",
      "\n",
      "See the caveats in the documentation: https://pandas.pydata.org/pandas-docs/stable/user_guide/indexing.html#returning-a-view-versus-a-copy\n",
      "  isetter(ilocs[0], value)\n"
     ],
     "output_type": "stream"
    }
   ],
   "source": [
    "variables = train[['var1', 'var2', 'var3']]\n",
    "variables.loc[:, 'var2'] = vars.loc[:, 'var2'] == 'A'\n",
    "variables.loc[:, 'var3'] = vars.loc[:, 'var3'] == 'A'"
   ],
   "metadata": {
    "collapsed": false,
    "pycharm": {
     "name": "#%%\n",
     "is_executing": false
    }
   }
  },
  {
   "cell_type": "markdown",
   "source": [
    "## Correlation matrices and PCA\n"
   ],
   "metadata": {
    "collapsed": false,
    "pycharm": {
     "name": "#%% md\n"
    }
   }
  },
  {
   "cell_type": "code",
   "execution_count": 432,
   "outputs": [
    {
     "name": "stdout",
     "text": [
      "0.0% done in 0.0 seconds\n",
      "10.0% done in 21.56 seconds\n",
      "20.0% done in 45.86 seconds\n",
      "30.0% done in 67.25 seconds\n",
      "40.0% done in 88.82 seconds\n",
      "50.0% done in 110.86 seconds\n",
      "60.0% done in 132.42 seconds\n",
      "70.0% done in 154.43 seconds\n",
      "80.0% done in 175.19 seconds\n",
      "90.0% done in 198.22 seconds\n",
      "Granger Analysis done in 3.66 minutes\n"
     ],
     "output_type": "stream"
    },
    {
     "name": "stderr",
     "text": [
      "C:\\Users\\simon\\Anaconda3\\lib\\site-packages\\nitime\\algorithms\\autoregressive.py:523: RuntimeWarning: invalid value encountered in log\n",
      "  f_xy = np.log(f_xy)\n",
      "C:\\Users\\simon\\Anaconda3\\lib\\site-packages\\nitime\\algorithms\\autoregressive.py:509: RuntimeWarning: invalid value encountered in log\n",
      "  f_x_on_y = np.log(Syy.real / yy_auto_component)\n",
      "C:\\Users\\simon\\Anaconda3\\lib\\site-packages\\nitime\\algorithms\\autoregressive.py:499: RuntimeWarning: invalid value encountered in log\n",
      "  f_y_on_x = np.log(Sxx.real / xx_auto_component)\n"
     ],
     "output_type": "stream"
    }
   ],
   "source": [
    "import nitime.timeseries as ts\n",
    "time_series = list(map(lambda x: ts.TimeSeries(x.T, sampling_interval=1), train_timeseries))\n",
    "\n",
    "import nitime.analysis as nta\n",
    "import time\n",
    "start = time.time()\n",
    "f_ub = 0.15\n",
    "f_lb = 0.02\n",
    "causalities = []\n",
    "for i, x in enumerate(time_series):\n",
    "    if i%60 == 0:\n",
    "        print(f'{i/6}% done in {round(time.time() - start, 2)} seconds')\n",
    "    G=nta.GrangerAnalyzer(x, order=1)\n",
    "    freq_idx_G = np.where((G.frequencies > f_lb) * (G.frequencies < f_ub))[0]\n",
    "    g1 = np.mean(G.causality_xy[:, :, freq_idx_G], -1)\n",
    "    causalities.append(g1)\n",
    "print(f'Granger Analysis done in {round((time.time() - start)/60, 2)} minutes')\n",
    "\n",
    "for c in causalities:\n",
    "    c[np.isnan(c)] = 0\n"
   ],
   "metadata": {
    "collapsed": false,
    "pycharm": {
     "name": "#%%\n",
     "is_executing": false
    }
   }
  },
  {
   "cell_type": "code",
   "execution_count": 438,
   "outputs": [],
   "source": [
    "X_train = np.hstack([variables, np.vstack(list(map(lambda x: np.abs(x.flatten())>0.25, causalities)))])\n"
   ],
   "metadata": {
    "collapsed": false,
    "pycharm": {
     "name": "#%%\n",
     "is_executing": false
    }
   }
  },
  {
   "cell_type": "code",
   "execution_count": 435,
   "outputs": [
    {
     "data": {
      "text/plain": "array([[19, False, False, ..., False, False, False],\n       [14, False, False, ..., False, False, False],\n       [13, False, False, ..., False, False, False],\n       ...,\n       [27, False, False, ..., False, False, False],\n       [29, False, False, ..., False, False, False],\n       [26, False, False, ..., False, False, False]], dtype=object)"
     },
     "metadata": {},
     "output_type": "execute_result",
     "execution_count": 435
    }
   ],
   "source": [
    "X_train"
   ],
   "metadata": {
    "collapsed": false,
    "pycharm": {
     "name": "#%%\n",
     "is_executing": false
    }
   }
  },
  {
   "cell_type": "code",
   "execution_count": 358,
   "outputs": [],
   "source": [
    "# def apply_connectivity(time_series, vect=True, diag=True):\n",
    "#     # objects:\n",
    "#     correlation_measure = ConnectivityMeasure(kind='partial correlation',\n",
    "#                                               vectorize = vect,\n",
    "#                                               discard_diagonal=diag)\n",
    "#     \n",
    "#     \n",
    "# \n",
    "#     # fitting predicting:\n",
    "#     return correlation_measure.fit_transform(time_series)\n",
    "#     # pca_model.fit(cor_mat)\n",
    "# \n",
    "# train_cor_vec = apply_connectivity(train_timeseries)\n",
    "# val_cor_vec = apply_connectivity(val_timeseries)\n",
    "# \n",
    "\n"
   ],
   "metadata": {
    "collapsed": false,
    "pycharm": {
     "name": "#%%\n",
     "is_executing": false
    }
   }
  },
  {
   "cell_type": "code",
   "execution_count": 439,
   "outputs": [
    {
     "name": "stdout",
     "text": [
      "best params: {'shrinking': True, 'kernel': 'poly', 'gamma': 'scale', 'degree': 2, 'C': 0.1}\n",
      "best score: -14.632556842843966\n"
     ],
     "output_type": "stream"
    }
   ],
   "source": [
    "from sklearn.model_selection import RandomizedSearchCV\n",
    "\n",
    "#model \n",
    "model = svm.SVR(max_iter=10000)\n",
    "#cross validation with random search model\n",
    "params = dict(kernel=['linear', 'poly', 'rbf', 'sigmoid'],\n",
    "              degree=[2,3,4],\n",
    "              C=[0.1, 0.5, 1.0, 1.5, 2, 3, 5, 10, 30, 50],\n",
    "              gamma= ['auto', 'scale'],\n",
    "              shrinking = [True, False]\n",
    "             )\n",
    "reg = RandomizedSearchCV(estimator = model, param_distributions = params,\n",
    "                                   scoring = 'neg_root_mean_squared_error',\n",
    "                                   n_iter = 150,\n",
    "                                   cv = 4, n_jobs = -1)\n",
    "random_search = reg.fit(X_train, y_train)\n",
    "\n",
    "print(f'best params: {random_search.best_params_}')\n",
    "print(f'best score: {random_search.best_score_}')"
   ],
   "metadata": {
    "collapsed": false,
    "pycharm": {
     "name": "#%%\n",
     "is_executing": false
    }
   }
  },
  {
   "cell_type": "code",
   "execution_count": 440,
   "outputs": [
    {
     "name": "stdout",
     "text": [
      "best train score -14.701335639866363\n"
     ],
     "output_type": "stream"
    }
   ],
   "source": [
    "from sklearn.metrics import mean_squared_error\n",
    "best_model = random_search.best_estimator_\n",
    "y_pred = best_model.predict(X_train)\n",
    "print(f'best train score {-mean_squared_error(y_train, y_pred, squared=False)}')"
   ],
   "metadata": {
    "collapsed": false,
    "pycharm": {
     "name": "#%%\n",
     "is_executing": false
    }
   }
  },
  {
   "cell_type": "code",
   "execution_count": 442,
   "outputs": [],
   "source": [
    "test = pd.read_csv(join('.', 'data', 'test.csv'))\n",
    "test.loc[:, 'var2'] = test.loc[:, 'var2'] == 'A'\n",
    "test.loc[:, 'var3'] = test.loc[:, 'var3'] == 'A'\n",
    "\n",
    "test_timeseries = test.apply(lambda row: pca_model.transform(get_data(row)[\"timeseries\"]), axis=1).to_list()\n"
   ],
   "metadata": {
    "collapsed": false,
    "pycharm": {
     "name": "#%%\n",
     "is_executing": false
    }
   }
  },
  {
   "cell_type": "code",
   "execution_count": 414,
   "outputs": [
    {
     "data": {
      "text/plain": "(115, 18)"
     },
     "metadata": {},
     "output_type": "execute_result",
     "execution_count": 414
    }
   ],
   "source": [
    "test_timeseries[0].shape"
   ],
   "metadata": {
    "collapsed": false,
    "pycharm": {
     "name": "#%%\n",
     "is_executing": false
    }
   }
  },
  {
   "cell_type": "code",
   "execution_count": 443,
   "outputs": [
    {
     "name": "stdout",
     "text": [
      "0.0% done in 0.0 seconds\n",
      "10.0% done in 21.68 seconds\n",
      "20.0% done in 45.04 seconds\n",
      "30.0% done in 65.62 seconds\n",
      "Granger Analysis done in 1.21 minutes\n"
     ],
     "output_type": "stream"
    },
    {
     "name": "stderr",
     "text": [
      "C:\\Users\\simon\\Anaconda3\\lib\\site-packages\\nitime\\algorithms\\autoregressive.py:523: RuntimeWarning: invalid value encountered in log\n",
      "  f_xy = np.log(f_xy)\n",
      "C:\\Users\\simon\\Anaconda3\\lib\\site-packages\\nitime\\algorithms\\autoregressive.py:499: RuntimeWarning: invalid value encountered in log\n",
      "  f_y_on_x = np.log(Sxx.real / xx_auto_component)\n",
      "C:\\Users\\simon\\Anaconda3\\lib\\site-packages\\nitime\\algorithms\\autoregressive.py:509: RuntimeWarning: invalid value encountered in log\n",
      "  f_x_on_y = np.log(Syy.real / yy_auto_component)\n"
     ],
     "output_type": "stream"
    }
   ],
   "source": [
    "test_timeseries = list(map(lambda x: ts.TimeSeries(x.T, sampling_interval=1), test_timeseries))\n",
    "\n",
    "start = time.time()\n",
    "f_ub = 0.15\n",
    "f_lb = 0.02\n",
    "test_causalities = []\n",
    "for i, x in enumerate(test_timeseries):\n",
    "    if i%60 == 0:\n",
    "        print(f'{i/6}% done in {round(time.time() - start, 2)} seconds')\n",
    "    G=nta.GrangerAnalyzer(x, order=1)\n",
    "    freq_idx_G = np.where((G.frequencies > f_lb) * (G.frequencies < f_ub))[0]\n",
    "    g1 = np.mean(G.causality_xy[:, :, freq_idx_G], -1)\n",
    "    test_causalities.append(g1)\n",
    "print(f'Granger Analysis done in {round((time.time() - start)/60, 2)} minutes')\n",
    "\n",
    "for c in test_causalities:\n",
    "    c[np.isnan(c)] = 0"
   ],
   "metadata": {
    "collapsed": false,
    "pycharm": {
     "name": "#%%\n",
     "is_executing": false
    }
   }
  },
  {
   "cell_type": "code",
   "execution_count": 444,
   "outputs": [],
   "source": [
    "X_test = np.hstack([test[['var1', 'var2', 'var3']], np.vstack(list(map(lambda x: np.abs(x.flatten())>0.25, test_causalities)))])\n"
   ],
   "metadata": {
    "collapsed": false,
    "pycharm": {
     "name": "#%%\n",
     "is_executing": false
    }
   }
  },
  {
   "cell_type": "code",
   "execution_count": 445,
   "outputs": [],
   "source": [
    "\n",
    "prediction = best_model.predict(X_test)"
   ],
   "metadata": {
    "collapsed": false,
    "pycharm": {
     "name": "#%%\n",
     "is_executing": false
    }
   }
  },
  {
   "cell_type": "code",
   "execution_count": 446,
   "outputs": [],
   "source": [
    "submission = pd.concat([test['id'], pd.Series(prediction, name='target')], axis=1)"
   ],
   "metadata": {
    "collapsed": false,
    "pycharm": {
     "name": "#%%\n",
     "is_executing": false
    }
   }
  },
  {
   "cell_type": "code",
   "execution_count": 447,
   "outputs": [],
   "source": [
    "submission.to_csv('submission_granger_pca.csv', index=False)"
   ],
   "metadata": {
    "collapsed": false,
    "pycharm": {
     "name": "#%%\n",
     "is_executing": false
    }
   }
  },
  {
   "cell_type": "code",
   "execution_count": 61,
   "outputs": [],
   "source": [
    "train_var_and_cor = pd.concat([pd.DataFrame(train_variables).add_prefix('var_'), train_cor_vec], axis=1)\n",
    "val_var_and_cor = pd.concat([pd.DataFrame(val_variables).add_prefix('var_'), val_cor_vec], axis=1)\n"
   ],
   "metadata": {
    "collapsed": false,
    "pycharm": {
     "name": "#%%\n",
     "is_executing": false
    }
   }
  },
  {
   "cell_type": "markdown",
   "source": [
    "### Data loaders"
   ],
   "metadata": {
    "collapsed": false,
    "pycharm": {
     "name": "#%% md\n"
    }
   }
  },
  {
   "cell_type": "code",
   "execution_count": 61,
   "outputs": [],
   "source": [],
   "metadata": {
    "collapsed": false,
    "pycharm": {
     "name": "#%%\n",
     "is_executing": false
    }
   }
  },
  {
   "cell_type": "code",
   "execution_count": 62,
   "outputs": [],
   "source": [
    "def get_dataloader(timeseries, variables_correlation, labels):\n",
    "    return DataLoader(TensorDataset(torch.Tensor(timeseries),torch.Tensor(variables_correlation),\n",
    "                                    torch.Tensor(labels)), batch_size=10) # create your dataloader\n",
    "\n",
    "train_dataloader = get_dataloader(train_timeseries, np.array(train_variables), train_split.y.to_numpy())\n",
    "val_dataloader = get_dataloader(val_timeseries, np.array(val_variables), val_split.y.to_numpy())"
   ],
   "metadata": {
    "collapsed": false,
    "pycharm": {
     "name": "#%%\n",
     "is_executing": false
    }
   }
  },
  {
   "cell_type": "markdown",
   "source": [
    "## Model"
   ],
   "metadata": {
    "collapsed": false,
    "pycharm": {
     "name": "#%% md\n"
    }
   }
  },
  {
   "cell_type": "code",
   "execution_count": 67,
   "outputs": [],
   "source": [
    "class BlackEmbedding(nn.Module):\n",
    "    def __init__(self, hidden_size, num_layers):\n",
    "        super().__init__()\n",
    "        self.rnn_model = nn.RNN(input_size=119, hidden_size=hidden_size, num_layers=num_layers, dropout=0.05, batch_first=True)\n",
    "        self.fc1 = nn.Linear(3+(hidden_size*(1+num_layers)), 32)\n",
    "        self.fc2 = nn.Linear(32, 32)\n",
    "        self.regressor = nn.Linear(32, 1)\n",
    "        self.activation = nn.ReLU()\n",
    "\n",
    "    def forward(self, x, var_and_cor, predict_anyway=False):\n",
    "        x = torch.cat([x, np.repeat(var_and_cor[:, np.newaxis,:], 115, axis=1)], dim=-1)\n",
    "        outputs, hidden = self.rnn_model(x)\n",
    "\n",
    "        hidden = torch.cat(list(map(lambda i: hidden[i, ], range(hidden.shape[0]))), dim=-1)\n",
    "\n",
    "        x = torch.cat([var_and_cor, outputs[:, -1, ], hidden], dim=-1)  # taking only the last\n",
    "\n",
    "        x = self.activation(self.fc1(x))\n",
    "        x = self.activation(self.fc2(x))\n",
    "\n",
    "        if self.training or predict_anyway:\n",
    "            x = self.regressor(x)\n",
    "\n",
    "        return x.squeeze(dim=1)\n",
    "\n",
    "model = BlackEmbedding(hidden_size=64, num_layers=5)\n",
    "optimizer = torch.optim.Adam(model.parameters(), lr=0.0007)\n",
    "criterion = nn.MSELoss()\n",
    "\n"
   ],
   "metadata": {
    "collapsed": false,
    "pycharm": {
     "name": "#%%\n",
     "is_executing": false
    }
   }
  },
  {
   "cell_type": "markdown",
   "source": [
    "## Training"
   ],
   "metadata": {
    "collapsed": false,
    "pycharm": {
     "name": "#%% md\n"
    }
   }
  },
  {
   "cell_type": "code",
   "execution_count": 67,
   "outputs": [],
   "source": [],
   "metadata": {
    "collapsed": false,
    "pycharm": {
     "name": "#%%\n",
     "is_executing": false
    }
   }
  },
  {
   "cell_type": "code",
   "execution_count": 69,
   "outputs": [
    {
     "name": "stdout",
     "text": [
      "\n",
      "------> Epoch 1 <------\n",
      "    Train RMSE loss: 14.134319305419922\n",
      "    Val   RMSE loss: 15.566473007202148\n",
      "\n",
      "------> Epoch 2 <------\n",
      "    Train RMSE loss: 14.133048057556152\n",
      "    Val   RMSE loss: 15.513832092285156\n",
      "\n",
      "------> Epoch 3 <------\n",
      "    Train RMSE loss: 14.113158226013184\n",
      "    Val   RMSE loss: 15.47895622253418\n",
      "\n",
      "------> Epoch 4 <------\n",
      "    Train RMSE loss: 14.083061218261719\n",
      "    Val   RMSE loss: 15.45009994506836\n",
      "\n",
      "------> Epoch 5 <------\n",
      "    Train RMSE loss: 14.05765151977539\n",
      "    Val   RMSE loss: 15.367844581604004\n",
      "\n",
      "------> Epoch 6 <------\n",
      "    Train RMSE loss: 13.992067337036133\n",
      "    Val   RMSE loss: 15.346684455871582\n",
      "\n",
      "------> Epoch 7 <------\n",
      "    Train RMSE loss: 13.944612503051758\n",
      "    Val   RMSE loss: 15.32274055480957\n",
      "\n",
      "------> Epoch 8 <------\n",
      "    Train RMSE loss: 13.883169174194336\n",
      "    Val   RMSE loss: 15.29275894165039\n",
      "\n",
      "------> Epoch 9 <------\n",
      "    Train RMSE loss: 13.801652908325195\n",
      "    Val   RMSE loss: 15.26380729675293\n",
      "\n",
      "------> Epoch 10 <------\n",
      "    Train RMSE loss: 13.79898738861084\n",
      "    Val   RMSE loss: 15.261756896972656\n",
      "\n",
      "------> Epoch 11 <------\n",
      "    Train RMSE loss: 13.702644348144531\n",
      "    Val   RMSE loss: 15.202545166015625\n",
      "\n",
      "------> Epoch 12 <------\n",
      "    Train RMSE loss: 13.70533275604248\n",
      "    Val   RMSE loss: 15.123884201049805\n",
      "\n",
      "------> Epoch 13 <------\n",
      "    Train RMSE loss: 13.526601791381836\n",
      "    Val   RMSE loss: 14.810242652893066\n",
      "\n",
      "------> Epoch 14 <------\n",
      "    Train RMSE loss: 13.330504417419434\n",
      "    Val   RMSE loss: 15.164447784423828\n",
      "\n",
      "------> Epoch 15 <------\n",
      "    Train RMSE loss: 13.313901901245117\n",
      "    Val   RMSE loss: 15.363821029663086\n",
      "\n",
      "------> Epoch 16 <------\n",
      "    Train RMSE loss: 13.069536209106445\n",
      "    Val   RMSE loss: 15.346029281616211\n",
      "\n",
      "------> Epoch 17 <------\n",
      "    Train RMSE loss: 12.677580833435059\n",
      "    Val   RMSE loss: 15.521299362182617\n",
      "\n",
      "------> Epoch 18 <------\n",
      "    Train RMSE loss: 12.38819408416748\n",
      "    Val   RMSE loss: 15.657649993896484\n",
      "\n",
      "------> Epoch 19 <------\n",
      "    Train RMSE loss: 12.077707290649414\n",
      "    Val   RMSE loss: 15.880367279052734\n",
      "\n",
      "------> Epoch 20 <------\n",
      "    Train RMSE loss: 11.629404067993164\n",
      "    Val   RMSE loss: 16.138057708740234\n",
      "\n",
      "\n",
      "****************** Finished Training ******************\n",
      "seconds elapsed:  140.04753875732422\n"
     ],
     "output_type": "stream"
    }
   ],
   "source": [
    "epocs = 20\n",
    "rmse = {\"train\": [], \"val\": []}\n",
    "\n",
    "start = time()\n",
    "for epoch in range(epocs):\n",
    "    model.train()\n",
    "    rmse[\"train\"].append(0)\n",
    "    for i, data in enumerate(train_dataloader, 0):\n",
    "        # get the inputs; data is a list of [inputs, labels]\n",
    "        inputs, var_and_cor, labels = data\n",
    "\n",
    "        # zero the parameter gradients\n",
    "        optimizer.zero_grad()\n",
    "\n",
    "        outputs = model(inputs, var_and_cor)\n",
    "\n",
    "        # forward + backward + optimize\n",
    "        loss = criterion(outputs, labels)\n",
    "        loss.backward()\n",
    "        optimizer.step()\n",
    "        rmse[\"train\"][epoch] += loss.sqrt().mean(dim=0)/len(train_dataloader)\n",
    "\n",
    "    # validation\n",
    "    model.eval()\n",
    "\n",
    "    rmse[\"val\"].append(0)\n",
    "    for i, data in enumerate(val_dataloader, 0):\n",
    "        # get the inputs; data is a list of [inputs, labels]\n",
    "        inputs, var_and_cor, labels = data\n",
    "        with torch.no_grad():\n",
    "            outputs = model(inputs, var_and_cor, predict_anyway=True)\n",
    "\n",
    "        # forward + backward + optimize\n",
    "        rmse[\"val\"][epoch] += criterion(outputs, labels).sqrt().mean(dim=0)/len(val_dataloader)\n",
    "    print(f\"\\n------> Epoch {epoch+1} <------\\n    Train RMSE loss: {rmse['train'][epoch]}\\n    Val   RMSE loss: {rmse['val'][epoch]}\")\n",
    "\n",
    "print('\\n\\n****************** Finished Training ******************')\n",
    "print(\"seconds elapsed: \", time()-start)\n"
   ],
   "metadata": {
    "collapsed": false,
    "pycharm": {
     "name": "#%%\n",
     "is_executing": false
    }
   }
  },
  {
   "cell_type": "code",
   "execution_count": 51,
   "outputs": [
    {
     "data": {
      "text/plain": "torch.Size([10, 115, 116])"
     },
     "metadata": {},
     "output_type": "execute_result",
     "execution_count": 51
    }
   ],
   "source": [
    "inputs.shape"
   ],
   "metadata": {
    "collapsed": false,
    "pycharm": {
     "name": "#%%\n",
     "is_executing": false
    }
   }
  },
  {
   "cell_type": "code",
   "execution_count": 14,
   "outputs": [
    {
     "data": {
      "text/plain": "<Figure size 432x288 with 1 Axes>",
      "image/png": "[encoded data removed]"
     },
     "metadata": {
      "needs_background": "light"
     },
     "output_type": "display_data"
    }
   ],
   "source": [
    "plt.plot(range(len(rmse[\"train\"])), rmse[\"train\"], color=\"blue\", label=\"train\")\n",
    "plt.plot(range(len(rmse[\"val\"])), rmse[\"val\"], color=\"red\", label=\"validation\")\n",
    "plt.title(\"RMSE\")\n",
    "plt.legend()\n",
    "plt.show()"
   ],
   "metadata": {
    "collapsed": false,
    "pycharm": {
     "name": "#%%\n",
     "is_executing": false
    }
   }
  },
  {
   "cell_type": "code",
   "execution_count": 174,
   "outputs": [],
   "source": [
    "train_embedding = model.forward(torch.Tensor(train_timeseries))\n",
    "val_embedding = model.forward(torch.Tensor(val_timeseries))"
   ],
   "metadata": {
    "collapsed": false,
    "pycharm": {
     "name": "#%%\n"
    }
   }
  },
  {
   "cell_type": "code",
   "execution_count": 175,
   "outputs": [],
   "source": [
    "train_embedding_df = pd.concat([train_split.iloc[:, 2:4], pd.DataFrame(train_embedding.detach().numpy(), index=train_split.index)], axis=1)\n",
    "val_embedding_df = pd.concat([val_split.iloc[:, 2:4], pd.DataFrame(val_embedding.detach().numpy(), index=val_split.index)], axis=1)"
   ],
   "metadata": {
    "collapsed": false,
    "pycharm": {
     "name": "#%%\n"
    }
   }
  },
  {
   "cell_type": "code",
   "execution_count": 176,
   "outputs": [],
   "source": [
    "train_embedding_df.var2 = train_embedding_df.var2.replace({\"A\": 0, \"C\": 1})\n",
    "val_embedding_df.var2 = val_embedding_df.var2.replace({\"A\": 0, \"C\": 1})"
   ],
   "metadata": {
    "collapsed": false,
    "pycharm": {
     "name": "#%%\n"
    }
   }
  },
  {
   "cell_type": "code",
   "execution_count": 177,
   "outputs": [],
   "source": [
    "X_train, X_val = train_embedding_df.to_numpy(), val_embedding_df.to_numpy()\n",
    "y_train, y_val = train_split.y.to_numpy(), val_split.y.to_numpy()"
   ],
   "metadata": {
    "collapsed": false,
    "pycharm": {
     "name": "#%%\n"
    }
   }
  },
  {
   "cell_type": "code",
   "execution_count": 178,
   "outputs": [
    {
     "data": {
      "text/plain": "SVR(C=0.5, degree=4, kernel='sigmoid')"
     },
     "execution_count": 178,
     "metadata": {},
     "output_type": "execute_result"
    }
   ],
   "source": [
    "svm_model = svm.SVR(shrinking=True, kernel=\"sigmoid\", gamma=\"scale\", degree=4, C=0.5)\n",
    "\n",
    "svm_model.fit(X_train, y_train)"
   ],
   "metadata": {
    "collapsed": false,
    "pycharm": {
     "name": "#%%\n"
    }
   }
  },
  {
   "cell_type": "code",
   "execution_count": 179,
   "outputs": [],
   "source": [
    "y_ped_train = svm_model.predict(X_train)\n",
    "y_ped_val = svm_model.predict(X_val)"
   ],
   "metadata": {
    "collapsed": false,
    "pycharm": {
     "name": "#%%\n"
    }
   }
  },
  {
   "cell_type": "code",
   "execution_count": 180,
   "outputs": [
    {
     "name": "stdout",
     "output_type": "stream",
     "text": [
      "train : 14.46731332919218 \n",
      "val  : 16.120551887566872\n"
     ]
    }
   ],
   "source": [
    "print(f\"train : {np.sqrt(mean_squared_error(y_ped_train, y_train))} \\nval  : {np.sqrt(mean_squared_error(y_ped_val, y_val))}\")"
   ],
   "metadata": {
    "collapsed": false,
    "pycharm": {
     "name": "#%%\n"
    }
   }
  },
  {
   "cell_type": "code",
   "execution_count": 181,
   "outputs": [
    {
     "data": {
      "text/plain": "           0    1          2         3          4    5          6          7   \\\n110  0.000000  0.0  33.637390  0.000000  33.896420  0.0  30.615675  31.881088   \n419  0.000000  0.0  33.666306  0.000000  33.922497  0.0  30.645451  31.905592   \n565  0.000000  0.0  33.663048  0.000000  33.919193  0.0  30.641996  31.902082   \n77   0.000000  0.0  25.453283  0.000000  26.474634  0.0  23.194553  24.252129   \n181  0.000000  0.0  33.622978  0.000000  33.884037  0.0  30.611977  31.857613   \n..        ...  ...        ...       ...        ...  ...        ...        ...   \n399  0.000000  0.0  33.666332  0.000000  33.922523  0.0  30.645472  31.905622   \n340  0.000000  0.0  33.666298  0.000000  33.922527  0.0  30.645456  31.905621   \n148  0.042667  0.0  32.572865  0.100658  32.659508  0.0  29.666977  30.599995   \n494  0.000000  0.0  33.655487  0.000000  33.915691  0.0  30.638044  31.897831   \n439  0.000000  0.0  33.666225  0.000000  33.922428  0.0  30.645372  31.905540   \n\n            8    9   ...         22      23         24   25         26  \\\n110  31.626308  0.0  ...  28.560516  0.0000  33.136833  0.0  30.388554   \n419  31.652485  0.0  ...  28.585737  0.0000  33.165642  0.0  30.417480   \n565  31.648861  0.0  ...  28.582979  0.0000  33.162563  0.0  30.414177   \n77   24.933500  0.0  ...  21.665619  0.2713  25.743305  0.0  22.891548   \n181  31.602100  0.0  ...  28.555353  0.0000  33.120586  0.0  30.365826   \n..         ...  ...  ...        ...     ...        ...  ...        ...   \n399  31.652496  0.0  ...  28.585690  0.0000  33.165638  0.0  30.417484   \n340  31.652515  0.0  ...  28.585758  0.0000  33.165642  0.0  30.417496   \n148  30.702549  0.0  ...  27.752827  0.0000  32.023682  0.0  29.502060   \n494  31.643623  0.0  ...  28.577787  0.0000  33.156681  0.0  30.407158   \n439  31.652405  0.0  ...  28.585634  0.0000  33.165539  0.0  30.417383   \n\n            27         28         29   30        31  \n110  31.317009  30.641258  29.553339  0.0  0.000000  \n419  31.347656  30.668304  29.575769  0.0  0.000000  \n565  31.344082  30.664511  29.572756  0.0  0.000000  \n77   24.141226  23.771708  22.632118  0.0  0.032363  \n181  31.302959  30.623489  29.535894  0.0  0.000000  \n..         ...        ...        ...  ...       ...  \n399  31.347687  30.668293  29.575781  0.0  0.000000  \n340  31.347713  30.668343  29.575809  0.0  0.000000  \n148  30.236879  29.531418  28.562664  0.0  0.000000  \n494  31.340368  30.659786  29.570171  0.0  0.000000  \n439  31.347620  30.668217  29.575720  0.0  0.000000  \n\n[120 rows x 32 columns]",
      "text/html": "<div>\n<style scoped>\n    .dataframe tbody tr th:only-of-type {\n        vertical-align: middle;\n    }\n\n    .dataframe tbody tr th {\n        vertical-align: top;\n    }\n\n    .dataframe thead th {\n        text-align: right;\n    }\n</style>\n<table border=\"1\" class=\"dataframe\">\n  <thead>\n    <tr style=\"text-align: right;\">\n      <th></th>\n      <th>0</th>\n      <th>1</th>\n      <th>2</th>\n      <th>3</th>\n      <th>4</th>\n      <th>5</th>\n      <th>6</th>\n      <th>7</th>\n      <th>8</th>\n      <th>9</th>\n      <th>...</th>\n      <th>22</th>\n      <th>23</th>\n      <th>24</th>\n      <th>25</th>\n      <th>26</th>\n      <th>27</th>\n      <th>28</th>\n      <th>29</th>\n      <th>30</th>\n      <th>31</th>\n    </tr>\n  </thead>\n  <tbody>\n    <tr>\n      <th>110</th>\n      <td>0.000000</td>\n      <td>0.0</td>\n      <td>33.637390</td>\n      <td>0.000000</td>\n      <td>33.896420</td>\n      <td>0.0</td>\n      <td>30.615675</td>\n      <td>31.881088</td>\n      <td>31.626308</td>\n      <td>0.0</td>\n      <td>...</td>\n      <td>28.560516</td>\n      <td>0.0000</td>\n      <td>33.136833</td>\n      <td>0.0</td>\n      <td>30.388554</td>\n      <td>31.317009</td>\n      <td>30.641258</td>\n      <td>29.553339</td>\n      <td>0.0</td>\n      <td>0.000000</td>\n    </tr>\n    <tr>\n      <th>419</th>\n      <td>0.000000</td>\n      <td>0.0</td>\n      <td>33.666306</td>\n      <td>0.000000</td>\n      <td>33.922497</td>\n      <td>0.0</td>\n      <td>30.645451</td>\n      <td>31.905592</td>\n      <td>31.652485</td>\n      <td>0.0</td>\n      <td>...</td>\n      <td>28.585737</td>\n      <td>0.0000</td>\n      <td>33.165642</td>\n      <td>0.0</td>\n      <td>30.417480</td>\n      <td>31.347656</td>\n      <td>30.668304</td>\n      <td>29.575769</td>\n      <td>0.0</td>\n      <td>0.000000</td>\n    </tr>\n    <tr>\n      <th>565</th>\n      <td>0.000000</td>\n      <td>0.0</td>\n      <td>33.663048</td>\n      <td>0.000000</td>\n      <td>33.919193</td>\n      <td>0.0</td>\n      <td>30.641996</td>\n      <td>31.902082</td>\n      <td>31.648861</td>\n      <td>0.0</td>\n      <td>...</td>\n      <td>28.582979</td>\n      <td>0.0000</td>\n      <td>33.162563</td>\n      <td>0.0</td>\n      <td>30.414177</td>\n      <td>31.344082</td>\n      <td>30.664511</td>\n      <td>29.572756</td>\n      <td>0.0</td>\n      <td>0.000000</td>\n    </tr>\n    <tr>\n      <th>77</th>\n      <td>0.000000</td>\n      <td>0.0</td>\n      <td>25.453283</td>\n      <td>0.000000</td>\n      <td>26.474634</td>\n      <td>0.0</td>\n      <td>23.194553</td>\n      <td>24.252129</td>\n      <td>24.933500</td>\n      <td>0.0</td>\n      <td>...</td>\n      <td>21.665619</td>\n      <td>0.2713</td>\n      <td>25.743305</td>\n      <td>0.0</td>\n      <td>22.891548</td>\n      <td>24.141226</td>\n      <td>23.771708</td>\n      <td>22.632118</td>\n      <td>0.0</td>\n      <td>0.032363</td>\n    </tr>\n    <tr>\n      <th>181</th>\n      <td>0.000000</td>\n      <td>0.0</td>\n      <td>33.622978</td>\n      <td>0.000000</td>\n      <td>33.884037</td>\n      <td>0.0</td>\n      <td>30.611977</td>\n      <td>31.857613</td>\n      <td>31.602100</td>\n      <td>0.0</td>\n      <td>...</td>\n      <td>28.555353</td>\n      <td>0.0000</td>\n      <td>33.120586</td>\n      <td>0.0</td>\n      <td>30.365826</td>\n      <td>31.302959</td>\n      <td>30.623489</td>\n      <td>29.535894</td>\n      <td>0.0</td>\n      <td>0.000000</td>\n    </tr>\n    <tr>\n      <th>...</th>\n      <td>...</td>\n      <td>...</td>\n      <td>...</td>\n      <td>...</td>\n      <td>...</td>\n      <td>...</td>\n      <td>...</td>\n      <td>...</td>\n      <td>...</td>\n      <td>...</td>\n      <td>...</td>\n      <td>...</td>\n      <td>...</td>\n      <td>...</td>\n      <td>...</td>\n      <td>...</td>\n      <td>...</td>\n      <td>...</td>\n      <td>...</td>\n      <td>...</td>\n      <td>...</td>\n    </tr>\n    <tr>\n      <th>399</th>\n      <td>0.000000</td>\n      <td>0.0</td>\n      <td>33.666332</td>\n      <td>0.000000</td>\n      <td>33.922523</td>\n      <td>0.0</td>\n      <td>30.645472</td>\n      <td>31.905622</td>\n      <td>31.652496</td>\n      <td>0.0</td>\n      <td>...</td>\n      <td>28.585690</td>\n      <td>0.0000</td>\n      <td>33.165638</td>\n      <td>0.0</td>\n      <td>30.417484</td>\n      <td>31.347687</td>\n      <td>30.668293</td>\n      <td>29.575781</td>\n      <td>0.0</td>\n      <td>0.000000</td>\n    </tr>\n    <tr>\n      <th>340</th>\n      <td>0.000000</td>\n      <td>0.0</td>\n      <td>33.666298</td>\n      <td>0.000000</td>\n      <td>33.922527</td>\n      <td>0.0</td>\n      <td>30.645456</td>\n      <td>31.905621</td>\n      <td>31.652515</td>\n      <td>0.0</td>\n      <td>...</td>\n      <td>28.585758</td>\n      <td>0.0000</td>\n      <td>33.165642</td>\n      <td>0.0</td>\n      <td>30.417496</td>\n      <td>31.347713</td>\n      <td>30.668343</td>\n      <td>29.575809</td>\n      <td>0.0</td>\n      <td>0.000000</td>\n    </tr>\n    <tr>\n      <th>148</th>\n      <td>0.042667</td>\n      <td>0.0</td>\n      <td>32.572865</td>\n      <td>0.100658</td>\n      <td>32.659508</td>\n      <td>0.0</td>\n      <td>29.666977</td>\n      <td>30.599995</td>\n      <td>30.702549</td>\n      <td>0.0</td>\n      <td>...</td>\n      <td>27.752827</td>\n      <td>0.0000</td>\n      <td>32.023682</td>\n      <td>0.0</td>\n      <td>29.502060</td>\n      <td>30.236879</td>\n      <td>29.531418</td>\n      <td>28.562664</td>\n      <td>0.0</td>\n      <td>0.000000</td>\n    </tr>\n    <tr>\n      <th>494</th>\n      <td>0.000000</td>\n      <td>0.0</td>\n      <td>33.655487</td>\n      <td>0.000000</td>\n      <td>33.915691</td>\n      <td>0.0</td>\n      <td>30.638044</td>\n      <td>31.897831</td>\n      <td>31.643623</td>\n      <td>0.0</td>\n      <td>...</td>\n      <td>28.577787</td>\n      <td>0.0000</td>\n      <td>33.156681</td>\n      <td>0.0</td>\n      <td>30.407158</td>\n      <td>31.340368</td>\n      <td>30.659786</td>\n      <td>29.570171</td>\n      <td>0.0</td>\n      <td>0.000000</td>\n    </tr>\n    <tr>\n      <th>439</th>\n      <td>0.000000</td>\n      <td>0.0</td>\n      <td>33.666225</td>\n      <td>0.000000</td>\n      <td>33.922428</td>\n      <td>0.0</td>\n      <td>30.645372</td>\n      <td>31.905540</td>\n      <td>31.652405</td>\n      <td>0.0</td>\n      <td>...</td>\n      <td>28.585634</td>\n      <td>0.0000</td>\n      <td>33.165539</td>\n      <td>0.0</td>\n      <td>30.417383</td>\n      <td>31.347620</td>\n      <td>30.668217</td>\n      <td>29.575720</td>\n      <td>0.0</td>\n      <td>0.000000</td>\n    </tr>\n  </tbody>\n</table>\n<p>120 rows × 32 columns</p>\n</div>"
     },
     "execution_count": 181,
     "metadata": {},
     "output_type": "execute_result"
    }
   ],
   "source": [
    "pd.DataFrame(val_embedding.detach().numpy(), index=val_split.index)"
   ],
   "metadata": {
    "collapsed": false,
    "pycharm": {
     "name": "#%%\n"
    }
   }
  },
  {
   "cell_type": "code",
   "execution_count": 182,
   "outputs": [],
   "source": [
    "test = pd.read_csv(join(data_path, 'test.csv'))\n",
    "time_series_test = test.apply(lambda row: get_data(row)[-1], axis=1).to_list()"
   ],
   "metadata": {
    "collapsed": false,
    "pycharm": {
     "name": "#%%\n"
    }
   }
  },
  {
   "cell_type": "code",
   "execution_count": 183,
   "outputs": [],
   "source": [
    "predictions = model.forward(torch.Tensor(time_series_test), predict_anyway=True)"
   ],
   "metadata": {
    "collapsed": false,
    "pycharm": {
     "name": "#%%\n"
    }
   }
  },
  {
   "cell_type": "code",
   "execution_count": 62,
   "outputs": [],
   "source": [
    "test_embedding_df = pd.concat([test.iloc[:, 2:4], pd.DataFrame(test_embedding.detach().numpy(), index=test.index)], axis=1)"
   ],
   "metadata": {
    "collapsed": false,
    "pycharm": {
     "name": "#%%\n"
    }
   }
  },
  {
   "cell_type": "code",
   "execution_count": 133,
   "outputs": [
    {
     "data": {
      "text/plain": "tensor([[106.7174],\n        [106.8461],\n        [106.8462],\n        [ 40.6383],\n        [106.8414],\n        [106.8447],\n        [106.8461],\n        [ 97.3616],\n        [ 35.5079],\n        [106.8461],\n        [ 93.9863],\n        [106.8318],\n        [-39.6860],\n        [106.8460],\n        [106.8461],\n        [106.8429],\n        [106.8459],\n        [106.8445],\n        [106.8419],\n        [-19.4348],\n        [106.8454],\n        [106.8446],\n        [106.8400],\n        [106.8461],\n        [106.8461],\n        [106.8448],\n        [-38.0568],\n        [106.6906],\n        [106.8460],\n        [106.8461],\n        [106.8459],\n        [ 97.5422],\n        [ 21.0665],\n        [106.8434],\n        [106.8444],\n        [106.8461],\n        [101.3131],\n        [106.8457],\n        [106.8461],\n        [106.8458],\n        [106.8461],\n        [106.8453],\n        [106.8457],\n        [106.8460],\n        [106.8461],\n        [106.8441],\n        [ 14.8656],\n        [106.3747],\n        [ 20.8572],\n        [106.8396],\n        [106.8461],\n        [106.8460],\n        [106.8441],\n        [106.8443],\n        [106.8458],\n        [106.8461],\n        [106.8451],\n        [ 98.0887],\n        [ 63.8200],\n        [106.8455],\n        [ 61.1476],\n        [106.8453],\n        [106.8461],\n        [106.8459],\n        [106.8459],\n        [ 27.2343],\n        [106.8430],\n        [106.8449],\n        [-31.3093],\n        [106.8461],\n        [106.8457],\n        [106.8461],\n        [106.8461],\n        [106.8461],\n        [106.8461],\n        [106.8417],\n        [106.8452],\n        [106.8461],\n        [106.8460],\n        [106.8461],\n        [106.8458],\n        [106.8461],\n        [106.8460],\n        [106.8461],\n        [  7.5869],\n        [106.8460],\n        [ 91.2791],\n        [106.8087],\n        [106.8461],\n        [106.8461],\n        [106.8460],\n        [106.8460],\n        [ 58.7769],\n        [106.8462],\n        [106.8455],\n        [106.8460],\n        [106.8461],\n        [106.8461],\n        [106.8461],\n        [ 33.7541],\n        [ -4.9137],\n        [106.8460],\n        [106.8461],\n        [106.8461],\n        [ 54.4752],\n        [106.8461],\n        [ 87.6812],\n        [106.8459],\n        [106.8461],\n        [106.8461],\n        [106.8459],\n        [ 47.6056],\n        [106.8449],\n        [106.8459],\n        [106.8461],\n        [106.8461],\n        [106.8461],\n        [105.0062],\n        [106.8458],\n        [106.8461]], grad_fn=<AddmmBackward>)"
     },
     "execution_count": 133,
     "metadata": {},
     "output_type": "execute_result"
    }
   ],
   "source": [
    "val_pred"
   ],
   "metadata": {
    "collapsed": false,
    "pycharm": {
     "name": "#%%\n"
    }
   }
  },
  {
   "cell_type": "code",
   "execution_count": 67,
   "outputs": [],
   "source": [
    "y_ped_val = model.forward(torch.Tensor(val_timeseries), predict_anyway=True)"
   ],
   "metadata": {
    "collapsed": false,
    "pycharm": {
     "name": "#%%\n"
    }
   }
  }
 ],
 "metadata": {
  "kernelspec": {
   "name": "pycharm-259008c8",
   "language": "python",
   "display_name": "PyCharm (NBD-Labwork)"
  },
  "language_info": {
   "codemirror_mode": {
    "name": "ipython",
    "version": 3
   },
   "file_extension": ".py",
   "mimetype": "text/x-python",
   "name": "python",
   "nbconvert_exporter": "python",
   "pygments_lexer": "ipython3",
   "version": "3.7.10"
  },
  "papermill": {
   "default_parameters": {},
   "duration": 28.082509,
   "end_time": "2021-06-28T09:53:45.178880",
   "environment_variables": {},
   "exception": null,
   "input_path": "__notebook__.ipynb",
   "output_path": "__notebook__.ipynb",
   "parameters": {},
   "start_time": "2021-06-28T09:53:17.096371",
   "version": "2.3.3"
  },
  "pycharm": {
   "stem_cell": {
    "cell_type": "raw",
    "source": [],
    "metadata": {
     "collapsed": false
    }
   }
  }
 },
 "nbformat": 4,
 "nbformat_minor": 5
}