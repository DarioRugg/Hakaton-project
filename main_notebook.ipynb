{
 "cells": [
  {
   "cell_type": "code",
   "execution_count": 2,
   "outputs": [
    {
     "name": "stderr",
     "text": [
      "C:\\Users\\simon\\Anaconda3\\lib\\site-packages\\nilearn\\datasets\\__init__.py:86: FutureWarning: Fetchers from the nilearn.datasets module will be updated in version 0.9 to return python strings instead of bytes and Pandas dataframes instead of Numpy arrays.\n",
      "  warn(\"Fetchers from the nilearn.datasets module will be \"\n"
     ],
     "output_type": "stream"
    }
   ],
   "source": [
    "# basic imports\n",
    "import numpy as np\n",
    "import pandas as pd\n",
    "\n",
    "# demos for visualization\n",
    "from nilearn import datasets\n",
    "from nilearn import plotting\n",
    "from nilearn.connectome import GroupSparseCovariance\n",
    "from nilearn.connectome import ConnectivityMeasure\n",
    "\n",
    "# for ML\n",
    "from sklearn.metrics import mutual_info_score\n",
    "\n",
    "# os library\n",
    "from os.path import exists, join"
   ],
   "metadata": {
    "collapsed": false,
    "pycharm": {
     "name": "#%%\n",
     "is_executing": false
    }
   }
  },
  {
   "cell_type": "code",
   "execution_count": 3,
   "id": "blessed-register",
   "metadata": {
    "execution": {
     "iopub.execute_input": "2021-06-28T09:53:27.478513Z",
     "iopub.status.busy": "2021-06-28T09:53:27.474676Z",
     "iopub.status.idle": "2021-06-28T09:53:35.422989Z",
     "shell.execute_reply": "2021-06-28T09:53:35.421589Z",
     "shell.execute_reply.started": "2021-06-28T06:49:00.608859Z"
    },
    "papermill": {
     "duration": 7.970231,
     "end_time": "2021-06-28T09:53:35.423239",
     "exception": false,
     "start_time": "2021-06-28T09:53:27.453008",
     "status": "completed"
    },
    "tags": [],
    "pycharm": {
     "is_executing": false
    }
   },
   "outputs": [],
   "source": [
    "data_path = join(\".\", \"data\") if exists(join(\".\", \"data\")) \\\n",
    "    else join(\"..\", \"input\", \"statistical-learning-sapienza-spring-2021\")"
   ]
  },
  {
   "cell_type": "code",
   "execution_count": 4,
   "outputs": [],
   "source": [
    "train = pd.read_csv(join(data_path, 'train.csv'))\n",
    "test = pd.read_csv(join(data_path, 'test.csv'))"
   ],
   "metadata": {
    "collapsed": false,
    "pycharm": {
     "name": "#%%\n",
     "is_executing": false
    }
   }
  },
  {
   "cell_type": "code",
   "execution_count": 5,
   "outputs": [
    {
     "data": {
      "text/plain": "600"
     },
     "metadata": {},
     "output_type": "execute_result",
     "execution_count": 5
    }
   ],
   "source": [
    "len(train.id.values)\n",
    "len(train.index.values)"
   ],
   "metadata": {
    "collapsed": false,
    "pycharm": {
     "name": "#%%\n",
     "is_executing": false
    }
   }
  },
  {
   "cell_type": "code",
   "execution_count": 6,
   "outputs": [],
   "source": [
    "def get_data(entry):\n",
    "    id = entry.id\n",
    "    variables = entry[['var1', 'var2', 'var3']].to_numpy()\n",
    "    timeseries = entry[5 if \"y\" in entry.index else 4:].to_numpy(dtype=float).reshape((115, 116), order=\"F\")\n",
    "    if \"y\" in entry.index: return id, entry.y, variables, timeseries\n",
    "    else: return id, variables, timeseries"
   ],
   "metadata": {
    "collapsed": false,
    "pycharm": {
     "name": "#%%\n",
     "is_executing": false
    }
   }
  },
  {
   "cell_type": "code",
   "execution_count": 240,
   "outputs": [
    {
     "traceback": [
      "\u001b[1;31m---------------------------------------------------------------------------\u001b[0m",
      "\u001b[1;31mTypeError\u001b[0m                                 Traceback (most recent call last)",
      "\u001b[1;32m<ipython-input-240-9906fdf937ee>\u001b[0m in \u001b[0;36m<module>\u001b[1;34m\u001b[0m\n\u001b[1;32m----> 1\u001b[1;33m \u001b[0mnp\u001b[0m\u001b[1;33m.\u001b[0m\u001b[0mcorrcoef\u001b[0m\u001b[1;33m(\u001b[0m\u001b[1;33m[\u001b[0m\u001b[0mtrain\u001b[0m\u001b[1;33m[\u001b[0m\u001b[1;34m'y'\u001b[0m\u001b[1;33m]\u001b[0m\u001b[1;33m,\u001b[0m \u001b[0mtrain\u001b[0m\u001b[1;33m[\u001b[0m\u001b[1;34m'var2'\u001b[0m\u001b[1;33m]\u001b[0m\u001b[1;33m]\u001b[0m\u001b[1;33m)\u001b[0m\u001b[1;33m\u001b[0m\u001b[1;33m\u001b[0m\u001b[0m\n\u001b[0m\u001b[0;32m      2\u001b[0m \u001b[1;33m\u001b[0m\u001b[0m\n",
      "\u001b[1;32m<__array_function__ internals>\u001b[0m in \u001b[0;36mcorrcoef\u001b[1;34m(*args, **kwargs)\u001b[0m\n",
      "\u001b[1;32m~\\Anaconda3\\lib\\site-packages\\numpy\\lib\\function_base.py\u001b[0m in \u001b[0;36mcorrcoef\u001b[1;34m(x, y, rowvar, bias, ddof)\u001b[0m\n\u001b[0;32m   2524\u001b[0m         warnings.warn('bias and ddof have no effect and are deprecated',\n\u001b[0;32m   2525\u001b[0m                       DeprecationWarning, stacklevel=3)\n\u001b[1;32m-> 2526\u001b[1;33m     \u001b[0mc\u001b[0m \u001b[1;33m=\u001b[0m \u001b[0mcov\u001b[0m\u001b[1;33m(\u001b[0m\u001b[0mx\u001b[0m\u001b[1;33m,\u001b[0m \u001b[0my\u001b[0m\u001b[1;33m,\u001b[0m \u001b[0mrowvar\u001b[0m\u001b[1;33m)\u001b[0m\u001b[1;33m\u001b[0m\u001b[1;33m\u001b[0m\u001b[0m\n\u001b[0m\u001b[0;32m   2527\u001b[0m     \u001b[1;32mtry\u001b[0m\u001b[1;33m:\u001b[0m\u001b[1;33m\u001b[0m\u001b[1;33m\u001b[0m\u001b[0m\n\u001b[0;32m   2528\u001b[0m         \u001b[0md\u001b[0m \u001b[1;33m=\u001b[0m \u001b[0mdiag\u001b[0m\u001b[1;33m(\u001b[0m\u001b[0mc\u001b[0m\u001b[1;33m)\u001b[0m\u001b[1;33m\u001b[0m\u001b[1;33m\u001b[0m\u001b[0m\n",
      "\u001b[1;32m<__array_function__ internals>\u001b[0m in \u001b[0;36mcov\u001b[1;34m(*args, **kwargs)\u001b[0m\n",
      "\u001b[1;32m~\\Anaconda3\\lib\\site-packages\\numpy\\lib\\function_base.py\u001b[0m in \u001b[0;36mcov\u001b[1;34m(m, y, rowvar, bias, ddof, fweights, aweights)\u001b[0m\n\u001b[0;32m   2429\u001b[0m             \u001b[0mw\u001b[0m \u001b[1;33m*=\u001b[0m \u001b[0maweights\u001b[0m\u001b[1;33m\u001b[0m\u001b[1;33m\u001b[0m\u001b[0m\n\u001b[0;32m   2430\u001b[0m \u001b[1;33m\u001b[0m\u001b[0m\n\u001b[1;32m-> 2431\u001b[1;33m     \u001b[0mavg\u001b[0m\u001b[1;33m,\u001b[0m \u001b[0mw_sum\u001b[0m \u001b[1;33m=\u001b[0m \u001b[0maverage\u001b[0m\u001b[1;33m(\u001b[0m\u001b[0mX\u001b[0m\u001b[1;33m,\u001b[0m \u001b[0maxis\u001b[0m\u001b[1;33m=\u001b[0m\u001b[1;36m1\u001b[0m\u001b[1;33m,\u001b[0m \u001b[0mweights\u001b[0m\u001b[1;33m=\u001b[0m\u001b[0mw\u001b[0m\u001b[1;33m,\u001b[0m \u001b[0mreturned\u001b[0m\u001b[1;33m=\u001b[0m\u001b[1;32mTrue\u001b[0m\u001b[1;33m)\u001b[0m\u001b[1;33m\u001b[0m\u001b[1;33m\u001b[0m\u001b[0m\n\u001b[0m\u001b[0;32m   2432\u001b[0m     \u001b[0mw_sum\u001b[0m \u001b[1;33m=\u001b[0m \u001b[0mw_sum\u001b[0m\u001b[1;33m[\u001b[0m\u001b[1;36m0\u001b[0m\u001b[1;33m]\u001b[0m\u001b[1;33m\u001b[0m\u001b[1;33m\u001b[0m\u001b[0m\n\u001b[0;32m   2433\u001b[0m \u001b[1;33m\u001b[0m\u001b[0m\n",
      "\u001b[1;32m<__array_function__ internals>\u001b[0m in \u001b[0;36maverage\u001b[1;34m(*args, **kwargs)\u001b[0m\n",
      "\u001b[1;32m~\\Anaconda3\\lib\\site-packages\\numpy\\lib\\function_base.py\u001b[0m in \u001b[0;36maverage\u001b[1;34m(a, axis, weights, returned)\u001b[0m\n\u001b[0;32m    391\u001b[0m \u001b[1;33m\u001b[0m\u001b[0m\n\u001b[0;32m    392\u001b[0m     \u001b[1;32mif\u001b[0m \u001b[0mweights\u001b[0m \u001b[1;32mis\u001b[0m \u001b[1;32mNone\u001b[0m\u001b[1;33m:\u001b[0m\u001b[1;33m\u001b[0m\u001b[1;33m\u001b[0m\u001b[0m\n\u001b[1;32m--> 393\u001b[1;33m         \u001b[0mavg\u001b[0m \u001b[1;33m=\u001b[0m \u001b[0ma\u001b[0m\u001b[1;33m.\u001b[0m\u001b[0mmean\u001b[0m\u001b[1;33m(\u001b[0m\u001b[0maxis\u001b[0m\u001b[1;33m)\u001b[0m\u001b[1;33m\u001b[0m\u001b[1;33m\u001b[0m\u001b[0m\n\u001b[0m\u001b[0;32m    394\u001b[0m         \u001b[0mscl\u001b[0m \u001b[1;33m=\u001b[0m \u001b[0mavg\u001b[0m\u001b[1;33m.\u001b[0m\u001b[0mdtype\u001b[0m\u001b[1;33m.\u001b[0m\u001b[0mtype\u001b[0m\u001b[1;33m(\u001b[0m\u001b[0ma\u001b[0m\u001b[1;33m.\u001b[0m\u001b[0msize\u001b[0m\u001b[1;33m/\u001b[0m\u001b[0mavg\u001b[0m\u001b[1;33m.\u001b[0m\u001b[0msize\u001b[0m\u001b[1;33m)\u001b[0m\u001b[1;33m\u001b[0m\u001b[1;33m\u001b[0m\u001b[0m\n\u001b[0;32m    395\u001b[0m     \u001b[1;32melse\u001b[0m\u001b[1;33m:\u001b[0m\u001b[1;33m\u001b[0m\u001b[1;33m\u001b[0m\u001b[0m\n",
      "\u001b[1;32m~\\Anaconda3\\lib\\site-packages\\numpy\\core\\_methods.py\u001b[0m in \u001b[0;36m_mean\u001b[1;34m(a, axis, dtype, out, keepdims)\u001b[0m\n\u001b[0;32m    151\u001b[0m     \u001b[0mret\u001b[0m \u001b[1;33m=\u001b[0m \u001b[0mumr_sum\u001b[0m\u001b[1;33m(\u001b[0m\u001b[0marr\u001b[0m\u001b[1;33m,\u001b[0m \u001b[0maxis\u001b[0m\u001b[1;33m,\u001b[0m \u001b[0mdtype\u001b[0m\u001b[1;33m,\u001b[0m \u001b[0mout\u001b[0m\u001b[1;33m,\u001b[0m \u001b[0mkeepdims\u001b[0m\u001b[1;33m)\u001b[0m\u001b[1;33m\u001b[0m\u001b[1;33m\u001b[0m\u001b[0m\n\u001b[0;32m    152\u001b[0m     \u001b[1;32mif\u001b[0m \u001b[0misinstance\u001b[0m\u001b[1;33m(\u001b[0m\u001b[0mret\u001b[0m\u001b[1;33m,\u001b[0m \u001b[0mmu\u001b[0m\u001b[1;33m.\u001b[0m\u001b[0mndarray\u001b[0m\u001b[1;33m)\u001b[0m\u001b[1;33m:\u001b[0m\u001b[1;33m\u001b[0m\u001b[1;33m\u001b[0m\u001b[0m\n\u001b[1;32m--> 153\u001b[1;33m         ret = um.true_divide(\n\u001b[0m\u001b[0;32m    154\u001b[0m                 ret, rcount, out=ret, casting='unsafe', subok=False)\n\u001b[0;32m    155\u001b[0m         \u001b[1;32mif\u001b[0m \u001b[0mis_float16_result\u001b[0m \u001b[1;32mand\u001b[0m \u001b[0mout\u001b[0m \u001b[1;32mis\u001b[0m \u001b[1;32mNone\u001b[0m\u001b[1;33m:\u001b[0m\u001b[1;33m\u001b[0m\u001b[1;33m\u001b[0m\u001b[0m\n",
      "\u001b[1;31mTypeError\u001b[0m: unsupported operand type(s) for /: 'str' and 'int'"
     ],
     "ename": "TypeError",
     "evalue": "unsupported operand type(s) for /: 'str' and 'int'",
     "output_type": "error"
    }
   ],
   "source": [],
   "metadata": {
    "collapsed": false,
    "pycharm": {
     "name": "#%%\n",
     "is_executing": false
    }
   }
  },
  {
   "cell_type": "code",
   "execution_count": 297,
   "outputs": [],
   "source": [
    "time_series = train.apply(lambda row: get_data(row)[-1], axis=1).to_list()"
   ],
   "metadata": {
    "collapsed": false,
    "pycharm": {
     "name": "#%%\n",
     "is_executing": false
    }
   }
  },
  {
   "cell_type": "code",
   "execution_count": 298,
   "outputs": [],
   "source": [
    "time_series_test = test.apply(lambda row: get_data(row)[-1], axis=1).to_list()\n",
    "\n",
    "\n"
   ],
   "metadata": {
    "collapsed": false,
    "pycharm": {
     "name": "#%%\n",
     "is_executing": false
    }
   }
  },
  {
   "cell_type": "code",
   "execution_count": 299,
   "outputs": [],
   "source": [
    "time_series = list(map(lambda ts: (np.diff(ts, axis=0) - np.diff(ts, axis=0).min(axis=0)) / np.mean(np.diff(ts, axis=0).max(axis=0) - np.diff(ts, axis=0).min(axis=0)), time_series))\n",
    "time_series_test = list(map(lambda ts: (np.diff(ts, axis=0) - np.diff(ts, axis=0).min(axis=0)) / np.mean(np.diff(ts, axis=0).max(axis=0) - np.diff(ts, axis=0).min(axis=0)), time_series_test))\n"
   ],
   "metadata": {
    "collapsed": false,
    "pycharm": {
     "name": "#%%\n",
     "is_executing": false
    }
   }
  },
  {
   "cell_type": "code",
   "execution_count": 300,
   "outputs": [],
   "source": [
    "def binning(ts):        \n",
    "    binned_ts = np.array_split(ts, 11, axis = 0)\n",
    "    return np.concatenate([list(map(lambda x: x.max(axis=0), binned_ts)), list(map(lambda x: x.min(axis=0), binned_ts))], axis = 1)\n",
    "\n",
    "time_series = list(map(binning, time_series))\n",
    "time_series_test = list(map(binning, time_series_test))\n",
    "    "
   ],
   "metadata": {
    "collapsed": false,
    "pycharm": {
     "name": "#%%  \n",
     "is_executing": false
    }
   }
  },
  {
   "cell_type": "code",
   "execution_count": 292,
   "outputs": [],
   "source": [
    "# import nitime.timeseries as ts\n",
    "# time_series = list(map(lambda x: ts.TimeSeries(x.T, sampling_interval=1), time_series))\n",
    "# time_series_test = list(map(lambda x: ts.TimeSeries(x.T, sampling_interval=1), time_series_test))"
   ],
   "metadata": {
    "collapsed": false,
    "pycharm": {
     "name": "#%%\n",
     "is_executing": false
    }
   }
  },
  {
   "cell_type": "code",
   "execution_count": null,
   "outputs": [],
   "source": [
    "# time_series_test[0].shape"
   ],
   "metadata": {
    "collapsed": false,
    "pycharm": {
     "name": "#%%\n"
    }
   }
  },
  {
   "cell_type": "code",
   "execution_count": null,
   "outputs": [],
   "source": [
    "# import nitime.analysis as nta\n",
    "# import time\n",
    "# start = time.time()\n",
    "# f_ub = 0.15\n",
    "# f_lb = 0.02\n",
    "# causalities = []\n",
    "# for i, x in enumerate(time_series):\n",
    "#     if i%60 == 0:\n",
    "#         print(f'{i/6}% done in {round(time.time() - start, 2)} seconds')\n",
    "#     G=nta.GrangerAnalyzer(x, order=3)\n",
    "#     freq_idx_G = np.where((G.frequencies > f_lb) * (G.frequencies < f_ub))[0]\n",
    "#     g1 = np.mean(G.causality_xy[:, :, freq_idx_G], -1)\n",
    "#     causalities.append(g1)\n",
    "# print(f'Granger Analysis done in {round((time.time() - start)/60, 2)} minutes')"
   ],
   "metadata": {
    "collapsed": false,
    "pycharm": {
     "name": "#%%\n"
    }
   }
  },
  {
   "cell_type": "code",
   "execution_count": null,
   "outputs": [],
   "source": [],
   "metadata": {
    "collapsed": false,
    "pycharm": {
     "name": "#%%\n"
    }
   }
  },
  {
   "cell_type": "code",
   "execution_count": 301,
   "outputs": [],
   "source": [
    "def apply_connectivity(time_series, vect=True, diag=True):\n",
    "\n",
    "    correlation_measure = ConnectivityMeasure(kind='partial correlation',\n",
    "                                              vectorize = vect,\n",
    "                                              discard_diagonal=diag)\n",
    "\n",
    "    return correlation_measure.fit_transform(time_series)"
   ],
   "metadata": {
    "collapsed": false,
    "pycharm": {
     "name": "#%%\n",
     "is_executing": false
    }
   }
  },
  {
   "cell_type": "code",
   "execution_count": 302,
   "outputs": [],
   "source": [
    "correlation_matrices = apply_connectivity(time_series)\n",
    "correlation_test = apply_connectivity(time_series_test)"
   ],
   "metadata": {
    "collapsed": false,
    "pycharm": {
     "name": "#%%\n",
     "is_executing": false
    }
   }
  },
  {
   "cell_type": "code",
   "execution_count": 303,
   "outputs": [
    {
     "data": {
      "text/plain": "array([[-3.65429937e-04, -6.21004741e-03, -5.70190950e-04, ...,\n        -1.76604213e-02,  7.72765761e-03,  3.29291850e-02],\n       [-4.91986566e-04, -5.55966565e-05, -4.38985714e-04, ...,\n         2.75550631e-02,  1.06291358e-02,  2.06050232e-03],\n       [ 6.14522091e-03, -2.50620666e-03, -4.02427778e-03, ...,\n        -1.10529348e-02, -6.55763940e-03,  1.77536219e-02],\n       ...,\n       [ 1.33235653e-03, -6.68156820e-03,  1.16697641e-03, ...,\n        -4.74873626e-02,  2.03675157e-02,  3.75460637e-02],\n       [-1.41345640e-03, -3.51419225e-03,  2.81724477e-03, ...,\n        -6.36356522e-02,  2.06931914e-02,  7.23850604e-02],\n       [ 3.40702685e-04,  9.26106420e-03,  1.60163611e-03, ...,\n        -1.20350223e-02,  3.08039435e-03, -6.81006409e-03]])"
     },
     "metadata": {},
     "output_type": "execute_result",
     "execution_count": 303
    }
   ],
   "source": [
    "correlation_matrices"
   ],
   "metadata": {
    "collapsed": false,
    "pycharm": {
     "name": "#%%\n",
     "is_executing": false
    }
   }
  },
  {
   "cell_type": "code",
   "execution_count": 304,
   "outputs": [],
   "source": [
    "pd.concat([train.iloc[:, :5], pd.DataFrame(correlation_matrices)], axis=1).to_csv('train_corr.csv')\n",
    "pd.concat([test.iloc[:, :4], pd.DataFrame(correlation_test)], axis=1).to_csv('test_corr.csv')"
   ],
   "metadata": {
    "collapsed": false,
    "pycharm": {
     "name": "#%%\n",
     "is_executing": false
    }
   }
  },
  {
   "cell_type": "code",
   "execution_count": 36,
   "outputs": [
    {
     "data": {
      "text/plain": "      id  var1 var2 var3         0         1         2         3         4  \\\n0     17    32    A    A  0.023671 -0.007289 -0.009024  0.007298 -0.003480   \n1     19    11    C    A  0.026247  0.023898 -0.039581 -0.010329 -0.016104   \n2     25    17    A    C  0.011462 -0.002216  0.007523 -0.003675  0.020650   \n3     32    17    A    C -0.000732 -0.006386 -0.020390 -0.014332  0.017277   \n4     33    16    A    C  0.055043 -0.020623 -0.046023  0.012963 -0.024777   \n..   ...   ...  ...  ...       ...       ...       ...       ...       ...   \n194  777    20    A    C -0.003031  0.007281 -0.024983 -0.017637  0.044618   \n195  783    24    A    C  0.012482  0.003675 -0.025090  0.010962  0.035677   \n196  784    24    A    C  0.059117 -0.019442  0.004688 -0.003915  0.041571   \n197  792    29    C    C  0.019908 -0.000896 -0.017489 -0.028130  0.023437   \n198  796    35    A    A  0.030788  0.018785  0.008151  0.000171  0.006319   \n\n            5  ...      6660      6661      6662      6663      6664  \\\n0    0.000240  ...  0.063989 -0.048858  0.054061 -0.228254 -0.062239   \n1   -0.005682  ...  0.086398  0.191093  0.095374 -0.209788  0.026410   \n2    0.006799  ...  0.066654  0.005996  0.099345  0.158647  0.004112   \n3    0.001105  ...  0.087192 -0.120249 -0.001533  0.030498  0.177132   \n4    0.064455  ... -0.000000 -0.000000 -0.000000 -0.000000 -0.000000   \n..        ...  ...       ...       ...       ...       ...       ...   \n194 -0.008667  ...  0.140488 -0.114554 -0.043859  0.306518 -0.035661   \n195  0.012848  ...  0.246349  0.081832  0.060359 -0.243860 -0.027795   \n196 -0.025616  ...  0.288217  0.174798  0.001413  0.005653 -0.174478   \n197  0.000375  ...  0.248101 -0.018863  0.092836  0.503031 -0.266960   \n198  0.013565  ...  0.159952  0.016640  0.025029  0.006417  0.238943   \n\n         6665      6666      6667      6668      6669  \n0    0.001865  0.103494 -0.044311  0.101675 -0.007015  \n1   -0.056142  0.075483  0.030596 -0.038504 -0.118798  \n2    0.244222 -0.036526 -0.177120  0.026056 -0.026664  \n3   -0.031438  0.083403  0.104198  0.042981  0.032002  \n4   -0.000000 -0.000000 -0.000000 -0.000000 -0.000000  \n..        ...       ...       ...       ...       ...  \n194  0.032000 -0.014286 -0.049970  0.145010  0.239272  \n195  0.073448 -0.095433  0.182376 -0.182050  0.381747  \n196  0.037918 -0.085111  0.042151 -0.294607  0.225792  \n197  0.069081  0.307400 -0.216884  0.281473  0.112249  \n198 -0.077197  0.021319  0.106439  0.076083  0.265147  \n\n[199 rows x 6674 columns]",
      "text/html": "<div>\n<style scoped>\n    .dataframe tbody tr th:only-of-type {\n        vertical-align: middle;\n    }\n\n    .dataframe tbody tr th {\n        vertical-align: top;\n    }\n\n    .dataframe thead th {\n        text-align: right;\n    }\n</style>\n<table border=\"1\" class=\"dataframe\">\n  <thead>\n    <tr style=\"text-align: right;\">\n      <th></th>\n      <th>id</th>\n      <th>var1</th>\n      <th>var2</th>\n      <th>var3</th>\n      <th>0</th>\n      <th>1</th>\n      <th>2</th>\n      <th>3</th>\n      <th>4</th>\n      <th>5</th>\n      <th>...</th>\n      <th>6660</th>\n      <th>6661</th>\n      <th>6662</th>\n      <th>6663</th>\n      <th>6664</th>\n      <th>6665</th>\n      <th>6666</th>\n      <th>6667</th>\n      <th>6668</th>\n      <th>6669</th>\n    </tr>\n  </thead>\n  <tbody>\n    <tr>\n      <th>0</th>\n      <td>17</td>\n      <td>32</td>\n      <td>A</td>\n      <td>A</td>\n      <td>0.023671</td>\n      <td>-0.007289</td>\n      <td>-0.009024</td>\n      <td>0.007298</td>\n      <td>-0.003480</td>\n      <td>0.000240</td>\n      <td>...</td>\n      <td>0.063989</td>\n      <td>-0.048858</td>\n      <td>0.054061</td>\n      <td>-0.228254</td>\n      <td>-0.062239</td>\n      <td>0.001865</td>\n      <td>0.103494</td>\n      <td>-0.044311</td>\n      <td>0.101675</td>\n      <td>-0.007015</td>\n    </tr>\n    <tr>\n      <th>1</th>\n      <td>19</td>\n      <td>11</td>\n      <td>C</td>\n      <td>A</td>\n      <td>0.026247</td>\n      <td>0.023898</td>\n      <td>-0.039581</td>\n      <td>-0.010329</td>\n      <td>-0.016104</td>\n      <td>-0.005682</td>\n      <td>...</td>\n      <td>0.086398</td>\n      <td>0.191093</td>\n      <td>0.095374</td>\n      <td>-0.209788</td>\n      <td>0.026410</td>\n      <td>-0.056142</td>\n      <td>0.075483</td>\n      <td>0.030596</td>\n      <td>-0.038504</td>\n      <td>-0.118798</td>\n    </tr>\n    <tr>\n      <th>2</th>\n      <td>25</td>\n      <td>17</td>\n      <td>A</td>\n      <td>C</td>\n      <td>0.011462</td>\n      <td>-0.002216</td>\n      <td>0.007523</td>\n      <td>-0.003675</td>\n      <td>0.020650</td>\n      <td>0.006799</td>\n      <td>...</td>\n      <td>0.066654</td>\n      <td>0.005996</td>\n      <td>0.099345</td>\n      <td>0.158647</td>\n      <td>0.004112</td>\n      <td>0.244222</td>\n      <td>-0.036526</td>\n      <td>-0.177120</td>\n      <td>0.026056</td>\n      <td>-0.026664</td>\n    </tr>\n    <tr>\n      <th>3</th>\n      <td>32</td>\n      <td>17</td>\n      <td>A</td>\n      <td>C</td>\n      <td>-0.000732</td>\n      <td>-0.006386</td>\n      <td>-0.020390</td>\n      <td>-0.014332</td>\n      <td>0.017277</td>\n      <td>0.001105</td>\n      <td>...</td>\n      <td>0.087192</td>\n      <td>-0.120249</td>\n      <td>-0.001533</td>\n      <td>0.030498</td>\n      <td>0.177132</td>\n      <td>-0.031438</td>\n      <td>0.083403</td>\n      <td>0.104198</td>\n      <td>0.042981</td>\n      <td>0.032002</td>\n    </tr>\n    <tr>\n      <th>4</th>\n      <td>33</td>\n      <td>16</td>\n      <td>A</td>\n      <td>C</td>\n      <td>0.055043</td>\n      <td>-0.020623</td>\n      <td>-0.046023</td>\n      <td>0.012963</td>\n      <td>-0.024777</td>\n      <td>0.064455</td>\n      <td>...</td>\n      <td>-0.000000</td>\n      <td>-0.000000</td>\n      <td>-0.000000</td>\n      <td>-0.000000</td>\n      <td>-0.000000</td>\n      <td>-0.000000</td>\n      <td>-0.000000</td>\n      <td>-0.000000</td>\n      <td>-0.000000</td>\n      <td>-0.000000</td>\n    </tr>\n    <tr>\n      <th>...</th>\n      <td>...</td>\n      <td>...</td>\n      <td>...</td>\n      <td>...</td>\n      <td>...</td>\n      <td>...</td>\n      <td>...</td>\n      <td>...</td>\n      <td>...</td>\n      <td>...</td>\n      <td>...</td>\n      <td>...</td>\n      <td>...</td>\n      <td>...</td>\n      <td>...</td>\n      <td>...</td>\n      <td>...</td>\n      <td>...</td>\n      <td>...</td>\n      <td>...</td>\n      <td>...</td>\n    </tr>\n    <tr>\n      <th>194</th>\n      <td>777</td>\n      <td>20</td>\n      <td>A</td>\n      <td>C</td>\n      <td>-0.003031</td>\n      <td>0.007281</td>\n      <td>-0.024983</td>\n      <td>-0.017637</td>\n      <td>0.044618</td>\n      <td>-0.008667</td>\n      <td>...</td>\n      <td>0.140488</td>\n      <td>-0.114554</td>\n      <td>-0.043859</td>\n      <td>0.306518</td>\n      <td>-0.035661</td>\n      <td>0.032000</td>\n      <td>-0.014286</td>\n      <td>-0.049970</td>\n      <td>0.145010</td>\n      <td>0.239272</td>\n    </tr>\n    <tr>\n      <th>195</th>\n      <td>783</td>\n      <td>24</td>\n      <td>A</td>\n      <td>C</td>\n      <td>0.012482</td>\n      <td>0.003675</td>\n      <td>-0.025090</td>\n      <td>0.010962</td>\n      <td>0.035677</td>\n      <td>0.012848</td>\n      <td>...</td>\n      <td>0.246349</td>\n      <td>0.081832</td>\n      <td>0.060359</td>\n      <td>-0.243860</td>\n      <td>-0.027795</td>\n      <td>0.073448</td>\n      <td>-0.095433</td>\n      <td>0.182376</td>\n      <td>-0.182050</td>\n      <td>0.381747</td>\n    </tr>\n    <tr>\n      <th>196</th>\n      <td>784</td>\n      <td>24</td>\n      <td>A</td>\n      <td>C</td>\n      <td>0.059117</td>\n      <td>-0.019442</td>\n      <td>0.004688</td>\n      <td>-0.003915</td>\n      <td>0.041571</td>\n      <td>-0.025616</td>\n      <td>...</td>\n      <td>0.288217</td>\n      <td>0.174798</td>\n      <td>0.001413</td>\n      <td>0.005653</td>\n      <td>-0.174478</td>\n      <td>0.037918</td>\n      <td>-0.085111</td>\n      <td>0.042151</td>\n      <td>-0.294607</td>\n      <td>0.225792</td>\n    </tr>\n    <tr>\n      <th>197</th>\n      <td>792</td>\n      <td>29</td>\n      <td>C</td>\n      <td>C</td>\n      <td>0.019908</td>\n      <td>-0.000896</td>\n      <td>-0.017489</td>\n      <td>-0.028130</td>\n      <td>0.023437</td>\n      <td>0.000375</td>\n      <td>...</td>\n      <td>0.248101</td>\n      <td>-0.018863</td>\n      <td>0.092836</td>\n      <td>0.503031</td>\n      <td>-0.266960</td>\n      <td>0.069081</td>\n      <td>0.307400</td>\n      <td>-0.216884</td>\n      <td>0.281473</td>\n      <td>0.112249</td>\n    </tr>\n    <tr>\n      <th>198</th>\n      <td>796</td>\n      <td>35</td>\n      <td>A</td>\n      <td>A</td>\n      <td>0.030788</td>\n      <td>0.018785</td>\n      <td>0.008151</td>\n      <td>0.000171</td>\n      <td>0.006319</td>\n      <td>0.013565</td>\n      <td>...</td>\n      <td>0.159952</td>\n      <td>0.016640</td>\n      <td>0.025029</td>\n      <td>0.006417</td>\n      <td>0.238943</td>\n      <td>-0.077197</td>\n      <td>0.021319</td>\n      <td>0.106439</td>\n      <td>0.076083</td>\n      <td>0.265147</td>\n    </tr>\n  </tbody>\n</table>\n<p>199 rows × 6674 columns</p>\n</div>"
     },
     "metadata": {},
     "output_type": "execute_result",
     "execution_count": 36
    }
   ],
   "source": [
    "pd.concat([test.iloc[:, :4], pd.DataFrame(correlation_test)], axis=1)"
   ],
   "metadata": {
    "collapsed": false,
    "pycharm": {
     "name": "#%%\n",
     "is_executing": false
    }
   }
  },
  {
   "cell_type": "code",
   "execution_count": 40,
   "outputs": [],
   "source": [
    "y_train = train.loc[:, 'y']\n",
    "X_train = train.drop(columns=['y'])"
   ],
   "metadata": {
    "collapsed": false,
    "pycharm": {
     "name": "#%%\n",
     "is_executing": false
    }
   }
  },
  {
   "cell_type": "code",
   "execution_count": 45,
   "outputs": [
    {
     "data": {
      "text/plain": "(600, 13344)"
     },
     "metadata": {},
     "output_type": "execute_result",
     "execution_count": 45
    }
   ],
   "source": [],
   "metadata": {
    "collapsed": false,
    "pycharm": {
     "name": "#%%\n",
     "is_executing": false
    }
   }
  },
  {
   "cell_type": "code",
   "execution_count": 55,
   "outputs": [
    {
     "data": {
      "text/plain": "(600, 599)"
     },
     "metadata": {},
     "output_type": "execute_result",
     "execution_count": 55
    }
   ],
   "source": [
    "from sklearn.decomposition import KernelPCA\n",
    "transformer = KernelPCA(kernel='rbf')\n",
    "X_transformed = transformer.fit_transform(correlation_matrices)\n",
    "X_transformed.shape"
   ],
   "metadata": {
    "collapsed": false,
    "pycharm": {
     "name": "#%%\n",
     "is_executing": false
    }
   }
  },
  {
   "cell_type": "code",
   "execution_count": 56,
   "outputs": [],
   "source": [
    "X_trans_test = transformer.transform(correlation_test)"
   ],
   "metadata": {
    "collapsed": false,
    "pycharm": {
     "name": "#%%\n",
     "is_executing": false
    }
   }
  },
  {
   "cell_type": "code",
   "execution_count": 57,
   "outputs": [],
   "source": [
    "pd.concat([X_train.iloc[:, :4], y_train, pd.DataFrame(X_transformed)], axis=1).to_csv('train_pca.csv', index=False)\n",
    "pd.concat([test.iloc[:, :4], pd.DataFrame(X_trans_test)], axis=1).to_csv('test_pca.csv', index=False)\n"
   ],
   "metadata": {
    "collapsed": false,
    "pycharm": {
     "name": "#%%\n",
     "is_executing": false
    }
   }
  }
 ],
 "metadata": {
  "kernelspec": {
   "name": "pycharm-259008c8",
   "language": "python",
   "display_name": "PyCharm (NBD-Labwork)"
  },
  "language_info": {
   "codemirror_mode": {
    "name": "ipython",
    "version": 3
   },
   "file_extension": ".py",
   "mimetype": "text/x-python",
   "name": "python",
   "nbconvert_exporter": "python",
   "pygments_lexer": "ipython3",
   "version": "3.7.10"
  },
  "papermill": {
   "default_parameters": {},
   "duration": 28.082509,
   "end_time": "2021-06-28T09:53:45.178880",
   "environment_variables": {},
   "exception": null,
   "input_path": "__notebook__.ipynb",
   "output_path": "__notebook__.ipynb",
   "parameters": {},
   "start_time": "2021-06-28T09:53:17.096371",
   "version": "2.3.3"
  },
  "pycharm": {
   "stem_cell": {
    "cell_type": "raw",
    "source": [],
    "metadata": {
     "collapsed": false
    }
   }
  }
 },
 "nbformat": 4,
 "nbformat_minor": 5
}