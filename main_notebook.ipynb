{
 "cells": [
  {
   "cell_type": "code",
   "execution_count": 3,
   "outputs": [
    {
     "name": "stderr",
     "text": [
      "C:\\Users\\simon\\Anaconda3\\lib\\site-packages\\nilearn\\datasets\\__init__.py:86: FutureWarning: Fetchers from the nilearn.datasets module will be updated in version 0.9 to return python strings instead of bytes and Pandas dataframes instead of Numpy arrays.\n",
      "  warn(\"Fetchers from the nilearn.datasets module will be \"\n"
     ],
     "output_type": "stream"
    }
   ],
   "source": [
    "# basic imports\n",
    "import numpy as np\n",
    "import pandas as pd\n",
    "\n",
    "# demos for visualization\n",
    "from nilearn import datasets\n",
    "from nilearn import plotting\n",
    "from nilearn.connectome import GroupSparseCovariance\n",
    "from nilearn.connectome import ConnectivityMeasure\n",
    "\n",
    "# for ML\n",
    "from sklearn.metrics import mutual_info_score\n",
    "\n",
    "# os library\n",
    "from os.path import exists, join"
   ],
   "metadata": {
    "collapsed": false,
    "pycharm": {
     "name": "#%%\n",
     "is_executing": false
    }
   }
  },
  {
   "cell_type": "code",
   "execution_count": 4,
   "id": "blessed-register",
   "metadata": {
    "execution": {
     "iopub.execute_input": "2021-06-28T09:53:27.478513Z",
     "iopub.status.busy": "2021-06-28T09:53:27.474676Z",
     "iopub.status.idle": "2021-06-28T09:53:35.422989Z",
     "shell.execute_reply": "2021-06-28T09:53:35.421589Z",
     "shell.execute_reply.started": "2021-06-28T06:49:00.608859Z"
    },
    "papermill": {
     "duration": 7.970231,
     "end_time": "2021-06-28T09:53:35.423239",
     "exception": false,
     "start_time": "2021-06-28T09:53:27.453008",
     "status": "completed"
    },
    "tags": [],
    "pycharm": {
     "is_executing": false
    }
   },
   "outputs": [],
   "source": [
    "data_path = join(\".\", \"data\") if exists(join(\".\", \"data\")) \\\n",
    "    else join(\"..\", \"input\", \"statistical-learning-sapienza-spring-2021\")"
   ]
  },
  {
   "cell_type": "code",
   "execution_count": 27,
   "outputs": [],
   "source": [
    "train = pd.read_csv(join(data_path, 'train.csv'))\n",
    "test = pd.read_csv(join(data_path, 'test.csv'))"
   ],
   "metadata": {
    "collapsed": false,
    "pycharm": {
     "name": "#%%\n",
     "is_executing": false
    }
   }
  },
  {
   "cell_type": "code",
   "execution_count": 13,
   "outputs": [
    {
     "data": {
      "text/plain": "600"
     },
     "metadata": {},
     "output_type": "execute_result",
     "execution_count": 13
    }
   ],
   "source": [
    "len(train.id.values)\n",
    "len(train.index.values)"
   ],
   "metadata": {
    "collapsed": false,
    "pycharm": {
     "name": "#%%\n",
     "is_executing": false
    }
   }
  },
  {
   "cell_type": "code",
   "execution_count": 14,
   "outputs": [],
   "source": [
    "def get_data(entry):\n",
    "    id = entry.id\n",
    "    variables = entry[['var1', 'var2', 'var3']].to_numpy()\n",
    "    timeseries = entry[5 if \"y\" in entry.index else 4:].to_numpy(dtype=float).reshape((115, 116), order=\"F\")\n",
    "    if \"y\" in entry.index: return id, entry.y, variables, timeseries\n",
    "    else: return id, variables, timeseries"
   ],
   "metadata": {
    "collapsed": false,
    "pycharm": {
     "name": "#%%\n",
     "is_executing": false
    }
   }
  },
  {
   "cell_type": "code",
   "execution_count": 15,
   "outputs": [
    {
     "data": {
      "text/plain": "GroupSparseCovariance()"
     },
     "metadata": {},
     "output_type": "execute_result",
     "execution_count": 15
    }
   ],
   "source": [
    "time_series = train.apply(lambda row: get_data(row)[-1], axis=1).to_list()\n",
    "\n",
    "GroupSparseCovariance()"
   ],
   "metadata": {
    "collapsed": false,
    "pycharm": {
     "name": "#%%\n",
     "is_executing": false
    }
   }
  },
  {
   "cell_type": "code",
   "execution_count": 28,
   "outputs": [],
   "source": [
    "time_series_test = test.apply(lambda row: get_data(row)[-1], axis=1).to_list()"
   ],
   "metadata": {
    "collapsed": false,
    "pycharm": {
     "name": "#%%\n",
     "is_executing": false
    }
   }
  },
  {
   "cell_type": "code",
   "execution_count": null,
   "outputs": [],
   "source": [
    "def apply_connectivity(time_series, vect=True, diag=True):\n",
    "\n",
    "    correlation_measure = ConnectivityMeasure(kind='partial correlation',\n",
    "                                              vectorize = vect,\n",
    "                                              discard_diagonal=diag)\n",
    "\n",
    "    return correlation_measure.fit_transform(time_series)"
   ],
   "metadata": {
    "collapsed": false,
    "pycharm": {
     "name": "#%%\n"
    }
   }
  },
  {
   "cell_type": "code",
   "execution_count": 30,
   "outputs": [],
   "source": [
    "correlation_matrices = apply_connectivity(time_series)\n",
    "correlation_test = apply_connectivity(time_series_test)"
   ],
   "metadata": {
    "collapsed": false,
    "pycharm": {
     "name": "#%%\n",
     "is_executing": false
    }
   }
  },
  {
   "cell_type": "code",
   "execution_count": 18,
   "outputs": [
    {
     "data": {
      "text/plain": "array([[ 0.00637566,  0.01222776, -0.0257102 , ..., -0.02211248,\n         0.05410901,  0.1392692 ],\n       [ 0.0222867 ,  0.01343907, -0.02063951, ...,  0.07509686,\n        -0.02293725, -0.07659659],\n       [ 0.01665948,  0.00562362,  0.00429343, ..., -0.0018096 ,\n         0.15409605,  0.04340404],\n       ...,\n       [ 0.03150218,  0.04496332,  0.02761484, ...,  0.20413376,\n         0.14613533,  0.1512237 ],\n       [ 0.04014914,  0.03154995, -0.04058971, ...,  0.01371451,\n         0.06975417, -0.23536263],\n       [ 0.01643078, -0.01265283, -0.00270768, ..., -0.01242908,\n         0.06171285,  0.18588571]])"
     },
     "metadata": {},
     "output_type": "execute_result",
     "execution_count": 18
    }
   ],
   "source": [
    "correlation_matrices\n"
   ],
   "metadata": {
    "collapsed": false,
    "pycharm": {
     "name": "#%%\n",
     "is_executing": false
    }
   }
  },
  {
   "cell_type": "code",
   "execution_count": 35,
   "outputs": [],
   "source": [
    "pd.concat([train.iloc[:, :5], pd.DataFrame(correlation_matrices)], axis=1).to_csv('train_corr.csv')\n",
    "pd.concat([test.iloc[:, :4], pd.DataFrame(correlation_test)], axis=1).to_csv('test_corr.csv')"
   ],
   "metadata": {
    "collapsed": false,
    "pycharm": {
     "name": "#%%\n",
     "is_executing": false
    }
   }
  },
  {
   "cell_type": "code",
   "execution_count": 36,
   "outputs": [
    {
     "data": {
      "text/plain": "      id  var1 var2 var3         0         1         2         3         4  \\\n0     17    32    A    A  0.023671 -0.007289 -0.009024  0.007298 -0.003480   \n1     19    11    C    A  0.026247  0.023898 -0.039581 -0.010329 -0.016104   \n2     25    17    A    C  0.011462 -0.002216  0.007523 -0.003675  0.020650   \n3     32    17    A    C -0.000732 -0.006386 -0.020390 -0.014332  0.017277   \n4     33    16    A    C  0.055043 -0.020623 -0.046023  0.012963 -0.024777   \n..   ...   ...  ...  ...       ...       ...       ...       ...       ...   \n194  777    20    A    C -0.003031  0.007281 -0.024983 -0.017637  0.044618   \n195  783    24    A    C  0.012482  0.003675 -0.025090  0.010962  0.035677   \n196  784    24    A    C  0.059117 -0.019442  0.004688 -0.003915  0.041571   \n197  792    29    C    C  0.019908 -0.000896 -0.017489 -0.028130  0.023437   \n198  796    35    A    A  0.030788  0.018785  0.008151  0.000171  0.006319   \n\n            5  ...      6660      6661      6662      6663      6664  \\\n0    0.000240  ...  0.063989 -0.048858  0.054061 -0.228254 -0.062239   \n1   -0.005682  ...  0.086398  0.191093  0.095374 -0.209788  0.026410   \n2    0.006799  ...  0.066654  0.005996  0.099345  0.158647  0.004112   \n3    0.001105  ...  0.087192 -0.120249 -0.001533  0.030498  0.177132   \n4    0.064455  ... -0.000000 -0.000000 -0.000000 -0.000000 -0.000000   \n..        ...  ...       ...       ...       ...       ...       ...   \n194 -0.008667  ...  0.140488 -0.114554 -0.043859  0.306518 -0.035661   \n195  0.012848  ...  0.246349  0.081832  0.060359 -0.243860 -0.027795   \n196 -0.025616  ...  0.288217  0.174798  0.001413  0.005653 -0.174478   \n197  0.000375  ...  0.248101 -0.018863  0.092836  0.503031 -0.266960   \n198  0.013565  ...  0.159952  0.016640  0.025029  0.006417  0.238943   \n\n         6665      6666      6667      6668      6669  \n0    0.001865  0.103494 -0.044311  0.101675 -0.007015  \n1   -0.056142  0.075483  0.030596 -0.038504 -0.118798  \n2    0.244222 -0.036526 -0.177120  0.026056 -0.026664  \n3   -0.031438  0.083403  0.104198  0.042981  0.032002  \n4   -0.000000 -0.000000 -0.000000 -0.000000 -0.000000  \n..        ...       ...       ...       ...       ...  \n194  0.032000 -0.014286 -0.049970  0.145010  0.239272  \n195  0.073448 -0.095433  0.182376 -0.182050  0.381747  \n196  0.037918 -0.085111  0.042151 -0.294607  0.225792  \n197  0.069081  0.307400 -0.216884  0.281473  0.112249  \n198 -0.077197  0.021319  0.106439  0.076083  0.265147  \n\n[199 rows x 6674 columns]",
      "text/html": "<div>\n<style scoped>\n    .dataframe tbody tr th:only-of-type {\n        vertical-align: middle;\n    }\n\n    .dataframe tbody tr th {\n        vertical-align: top;\n    }\n\n    .dataframe thead th {\n        text-align: right;\n    }\n</style>\n<table border=\"1\" class=\"dataframe\">\n  <thead>\n    <tr style=\"text-align: right;\">\n      <th></th>\n      <th>id</th>\n      <th>var1</th>\n      <th>var2</th>\n      <th>var3</th>\n      <th>0</th>\n      <th>1</th>\n      <th>2</th>\n      <th>3</th>\n      <th>4</th>\n      <th>5</th>\n      <th>...</th>\n      <th>6660</th>\n      <th>6661</th>\n      <th>6662</th>\n      <th>6663</th>\n      <th>6664</th>\n      <th>6665</th>\n      <th>6666</th>\n      <th>6667</th>\n      <th>6668</th>\n      <th>6669</th>\n    </tr>\n  </thead>\n  <tbody>\n    <tr>\n      <th>0</th>\n      <td>17</td>\n      <td>32</td>\n      <td>A</td>\n      <td>A</td>\n      <td>0.023671</td>\n      <td>-0.007289</td>\n      <td>-0.009024</td>\n      <td>0.007298</td>\n      <td>-0.003480</td>\n      <td>0.000240</td>\n      <td>...</td>\n      <td>0.063989</td>\n      <td>-0.048858</td>\n      <td>0.054061</td>\n      <td>-0.228254</td>\n      <td>-0.062239</td>\n      <td>0.001865</td>\n      <td>0.103494</td>\n      <td>-0.044311</td>\n      <td>0.101675</td>\n      <td>-0.007015</td>\n    </tr>\n    <tr>\n      <th>1</th>\n      <td>19</td>\n      <td>11</td>\n      <td>C</td>\n      <td>A</td>\n      <td>0.026247</td>\n      <td>0.023898</td>\n      <td>-0.039581</td>\n      <td>-0.010329</td>\n      <td>-0.016104</td>\n      <td>-0.005682</td>\n      <td>...</td>\n      <td>0.086398</td>\n      <td>0.191093</td>\n      <td>0.095374</td>\n      <td>-0.209788</td>\n      <td>0.026410</td>\n      <td>-0.056142</td>\n      <td>0.075483</td>\n      <td>0.030596</td>\n      <td>-0.038504</td>\n      <td>-0.118798</td>\n    </tr>\n    <tr>\n      <th>2</th>\n      <td>25</td>\n      <td>17</td>\n      <td>A</td>\n      <td>C</td>\n      <td>0.011462</td>\n      <td>-0.002216</td>\n      <td>0.007523</td>\n      <td>-0.003675</td>\n      <td>0.020650</td>\n      <td>0.006799</td>\n      <td>...</td>\n      <td>0.066654</td>\n      <td>0.005996</td>\n      <td>0.099345</td>\n      <td>0.158647</td>\n      <td>0.004112</td>\n      <td>0.244222</td>\n      <td>-0.036526</td>\n      <td>-0.177120</td>\n      <td>0.026056</td>\n      <td>-0.026664</td>\n    </tr>\n    <tr>\n      <th>3</th>\n      <td>32</td>\n      <td>17</td>\n      <td>A</td>\n      <td>C</td>\n      <td>-0.000732</td>\n      <td>-0.006386</td>\n      <td>-0.020390</td>\n      <td>-0.014332</td>\n      <td>0.017277</td>\n      <td>0.001105</td>\n      <td>...</td>\n      <td>0.087192</td>\n      <td>-0.120249</td>\n      <td>-0.001533</td>\n      <td>0.030498</td>\n      <td>0.177132</td>\n      <td>-0.031438</td>\n      <td>0.083403</td>\n      <td>0.104198</td>\n      <td>0.042981</td>\n      <td>0.032002</td>\n    </tr>\n    <tr>\n      <th>4</th>\n      <td>33</td>\n      <td>16</td>\n      <td>A</td>\n      <td>C</td>\n      <td>0.055043</td>\n      <td>-0.020623</td>\n      <td>-0.046023</td>\n      <td>0.012963</td>\n      <td>-0.024777</td>\n      <td>0.064455</td>\n      <td>...</td>\n      <td>-0.000000</td>\n      <td>-0.000000</td>\n      <td>-0.000000</td>\n      <td>-0.000000</td>\n      <td>-0.000000</td>\n      <td>-0.000000</td>\n      <td>-0.000000</td>\n      <td>-0.000000</td>\n      <td>-0.000000</td>\n      <td>-0.000000</td>\n    </tr>\n    <tr>\n      <th>...</th>\n      <td>...</td>\n      <td>...</td>\n      <td>...</td>\n      <td>...</td>\n      <td>...</td>\n      <td>...</td>\n      <td>...</td>\n      <td>...</td>\n      <td>...</td>\n      <td>...</td>\n      <td>...</td>\n      <td>...</td>\n      <td>...</td>\n      <td>...</td>\n      <td>...</td>\n      <td>...</td>\n      <td>...</td>\n      <td>...</td>\n      <td>...</td>\n      <td>...</td>\n      <td>...</td>\n    </tr>\n    <tr>\n      <th>194</th>\n      <td>777</td>\n      <td>20</td>\n      <td>A</td>\n      <td>C</td>\n      <td>-0.003031</td>\n      <td>0.007281</td>\n      <td>-0.024983</td>\n      <td>-0.017637</td>\n      <td>0.044618</td>\n      <td>-0.008667</td>\n      <td>...</td>\n      <td>0.140488</td>\n      <td>-0.114554</td>\n      <td>-0.043859</td>\n      <td>0.306518</td>\n      <td>-0.035661</td>\n      <td>0.032000</td>\n      <td>-0.014286</td>\n      <td>-0.049970</td>\n      <td>0.145010</td>\n      <td>0.239272</td>\n    </tr>\n    <tr>\n      <th>195</th>\n      <td>783</td>\n      <td>24</td>\n      <td>A</td>\n      <td>C</td>\n      <td>0.012482</td>\n      <td>0.003675</td>\n      <td>-0.025090</td>\n      <td>0.010962</td>\n      <td>0.035677</td>\n      <td>0.012848</td>\n      <td>...</td>\n      <td>0.246349</td>\n      <td>0.081832</td>\n      <td>0.060359</td>\n      <td>-0.243860</td>\n      <td>-0.027795</td>\n      <td>0.073448</td>\n      <td>-0.095433</td>\n      <td>0.182376</td>\n      <td>-0.182050</td>\n      <td>0.381747</td>\n    </tr>\n    <tr>\n      <th>196</th>\n      <td>784</td>\n      <td>24</td>\n      <td>A</td>\n      <td>C</td>\n      <td>0.059117</td>\n      <td>-0.019442</td>\n      <td>0.004688</td>\n      <td>-0.003915</td>\n      <td>0.041571</td>\n      <td>-0.025616</td>\n      <td>...</td>\n      <td>0.288217</td>\n      <td>0.174798</td>\n      <td>0.001413</td>\n      <td>0.005653</td>\n      <td>-0.174478</td>\n      <td>0.037918</td>\n      <td>-0.085111</td>\n      <td>0.042151</td>\n      <td>-0.294607</td>\n      <td>0.225792</td>\n    </tr>\n    <tr>\n      <th>197</th>\n      <td>792</td>\n      <td>29</td>\n      <td>C</td>\n      <td>C</td>\n      <td>0.019908</td>\n      <td>-0.000896</td>\n      <td>-0.017489</td>\n      <td>-0.028130</td>\n      <td>0.023437</td>\n      <td>0.000375</td>\n      <td>...</td>\n      <td>0.248101</td>\n      <td>-0.018863</td>\n      <td>0.092836</td>\n      <td>0.503031</td>\n      <td>-0.266960</td>\n      <td>0.069081</td>\n      <td>0.307400</td>\n      <td>-0.216884</td>\n      <td>0.281473</td>\n      <td>0.112249</td>\n    </tr>\n    <tr>\n      <th>198</th>\n      <td>796</td>\n      <td>35</td>\n      <td>A</td>\n      <td>A</td>\n      <td>0.030788</td>\n      <td>0.018785</td>\n      <td>0.008151</td>\n      <td>0.000171</td>\n      <td>0.006319</td>\n      <td>0.013565</td>\n      <td>...</td>\n      <td>0.159952</td>\n      <td>0.016640</td>\n      <td>0.025029</td>\n      <td>0.006417</td>\n      <td>0.238943</td>\n      <td>-0.077197</td>\n      <td>0.021319</td>\n      <td>0.106439</td>\n      <td>0.076083</td>\n      <td>0.265147</td>\n    </tr>\n  </tbody>\n</table>\n<p>199 rows × 6674 columns</p>\n</div>"
     },
     "metadata": {},
     "output_type": "execute_result",
     "execution_count": 36
    }
   ],
   "source": [
    "pd.concat([test.iloc[:, :4], pd.DataFrame(correlation_test)], axis=1)"
   ],
   "metadata": {
    "collapsed": false,
    "pycharm": {
     "name": "#%%\n",
     "is_executing": false
    }
   }
  },
  {
   "cell_type": "code",
   "execution_count": 40,
   "outputs": [],
   "source": [
    "y_train = train.loc[:, 'y']\n",
    "X_train = train.drop(columns=['y'])"
   ],
   "metadata": {
    "collapsed": false,
    "pycharm": {
     "name": "#%%\n",
     "is_executing": false
    }
   }
  },
  {
   "cell_type": "code",
   "execution_count": 45,
   "outputs": [
    {
     "data": {
      "text/plain": "(600, 13344)"
     },
     "metadata": {},
     "output_type": "execute_result",
     "execution_count": 45
    }
   ],
   "source": [],
   "metadata": {
    "collapsed": false,
    "pycharm": {
     "name": "#%%\n",
     "is_executing": false
    }
   }
  },
  {
   "cell_type": "code",
   "execution_count": 55,
   "outputs": [
    {
     "data": {
      "text/plain": "(600, 599)"
     },
     "metadata": {},
     "output_type": "execute_result",
     "execution_count": 55
    }
   ],
   "source": [
    "from sklearn.decomposition import KernelPCA\n",
    "transformer = KernelPCA(kernel='rbf')\n",
    "X_transformed = transformer.fit_transform(correlation_matrices)\n",
    "X_transformed.shape"
   ],
   "metadata": {
    "collapsed": false,
    "pycharm": {
     "name": "#%%\n",
     "is_executing": false
    }
   }
  },
  {
   "cell_type": "code",
   "execution_count": 56,
   "outputs": [],
   "source": [
    "X_trans_test = transformer.transform(correlation_test)"
   ],
   "metadata": {
    "collapsed": false,
    "pycharm": {
     "name": "#%%\n",
     "is_executing": false
    }
   }
  },
  {
   "cell_type": "code",
   "execution_count": 57,
   "outputs": [],
   "source": [
    "pd.concat([X_train.iloc[:, :4], y_train, pd.DataFrame(X_transformed)], axis=1).to_csv('train_pca.csv', index=False)\n",
    "pd.concat([test.iloc[:, :4], pd.DataFrame(X_trans_test)], axis=1).to_csv('test_pca.csv', index=False)\n"
   ],
   "metadata": {
    "collapsed": false,
    "pycharm": {
     "name": "#%%\n",
     "is_executing": false
    }
   }
  }
 ],
 "metadata": {
  "kernelspec": {
   "name": "pycharm-259008c8",
   "language": "python",
   "display_name": "PyCharm (NBD-Labwork)"
  },
  "language_info": {
   "codemirror_mode": {
    "name": "ipython",
    "version": 3
   },
   "file_extension": ".py",
   "mimetype": "text/x-python",
   "name": "python",
   "nbconvert_exporter": "python",
   "pygments_lexer": "ipython3",
   "version": "3.7.10"
  },
  "papermill": {
   "default_parameters": {},
   "duration": 28.082509,
   "end_time": "2021-06-28T09:53:45.178880",
   "environment_variables": {},
   "exception": null,
   "input_path": "__notebook__.ipynb",
   "output_path": "__notebook__.ipynb",
   "parameters": {},
   "start_time": "2021-06-28T09:53:17.096371",
   "version": "2.3.3"
  },
  "pycharm": {
   "stem_cell": {
    "cell_type": "raw",
    "source": [],
    "metadata": {
     "collapsed": false
    }
   }
  }
 },
 "nbformat": 4,
 "nbformat_minor": 5
}